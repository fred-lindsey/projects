{
 "cells": [
  {
   "cell_type": "markdown",
   "id": "69a823b5",
   "metadata": {},
   "source": [
    "<h1> Predicting Single Family Home Prices </h1>\n",
    "<h2> 1. Planning and Process Map </h2>\n",
    "<br>"
   ]
  },
  {
   "cell_type": "markdown",
   "id": "d3c58916",
   "metadata": {},
   "source": [
    "<h3>A. Timeline:</h3>\n",
    "<br>\n",
    "    - present THU, 09 JUNE\n",
    "    <br>\n",
    "    - division of time: \n",
    "    <br>\n",
    "        - Monday - wrangle, explore and test statistically\n",
    "        <br>\n",
    "        - Tuesday - model and produce final notebook, README and refine all helper functions and notation\n",
    "        <br>\n",
    "        - Wednesday - finalize notebook and supporting materials, write script, time presentation\n",
    "        <br>"
   ]
  },
  {
   "cell_type": "markdown",
   "id": "f2d04220",
   "metadata": {},
   "source": [
    "<h3> B. Business Deliverables and  Questions to Answer: </h3>\n",
    "<br>\n",
    "<br>\n",
    "- Construct an ML Regression model that predict propery tax assessed values ('taxvaluedollarcnt') of Single Family Properties using attributes of the properties.\n",
    "<br>\n",
    "<br>\n",
    "- Find the key drivers of property value for single family properties. Some questions that come to mind are: Why do some properties have a much higher value than others when they are located so close to each other? Why are some properties valued so differently from others when they have nearly the same physical attributes but only differ in location? Is having 1 bathroom worse than having 2 bedrooms?\n",
    "<b> Frame home value in terms of both attributes and location </b>\n",
    "<br>\n",
    "<br>\n",
    "- Deliver a report that the data science team can read through and replicate, understand what steps were taken, why and what the outcome was.\n",
    "<br>\n",
    "<br>\n",
    "- Make recommendations on what works or doesn't work in prediction these homes' values."
   ]
  },
  {
   "cell_type": "markdown",
   "id": "36dea147",
   "metadata": {},
   "source": [
    "<h3> C. DS pipeline and Linear Regression specific tasks: </h3>\n",
    "<br>\n",
    "    a. Acquire/Wrangle Data\n",
    "    <br>\n",
    "        i. properties_2017, predictions_2017, propertylandusetype tables from SQL query in the zillow data set\n",
    "        <br>\n",
    "        ii. Remove nulls, outliers, and unneeded columns\n",
    "    <br>\n",
    "        iii. Run distributions to view data at 30k feet (get a sense for dataset)\n",
    "    <br>\n",
    "        iv. split data into train, validate, test\n",
    "    <br>\n",
    "    b. Explore Data:\n",
    "        <br>\n",
    "        i. hypothesize/pose questions, visually explore relationships with bivariate stats, produce subsets of interest, answer hypotheses visually, statistically, and in English\n",
    "        <br>\n",
    "        ii. produce synthetic columns if needed (BR/BD count, groupby's)\n",
    "        <br>\n",
    "   c. Modeling:\n",
    "       <br>\n",
    "       i. create a scaled copy of the data frame (don't scale target variable)\n",
    "       <br>\n",
    "       ii. create a data frame with predictors, target, baseline prediction, and error for baseline, Zillow's 2017 predicitons, and Zillow error.\n",
    "       <br>\n",
    "       iii. produce at least 4 models (more if time allows), and add to the DataFrame, as well as prediction error for each model.\n",
    "           - a. error units will be RMSE (dollars)\n",
    "       <br>\n",
    "       iv. compare model's performance to the baseline, and the Zillow predicitive model performance.\n",
    "    <br>\n",
    "   d. Report\n",
    "   <br>\n",
    "       i. Produce a clean notebook and README, with HTML and visuals\n",
    "       <br>\n",
    "       ii. Docstrings on all functions\n",
    "       <br>\n",
    "       iii. make script/outline, time presentation\n",
    "       <br>"
   ]
  },
  {
   "cell_type": "markdown",
   "id": "ac37a65c",
   "metadata": {},
   "source": [
    "<h4> Note: Data to Use: </h4>\n",
    "<br>\n",
    "- properties_2017, predictions_2017, propertylandusetype tables\n",
    "<br>\n",
    "<h4> Note: Data to Exclude: </h4>\n",
    "<br>\n",
    "- taxvaluedollarcnt, landtaxvaluedollarcnt, structuretaxvaluedollrcnt, taxamount"
   ]
  },
  {
   "cell_type": "markdown",
   "id": "96430c43",
   "metadata": {},
   "source": [
    "<h2> 2. Acquisition </h2>"
   ]
  },
  {
   "cell_type": "markdown",
   "id": "352868a0",
   "metadata": {},
   "source": [
    "- a. SQL query to acquire and prep tables from Zillow tables: properties_2017, predictions_2017, propertylandusetype tables\n",
    "- b. target variable: taxvaluedollarcnt (price) for single family homes\n",
    "- c. columns of interest:\n",
    "    - properties_2017: calculatedfinishedsqft AS home_sq_ft, garagecarcnt, fips AS county, lotsizesquarefeet AS lot_size, roomcnt as room_count, taxvaluedollarcnt as tax_assessed_price, fips as county\n",
    "    - predictions_2017 (77614): parcelid, logerror\n",
    "    - propertylandusetables: id and desc"
   ]
  },
  {
   "cell_type": "code",
   "execution_count": 1,
   "id": "15e3235f",
   "metadata": {},
   "outputs": [],
   "source": [
    "import warnings\n",
    "warnings.filterwarnings(\"ignore\")\n",
    "\n",
    "import pandas as pd\n",
    "import matplotlib.pyplot as plt\n",
    "import seaborn as sns\n",
    "import numpy as np\n",
    "from scipy import stats\n",
    "import env\n",
    "import os\n",
    "import sklearn.preprocessing\n",
    "from sklearn.model_selection import train_test_split"
   ]
  },
  {
   "cell_type": "code",
   "execution_count": 2,
   "id": "4f8cf7dd",
   "metadata": {},
   "outputs": [],
   "source": [
    "import wrangle"
   ]
  },
  {
   "cell_type": "code",
   "execution_count": 3,
   "id": "6eb34142",
   "metadata": {},
   "outputs": [],
   "source": [
    "df = wrangle.get_zillow_data()"
   ]
  },
  {
   "cell_type": "code",
   "execution_count": 4,
   "id": "db97a21b",
   "metadata": {},
   "outputs": [
    {
     "data": {
      "text/html": [
       "<div><div id=4baf308f-1905-4c43-86ef-874be9ddaa3b style=\"display:none; background-color:#9D6CFF; color:white; width:200px; height:30px; padding-left:5px; border-radius:4px; flex-direction:row; justify-content:space-around; align-items:center;\" onmouseover=\"this.style.backgroundColor='#BA9BF8'\" onmouseout=\"this.style.backgroundColor='#9D6CFF'\" onclick=\"window.commands?.execute('create-mitosheet-from-dataframe-output');\">See Full Dataframe in Mito</div> <script> if (window.commands?.hasCommand('create-mitosheet-from-dataframe-output')) document.getElementById('4baf308f-1905-4c43-86ef-874be9ddaa3b').style.display = 'flex' </script> <table border=\"1\" class=\"dataframe\">\n",
       "  <thead>\n",
       "    <tr style=\"text-align: right;\">\n",
       "      <th></th>\n",
       "      <th>bedroomcnt</th>\n",
       "      <th>bathroomcnt</th>\n",
       "      <th>sq_ft</th>\n",
       "      <th>lot_size</th>\n",
       "      <th>room_count</th>\n",
       "      <th>tax_assessed_price</th>\n",
       "      <th>yearbuilt</th>\n",
       "      <th>taxamount</th>\n",
       "      <th>county</th>\n",
       "    </tr>\n",
       "  </thead>\n",
       "  <tbody>\n",
       "    <tr>\n",
       "      <th>0</th>\n",
       "      <td>4.0</td>\n",
       "      <td>3.5</td>\n",
       "      <td>3100.0</td>\n",
       "      <td>4506.0</td>\n",
       "      <td>0.0</td>\n",
       "      <td>1023282.0</td>\n",
       "      <td>1998.0</td>\n",
       "      <td>11013.72</td>\n",
       "      <td>6059.0</td>\n",
       "    </tr>\n",
       "    <tr>\n",
       "      <th>1</th>\n",
       "      <td>2.0</td>\n",
       "      <td>1.0</td>\n",
       "      <td>1465.0</td>\n",
       "      <td>12647.0</td>\n",
       "      <td>5.0</td>\n",
       "      <td>464000.0</td>\n",
       "      <td>1967.0</td>\n",
       "      <td>5672.48</td>\n",
       "      <td>6111.0</td>\n",
       "    </tr>\n",
       "    <tr>\n",
       "      <th>2</th>\n",
       "      <td>3.0</td>\n",
       "      <td>2.0</td>\n",
       "      <td>1243.0</td>\n",
       "      <td>8432.0</td>\n",
       "      <td>6.0</td>\n",
       "      <td>564778.0</td>\n",
       "      <td>1962.0</td>\n",
       "      <td>6488.30</td>\n",
       "      <td>6059.0</td>\n",
       "    </tr>\n",
       "    <tr>\n",
       "      <th>3</th>\n",
       "      <td>4.0</td>\n",
       "      <td>3.0</td>\n",
       "      <td>2376.0</td>\n",
       "      <td>13038.0</td>\n",
       "      <td>0.0</td>\n",
       "      <td>145143.0</td>\n",
       "      <td>1970.0</td>\n",
       "      <td>1777.51</td>\n",
       "      <td>6037.0</td>\n",
       "    </tr>\n",
       "    <tr>\n",
       "      <th>4</th>\n",
       "      <td>4.0</td>\n",
       "      <td>3.0</td>\n",
       "      <td>2962.0</td>\n",
       "      <td>63000.0</td>\n",
       "      <td>0.0</td>\n",
       "      <td>773303.0</td>\n",
       "      <td>1950.0</td>\n",
       "      <td>9516.26</td>\n",
       "      <td>6037.0</td>\n",
       "    </tr>\n",
       "  </tbody>\n",
       "</table></div>"
      ],
      "text/plain": [
       "   bedroomcnt  bathroomcnt   sq_ft  lot_size  room_count  tax_assessed_price  \\\n",
       "0         4.0          3.5  3100.0    4506.0         0.0           1023282.0   \n",
       "1         2.0          1.0  1465.0   12647.0         5.0            464000.0   \n",
       "2         3.0          2.0  1243.0    8432.0         6.0            564778.0   \n",
       "3         4.0          3.0  2376.0   13038.0         0.0            145143.0   \n",
       "4         4.0          3.0  2962.0   63000.0         0.0            773303.0   \n",
       "\n",
       "   yearbuilt  taxamount  county  \n",
       "0     1998.0   11013.72  6059.0  \n",
       "1     1967.0    5672.48  6111.0  \n",
       "2     1962.0    6488.30  6059.0  \n",
       "3     1970.0    1777.51  6037.0  \n",
       "4     1950.0    9516.26  6037.0  "
      ]
     },
     "execution_count": 4,
     "metadata": {},
     "output_type": "execute_result"
    }
   ],
   "source": [
    "df.head()"
   ]
  },
  {
   "cell_type": "code",
   "execution_count": 5,
   "id": "56db39ce",
   "metadata": {
    "scrolled": true
   },
   "outputs": [
    {
     "name": "stdout",
     "output_type": "stream",
     "text": [
      "<class 'pandas.core.frame.DataFrame'>\n",
      "RangeIndex: 52442 entries, 0 to 52441\n",
      "Data columns (total 9 columns):\n",
      " #   Column              Non-Null Count  Dtype  \n",
      "---  ------              --------------  -----  \n",
      " 0   bedroomcnt          52442 non-null  float64\n",
      " 1   bathroomcnt         52442 non-null  float64\n",
      " 2   sq_ft               52360 non-null  float64\n",
      " 3   lot_size            52073 non-null  float64\n",
      " 4   room_count          52442 non-null  float64\n",
      " 5   tax_assessed_price  52441 non-null  float64\n",
      " 6   yearbuilt           52326 non-null  float64\n",
      " 7   taxamount           52438 non-null  float64\n",
      " 8   county              52442 non-null  float64\n",
      "dtypes: float64(9)\n",
      "memory usage: 3.6 MB\n"
     ]
    }
   ],
   "source": [
    "df.info()"
   ]
  },
  {
   "cell_type": "code",
   "execution_count": 6,
   "id": "6abaa945",
   "metadata": {},
   "outputs": [],
   "source": [
    "# make Parcelid, county into objects in the prep_zillow function"
   ]
  },
  {
   "cell_type": "code",
   "execution_count": 7,
   "id": "2bc96f18",
   "metadata": {},
   "outputs": [
    {
     "name": "stdout",
     "output_type": "stream",
     "text": [
      "(51765, 9)\n",
      "(50565, 9)\n"
     ]
    },
    {
     "data": {
      "text/html": [
       "<div><div id=e336393d-be18-442f-a870-7c925eb9968c style=\"display:none; background-color:#9D6CFF; color:white; width:200px; height:30px; padding-left:5px; border-radius:4px; flex-direction:row; justify-content:space-around; align-items:center;\" onmouseover=\"this.style.backgroundColor='#BA9BF8'\" onmouseout=\"this.style.backgroundColor='#9D6CFF'\" onclick=\"window.commands?.execute('create-mitosheet-from-dataframe-output');\">See Full Dataframe in Mito</div> <script> if (window.commands?.hasCommand('create-mitosheet-from-dataframe-output')) document.getElementById('e336393d-be18-442f-a870-7c925eb9968c').style.display = 'flex' </script> <table border=\"1\" class=\"dataframe\">\n",
       "  <thead>\n",
       "    <tr style=\"text-align: right;\">\n",
       "      <th></th>\n",
       "      <th>bedroomcnt</th>\n",
       "      <th>bathroomcnt</th>\n",
       "      <th>sq_ft</th>\n",
       "      <th>lot_size</th>\n",
       "      <th>room_count</th>\n",
       "      <th>tax_assessed_price</th>\n",
       "      <th>yearbuilt</th>\n",
       "      <th>taxamount</th>\n",
       "      <th>county</th>\n",
       "    </tr>\n",
       "  </thead>\n",
       "  <tbody>\n",
       "    <tr>\n",
       "      <th>0</th>\n",
       "      <td>4.0</td>\n",
       "      <td>3.5</td>\n",
       "      <td>3100.0</td>\n",
       "      <td>4506.0</td>\n",
       "      <td>0.0</td>\n",
       "      <td>1023282.0</td>\n",
       "      <td>1998.0</td>\n",
       "      <td>11013.72</td>\n",
       "      <td>orange_county</td>\n",
       "    </tr>\n",
       "    <tr>\n",
       "      <th>1</th>\n",
       "      <td>2.0</td>\n",
       "      <td>1.0</td>\n",
       "      <td>1465.0</td>\n",
       "      <td>12647.0</td>\n",
       "      <td>5.0</td>\n",
       "      <td>464000.0</td>\n",
       "      <td>1967.0</td>\n",
       "      <td>5672.48</td>\n",
       "      <td>ventura</td>\n",
       "    </tr>\n",
       "    <tr>\n",
       "      <th>2</th>\n",
       "      <td>3.0</td>\n",
       "      <td>2.0</td>\n",
       "      <td>1243.0</td>\n",
       "      <td>8432.0</td>\n",
       "      <td>6.0</td>\n",
       "      <td>564778.0</td>\n",
       "      <td>1962.0</td>\n",
       "      <td>6488.30</td>\n",
       "      <td>orange_county</td>\n",
       "    </tr>\n",
       "    <tr>\n",
       "      <th>3</th>\n",
       "      <td>4.0</td>\n",
       "      <td>3.0</td>\n",
       "      <td>2376.0</td>\n",
       "      <td>13038.0</td>\n",
       "      <td>0.0</td>\n",
       "      <td>145143.0</td>\n",
       "      <td>1970.0</td>\n",
       "      <td>1777.51</td>\n",
       "      <td>los_angeles</td>\n",
       "    </tr>\n",
       "    <tr>\n",
       "      <th>4</th>\n",
       "      <td>4.0</td>\n",
       "      <td>3.0</td>\n",
       "      <td>2962.0</td>\n",
       "      <td>63000.0</td>\n",
       "      <td>0.0</td>\n",
       "      <td>773303.0</td>\n",
       "      <td>1950.0</td>\n",
       "      <td>9516.26</td>\n",
       "      <td>los_angeles</td>\n",
       "    </tr>\n",
       "  </tbody>\n",
       "</table></div>"
      ],
      "text/plain": [
       "   bedroomcnt  bathroomcnt   sq_ft  lot_size  room_count  tax_assessed_price  \\\n",
       "0         4.0          3.5  3100.0    4506.0         0.0           1023282.0   \n",
       "1         2.0          1.0  1465.0   12647.0         5.0            464000.0   \n",
       "2         3.0          2.0  1243.0    8432.0         6.0            564778.0   \n",
       "3         4.0          3.0  2376.0   13038.0         0.0            145143.0   \n",
       "4         4.0          3.0  2962.0   63000.0         0.0            773303.0   \n",
       "\n",
       "   yearbuilt  taxamount         county  \n",
       "0     1998.0   11013.72  orange_county  \n",
       "1     1967.0    5672.48        ventura  \n",
       "2     1962.0    6488.30  orange_county  \n",
       "3     1970.0    1777.51    los_angeles  \n",
       "4     1950.0    9516.26    los_angeles  "
      ]
     },
     "execution_count": 7,
     "metadata": {},
     "output_type": "execute_result"
    }
   ],
   "source": [
    "#run through the prep function to scrub nulls and whitespace cells\n",
    "# 𝑙𝑜𝑔𝑒𝑟𝑟𝑜𝑟=𝑙𝑜𝑔(𝑍𝑒𝑠𝑡𝑖𝑚𝑎𝑡𝑒)−𝑙𝑜𝑔(𝑆𝑎𝑙𝑒𝑃𝑟𝑖𝑐𝑒)\n",
    "df = wrangle.prep_zillow(df)\n",
    "df.head()"
   ]
  },
  {
   "cell_type": "code",
   "execution_count": 8,
   "id": "23d909da",
   "metadata": {},
   "outputs": [
    {
     "name": "stdout",
     "output_type": "stream",
     "text": [
      "<class 'pandas.core.frame.DataFrame'>\n",
      "Int64Index: 50565 entries, 0 to 52440\n",
      "Data columns (total 9 columns):\n",
      " #   Column              Non-Null Count  Dtype  \n",
      "---  ------              --------------  -----  \n",
      " 0   bedroomcnt          50565 non-null  float64\n",
      " 1   bathroomcnt         50565 non-null  float64\n",
      " 2   sq_ft               50565 non-null  float64\n",
      " 3   lot_size            50565 non-null  float64\n",
      " 4   room_count          50565 non-null  float64\n",
      " 5   tax_assessed_price  50565 non-null  float64\n",
      " 6   yearbuilt           50565 non-null  float64\n",
      " 7   taxamount           50565 non-null  float64\n",
      " 8   county              50565 non-null  object \n",
      "dtypes: float64(8), object(1)\n",
      "memory usage: 3.9+ MB\n"
     ]
    }
   ],
   "source": [
    "df.info()"
   ]
  },
  {
   "cell_type": "code",
   "execution_count": 9,
   "id": "cced6657",
   "metadata": {},
   "outputs": [
    {
     "data": {
      "text/plain": [
       "0.0     36280\n",
       "6.0      3950\n",
       "7.0      3569\n",
       "8.0      2779\n",
       "5.0      1859\n",
       "9.0      1155\n",
       "4.0       492\n",
       "10.0      310\n",
       "11.0       76\n",
       "3.0        67\n",
       "12.0       18\n",
       "2.0         9\n",
       "1.0         1\n",
       "Name: room_count, dtype: int64"
      ]
     },
     "execution_count": 9,
     "metadata": {},
     "output_type": "execute_result"
    }
   ],
   "source": [
    "df.room_count.value_counts()"
   ]
  },
  {
   "cell_type": "code",
   "execution_count": 10,
   "id": "25f6c86b",
   "metadata": {},
   "outputs": [
    {
     "data": {
      "text/html": [
       "<div><div id=2f51c1fc-93a6-431e-aa83-083eea03998b style=\"display:none; background-color:#9D6CFF; color:white; width:200px; height:30px; padding-left:5px; border-radius:4px; flex-direction:row; justify-content:space-around; align-items:center;\" onmouseover=\"this.style.backgroundColor='#BA9BF8'\" onmouseout=\"this.style.backgroundColor='#9D6CFF'\" onclick=\"window.commands?.execute('create-mitosheet-from-dataframe-output');\">See Full Dataframe in Mito</div> <script> if (window.commands?.hasCommand('create-mitosheet-from-dataframe-output')) document.getElementById('2f51c1fc-93a6-431e-aa83-083eea03998b').style.display = 'flex' </script> <table border=\"1\" class=\"dataframe\">\n",
       "  <thead>\n",
       "    <tr style=\"text-align: right;\">\n",
       "      <th></th>\n",
       "      <th>bedroomcnt</th>\n",
       "      <th>bathroomcnt</th>\n",
       "      <th>sq_ft</th>\n",
       "      <th>lot_size</th>\n",
       "      <th>tax_assessed_price</th>\n",
       "      <th>yearbuilt</th>\n",
       "      <th>county</th>\n",
       "    </tr>\n",
       "  </thead>\n",
       "  <tbody>\n",
       "    <tr>\n",
       "      <th>0</th>\n",
       "      <td>4.0</td>\n",
       "      <td>3.5</td>\n",
       "      <td>3100.0</td>\n",
       "      <td>4506.0</td>\n",
       "      <td>1023282.0</td>\n",
       "      <td>1998.0</td>\n",
       "      <td>orange_county</td>\n",
       "    </tr>\n",
       "    <tr>\n",
       "      <th>1</th>\n",
       "      <td>2.0</td>\n",
       "      <td>1.0</td>\n",
       "      <td>1465.0</td>\n",
       "      <td>12647.0</td>\n",
       "      <td>464000.0</td>\n",
       "      <td>1967.0</td>\n",
       "      <td>ventura</td>\n",
       "    </tr>\n",
       "    <tr>\n",
       "      <th>2</th>\n",
       "      <td>3.0</td>\n",
       "      <td>2.0</td>\n",
       "      <td>1243.0</td>\n",
       "      <td>8432.0</td>\n",
       "      <td>564778.0</td>\n",
       "      <td>1962.0</td>\n",
       "      <td>orange_county</td>\n",
       "    </tr>\n",
       "    <tr>\n",
       "      <th>3</th>\n",
       "      <td>4.0</td>\n",
       "      <td>3.0</td>\n",
       "      <td>2376.0</td>\n",
       "      <td>13038.0</td>\n",
       "      <td>145143.0</td>\n",
       "      <td>1970.0</td>\n",
       "      <td>los_angeles</td>\n",
       "    </tr>\n",
       "    <tr>\n",
       "      <th>4</th>\n",
       "      <td>4.0</td>\n",
       "      <td>3.0</td>\n",
       "      <td>2962.0</td>\n",
       "      <td>63000.0</td>\n",
       "      <td>773303.0</td>\n",
       "      <td>1950.0</td>\n",
       "      <td>los_angeles</td>\n",
       "    </tr>\n",
       "  </tbody>\n",
       "</table></div>"
      ],
      "text/plain": [
       "   bedroomcnt  bathroomcnt   sq_ft  lot_size  tax_assessed_price  yearbuilt  \\\n",
       "0         4.0          3.5  3100.0    4506.0           1023282.0     1998.0   \n",
       "1         2.0          1.0  1465.0   12647.0            464000.0     1967.0   \n",
       "2         3.0          2.0  1243.0    8432.0            564778.0     1962.0   \n",
       "3         4.0          3.0  2376.0   13038.0            145143.0     1970.0   \n",
       "4         4.0          3.0  2962.0   63000.0            773303.0     1950.0   \n",
       "\n",
       "          county  \n",
       "0  orange_county  \n",
       "1        ventura  \n",
       "2  orange_county  \n",
       "3    los_angeles  \n",
       "4    los_angeles  "
      ]
     },
     "execution_count": 10,
     "metadata": {},
     "output_type": "execute_result"
    }
   ],
   "source": [
    "# room counts are empty in over 70% of rows, so I'll drop from DF\n",
    "df = df.drop(columns=['room_count', 'taxamount'])\n",
    "df.head()"
   ]
  },
  {
   "cell_type": "code",
   "execution_count": 11,
   "id": "6c83fdaf",
   "metadata": {},
   "outputs": [
    {
     "data": {
      "text/html": [
       "<div><div id=fb5a6a70-8db3-4fb8-aad7-c97075dd497d style=\"display:none; background-color:#9D6CFF; color:white; width:200px; height:30px; padding-left:5px; border-radius:4px; flex-direction:row; justify-content:space-around; align-items:center;\" onmouseover=\"this.style.backgroundColor='#BA9BF8'\" onmouseout=\"this.style.backgroundColor='#9D6CFF'\" onclick=\"window.commands?.execute('create-mitosheet-from-dataframe-output');\">See Full Dataframe in Mito</div> <script> if (window.commands?.hasCommand('create-mitosheet-from-dataframe-output')) document.getElementById('fb5a6a70-8db3-4fb8-aad7-c97075dd497d').style.display = 'flex' </script> <table border=\"1\" class=\"dataframe\">\n",
       "  <thead>\n",
       "    <tr style=\"text-align: right;\">\n",
       "      <th></th>\n",
       "      <th>count</th>\n",
       "      <th>mean</th>\n",
       "      <th>std</th>\n",
       "      <th>min</th>\n",
       "      <th>25%</th>\n",
       "      <th>50%</th>\n",
       "      <th>75%</th>\n",
       "      <th>max</th>\n",
       "    </tr>\n",
       "  </thead>\n",
       "  <tbody>\n",
       "    <tr>\n",
       "      <th>bedroomcnt</th>\n",
       "      <td>50565.0</td>\n",
       "      <td>3.273826</td>\n",
       "      <td>0.884101</td>\n",
       "      <td>1.0</td>\n",
       "      <td>3.0</td>\n",
       "      <td>3.0</td>\n",
       "      <td>4.0</td>\n",
       "      <td>6.0</td>\n",
       "    </tr>\n",
       "    <tr>\n",
       "      <th>bathroomcnt</th>\n",
       "      <td>50565.0</td>\n",
       "      <td>2.232068</td>\n",
       "      <td>0.881676</td>\n",
       "      <td>1.0</td>\n",
       "      <td>2.0</td>\n",
       "      <td>2.0</td>\n",
       "      <td>3.0</td>\n",
       "      <td>5.5</td>\n",
       "    </tr>\n",
       "    <tr>\n",
       "      <th>sq_ft</th>\n",
       "      <td>50565.0</td>\n",
       "      <td>1842.720202</td>\n",
       "      <td>802.455998</td>\n",
       "      <td>152.0</td>\n",
       "      <td>1260.0</td>\n",
       "      <td>1639.0</td>\n",
       "      <td>2245.0</td>\n",
       "      <td>5396.0</td>\n",
       "    </tr>\n",
       "    <tr>\n",
       "      <th>lot_size</th>\n",
       "      <td>50565.0</td>\n",
       "      <td>9058.202096</td>\n",
       "      <td>12525.446606</td>\n",
       "      <td>236.0</td>\n",
       "      <td>5541.0</td>\n",
       "      <td>6773.0</td>\n",
       "      <td>8566.0</td>\n",
       "      <td>309805.0</td>\n",
       "    </tr>\n",
       "    <tr>\n",
       "      <th>tax_assessed_price</th>\n",
       "      <td>50565.0</td>\n",
       "      <td>462481.053753</td>\n",
       "      <td>405660.329276</td>\n",
       "      <td>1000.0</td>\n",
       "      <td>190261.0</td>\n",
       "      <td>365674.0</td>\n",
       "      <td>595938.0</td>\n",
       "      <td>3022906.0</td>\n",
       "    </tr>\n",
       "    <tr>\n",
       "      <th>yearbuilt</th>\n",
       "      <td>50565.0</td>\n",
       "      <td>1962.939306</td>\n",
       "      <td>22.694171</td>\n",
       "      <td>1885.0</td>\n",
       "      <td>1950.0</td>\n",
       "      <td>1960.0</td>\n",
       "      <td>1978.0</td>\n",
       "      <td>2016.0</td>\n",
       "    </tr>\n",
       "  </tbody>\n",
       "</table></div>"
      ],
      "text/plain": [
       "                      count           mean            std     min       25%  \\\n",
       "bedroomcnt          50565.0       3.273826       0.884101     1.0       3.0   \n",
       "bathroomcnt         50565.0       2.232068       0.881676     1.0       2.0   \n",
       "sq_ft               50565.0    1842.720202     802.455998   152.0    1260.0   \n",
       "lot_size            50565.0    9058.202096   12525.446606   236.0    5541.0   \n",
       "tax_assessed_price  50565.0  462481.053753  405660.329276  1000.0  190261.0   \n",
       "yearbuilt           50565.0    1962.939306      22.694171  1885.0    1950.0   \n",
       "\n",
       "                         50%       75%        max  \n",
       "bedroomcnt               3.0       4.0        6.0  \n",
       "bathroomcnt              2.0       3.0        5.5  \n",
       "sq_ft                 1639.0    2245.0     5396.0  \n",
       "lot_size              6773.0    8566.0   309805.0  \n",
       "tax_assessed_price  365674.0  595938.0  3022906.0  \n",
       "yearbuilt             1960.0    1978.0     2016.0  "
      ]
     },
     "execution_count": 11,
     "metadata": {},
     "output_type": "execute_result"
    }
   ],
   "source": [
    "df.describe().T"
   ]
  },
  {
   "cell_type": "code",
   "execution_count": 12,
   "id": "eef48e8c",
   "metadata": {},
   "outputs": [
    {
     "data": {
      "text/plain": [
       "los_angeles      32600\n",
       "orange_county    13707\n",
       "ventura           4258\n",
       "Name: county, dtype: int64"
      ]
     },
     "execution_count": 12,
     "metadata": {},
     "output_type": "execute_result"
    }
   ],
   "source": [
    "df.county.value_counts()"
   ]
  },
  {
   "cell_type": "code",
   "execution_count": 13,
   "id": "60279b4f",
   "metadata": {},
   "outputs": [
    {
     "data": {
      "image/png": "[encoded data removed]",
      "text/plain": [
       "<Figure size 432x288 with 1 Axes>"
      ]
     },
     "metadata": {
      "needs_background": "light"
     },
     "output_type": "display_data"
    },
    {
     "data": {
      "image/png": "[encoded data removed]",
      "text/plain": [
       "<Figure size 432x288 with 1 Axes>"
      ]
     },
     "metadata": {
      "needs_background": "light"
     },
     "output_type": "display_data"
    },
    {
     "data": {
      "image/png": "[encoded data removed]",
      "text/plain": [
       "<Figure size 432x288 with 1 Axes>"
      ]
     },
     "metadata": {
      "needs_background": "light"
     },
     "output_type": "display_data"
    },
    {
     "data": {
      "image/png": "[encoded data removed]",
      "text/plain": [
       "<Figure size 432x288 with 1 Axes>"
      ]
     },
     "metadata": {
      "needs_background": "light"
     },
     "output_type": "display_data"
    },
    {
     "data": {
      "image/png": "[encoded data removed]",
      "text/plain": [
       "<Figure size 432x288 with 1 Axes>"
      ]
     },
     "metadata": {
      "needs_background": "light"
     },
     "output_type": "display_data"
    },
    {
     "data": {
      "image/png": "[encoded data removed]",
      "text/plain": [
       "<Figure size 432x288 with 1 Axes>"
      ]
     },
     "metadata": {
      "needs_background": "light"
     },
     "output_type": "display_data"
    }
   ],
   "source": [
    "# Let's take a look at distributions of data for our dataset\n",
    "\n",
    "non_quants = ['county']\n",
    "quants = df.drop(columns=non_quants).columns\n",
    "\n",
    "for col in quants:\n",
    "    df[col].hist()\n",
    "    plt.xlabel(col)\n",
    "    plt.show()"
   ]
  },
  {
   "cell_type": "code",
   "execution_count": 14,
   "id": "a7055f2d",
   "metadata": {},
   "outputs": [
    {
     "data": {
      "image/png": "[encoded data removed]",
      "text/plain": [
       "<Figure size 432x288 with 1 Axes>"
      ]
     },
     "metadata": {
      "needs_background": "light"
     },
     "output_type": "display_data"
    }
   ],
   "source": [
    "    df['county'].hist()\n",
    "    plt.xlabel(col)\n",
    "    plt.show()"
   ]
  },
  {
   "cell_type": "markdown",
   "id": "306994af",
   "metadata": {},
   "source": [
    "### Notes:\n",
    "- bedroom count is normally dist around a mean of 3\n",
    "- bathroom count is normally dist around a mean od 2\n",
    "- sqft is relatively normal, but right skewed, with mean of 1800\n",
    "- lot size has some huge outliers....lets plot this one later on\n",
    "- tax assessed price is heavily right skewed, with a mean of 462k\n",
    "- year built is normally distributed around 1960..plot year aginst price\n",
    "- 65/27/8% split for dist of homes in the sample betwween LA, OC and Ventura counties"
   ]
  },
  {
   "cell_type": "markdown",
   "id": "b41f685b",
   "metadata": {},
   "source": [
    "## Split and then move into Bivariate analysis"
   ]
  },
  {
   "cell_type": "code",
   "execution_count": 15,
   "id": "6b4731fb",
   "metadata": {},
   "outputs": [],
   "source": [
    "import split"
   ]
  },
  {
   "cell_type": "code",
   "execution_count": 16,
   "id": "ca23a666",
   "metadata": {},
   "outputs": [
    {
     "data": {
      "text/plain": [
       "(28316, 7)"
      ]
     },
     "execution_count": 16,
     "metadata": {},
     "output_type": "execute_result"
    }
   ],
   "source": [
    "train, validate, test = split.train_validate_test_split(df, df.tax_assessed_price)\n",
    "train.shape"
   ]
  },
  {
   "cell_type": "markdown",
   "id": "5e46b3f9",
   "metadata": {},
   "source": [
    "<h2> 3. Exploration </h2>"
   ]
  },
  {
   "cell_type": "markdown",
   "id": "fb478f7e",
   "metadata": {},
   "source": [
    "## Big Assumptions I want to test/answer:\n",
    "<br>\n",
    "1. Newer homes are more desirable to consumers than older homes\n",
    "<br>\n",
    "2. Some locations/counties are more desirable than others to consumers\n",
    "<br>\n",
    "3. Locations (counties) with newer homes are more desirable to consumers\n",
    "<br>\n",
    "4. Locations (counties) with larger homes are more desirable to consumers\n",
    "<br>\n",
    "\n",
    "## Make Hypotheses/questions to answer:\n",
    "\n",
    "1. The average construction year for homes is 1963. Is there a significant price difference between homes built before/after 1963?\n",
    "<br>\n",
    "    a. Null: no difference in mean home price for homes built before/after 1963.\n",
    "    <br>\n",
    "    b. Alt: there is a difference in mean home price between pre-1963 homes and post-1963 homes\n",
    "    <br>\n",
    "        i. use independent, two tailed t-test to check pop means for significant price difference\n",
    "        <br>\n",
    "2. Does the county where a home is located have a significant impact on price? \n",
    "<br>\n",
    "    a. Null: no difference in mean home price between counties.\n",
    "    <br>\n",
    "    b. Alt: there is a difference in mean home price between between counties.\n",
    "    <br>\n",
    "        i. use independent, two tailed t-test to check pop means for significant price difference\n",
    "        <br>\n",
    "3. Is the average house bigger in some counties than others?\n",
    "<br>\n",
    "    a. Null: no difference in mean home sq ft between counties.\n",
    "    <br>\n",
    "    b. Alt: there is a difference in mean home sq ft between between counties.\n",
    "    <br>\n",
    "        i. use independent, two tailed t-test to check pop means for significant price difference\n",
    "        <br>\n",
    "4. Is the average house newer in some counties than others?\n",
    "<br>\n",
    "    a. Null: no difference in mean home year built between counties.\n",
    "    <br>\n",
    "    b. Alt: there is a difference in mean home year built between counties.\n",
    "    <br>\n",
    "        i. use independent, two tailed t-test to check pop means for significant price difference\n",
    "        <br>\n",
    "<b> And if there's time...<b/>\n",
    "    <br>\n",
    "5. Everything constant (control for county, sq ft, BD), how much difference does each additional bathroom make in terms of home price?\n",
    "<br>\n",
    "    a. compare the mean of home price by each bathroom\n",
    "    <br>\n",
    "        i. challenge: samples may be too small\n",
    "        <br>\n",
    "6. Everything constant (control for county, sq ft, BR), how much difference does each additional bedroom make in terms of home price?\n",
    "<br>\n",
    "    a. compare the mean of home price by each bathroom\n",
    "    <br>\n",
    "        i. challenge: samples may be too small\n",
    "        <br>"
   ]
  },
  {
   "cell_type": "markdown",
   "id": "aa0308b4",
   "metadata": {},
   "source": [
    "## Bivariate Stats Analysis\n"
   ]
  },
  {
   "cell_type": "markdown",
   "id": "e5926462",
   "metadata": {},
   "source": [
    "### overview of chart types to use on data types\n",
    "- continuous to continuous: \n",
    "<br>\n",
    "    a. scatter: sns.relplot(x, y, data=df, kind=scatter)\n",
    "    <br>\n",
    "    b. pairplot: sns.pairplot(df)\n",
    "    <br>\n",
    "    c. sns.jointplot(x, y, data, kind=scatter)\n",
    "    <br>\n",
    "    d. sns.heatmap(df.corr())\n",
    "    <br>\n",
    "- discrete to continuous: \n",
    "<br>\n",
    "    a. swarmplot: sns.swarmplot(x=disc, y=cont, data=df)\n",
    "    <br>\n",
    "    b. boxplot: sns.boxplot(x=disc, y=cont, data=df)\n",
    "    <br>\n",
    "    c. violinplot: sns.violinplot(x=disc, y=cont, data=df)\n",
    "    <br>\n",
    "    d. barplot: sns.barplot(x=disc, y=cont, data=df)\n",
    "- discrete to discrete:\n",
    "<br>\n",
    "    a. ctab = pd.crosstab(index, columns, values)\n",
    "        i. sns.heatmap(ctab, annot=True)"
   ]
  },
  {
   "cell_type": "markdown",
   "id": "d8a23b25",
   "metadata": {},
   "source": [
    "## Question 1: Are home prices significantly different pre-/post- 1963?\n",
    "- this is the mean home construction date\n",
    "- sub question:\n",
    "    - if yes, is there a difference in the predictive power of year built in those two timeframes?\n",
    "    - and...is there a difference in its predictive power by county?"
   ]
  },
  {
   "cell_type": "code",
   "execution_count": 17,
   "id": "c5e9780f",
   "metadata": {},
   "outputs": [
    {
     "data": {
      "text/html": [
       "<div><div id=8ddbe8b8-e7ea-4c54-a679-29b89fc644a0 style=\"display:none; background-color:#9D6CFF; color:white; width:200px; height:30px; padding-left:5px; border-radius:4px; flex-direction:row; justify-content:space-around; align-items:center;\" onmouseover=\"this.style.backgroundColor='#BA9BF8'\" onmouseout=\"this.style.backgroundColor='#9D6CFF'\" onclick=\"window.commands?.execute('create-mitosheet-from-dataframe-output');\">See Full Dataframe in Mito</div> <script> if (window.commands?.hasCommand('create-mitosheet-from-dataframe-output')) document.getElementById('8ddbe8b8-e7ea-4c54-a679-29b89fc644a0').style.display = 'flex' </script> <table border=\"1\" class=\"dataframe\">\n",
       "  <thead>\n",
       "    <tr style=\"text-align: right;\">\n",
       "      <th></th>\n",
       "      <th>bedroomcnt</th>\n",
       "      <th>bathroomcnt</th>\n",
       "      <th>sq_ft</th>\n",
       "      <th>lot_size</th>\n",
       "      <th>tax_assessed_price</th>\n",
       "      <th>yearbuilt</th>\n",
       "      <th>county</th>\n",
       "    </tr>\n",
       "  </thead>\n",
       "  <tbody>\n",
       "    <tr>\n",
       "      <th>35203</th>\n",
       "      <td>3.0</td>\n",
       "      <td>2.0</td>\n",
       "      <td>1786.0</td>\n",
       "      <td>3252.0</td>\n",
       "      <td>169940.0</td>\n",
       "      <td>1994.0</td>\n",
       "      <td>los_angeles</td>\n",
       "    </tr>\n",
       "  </tbody>\n",
       "</table></div>"
      ],
      "text/plain": [
       "       bedroomcnt  bathroomcnt   sq_ft  lot_size  tax_assessed_price  \\\n",
       "35203         3.0          2.0  1786.0    3252.0            169940.0   \n",
       "\n",
       "       yearbuilt       county  \n",
       "35203     1994.0  los_angeles  "
      ]
     },
     "execution_count": 17,
     "metadata": {},
     "output_type": "execute_result"
    }
   ],
   "source": [
    "train.head(1)"
   ]
  },
  {
   "cell_type": "code",
   "execution_count": 18,
   "id": "2e16df9c",
   "metadata": {},
   "outputs": [],
   "source": [
    "train_post_1963=train[train.yearbuilt > 1963]\n",
    "train_pre_1963=train[train.yearbuilt <= 1963]\n",
    "train_post_1997=train[train.yearbuilt > 1997]"
   ]
  },
  {
   "cell_type": "code",
   "execution_count": 19,
   "id": "342e579a",
   "metadata": {
    "scrolled": false
   },
   "outputs": [
    {
     "data": {
      "image/png": "[encoded data removed]",
      "text/plain": [
       "<Figure size 360x360 with 1 Axes>"
      ]
     },
     "metadata": {
      "needs_background": "light"
     },
     "output_type": "display_data"
    },
    {
     "data": {
      "image/png": "[encoded data removed]",
      "text/plain": [
       "<Figure size 360x360 with 1 Axes>"
      ]
     },
     "metadata": {
      "needs_background": "light"
     },
     "output_type": "display_data"
    }
   ],
   "source": [
    "#plot1: PRE-1963 year vs price (cont:cont)\n",
    "#plot2: POST-1963 year vs price (cont:cont)\n",
    "sns.lmplot(x='yearbuilt', y='tax_assessed_price', data=train_pre_1963,\n",
    "          line_kws = {'color': 'red'})\n",
    "sns.lmplot(x='yearbuilt', y='tax_assessed_price', data=train_post_1963,\n",
    "          line_kws = {'color': 'orange'})\n",
    "plt.show()"
   ]
  },
  {
   "cell_type": "code",
   "execution_count": 20,
   "id": "6cca664e",
   "metadata": {
    "scrolled": false
   },
   "outputs": [
    {
     "data": {
      "text/plain": [
       "<AxesSubplot:>"
      ]
     },
     "execution_count": 20,
     "metadata": {},
     "output_type": "execute_result"
    },
    {
     "data": {
      "image/png": "[encoded data removed]",
      "text/plain": [
       "<Figure size 432x288 with 2 Axes>"
      ]
     },
     "metadata": {
      "needs_background": "light"
     },
     "output_type": "display_data"
    }
   ],
   "source": [
    "# Correlations pre-1963 for variables in Dataset:\n",
    "sns.heatmap(train_pre_1963.corr(), annot=True)"
   ]
  },
  {
   "cell_type": "code",
   "execution_count": 21,
   "id": "3ec5e44f",
   "metadata": {},
   "outputs": [
    {
     "data": {
      "text/plain": [
       "<AxesSubplot:>"
      ]
     },
     "execution_count": 21,
     "metadata": {},
     "output_type": "execute_result"
    },
    {
     "data": {
      "image/png": "[encoded data removed]",
      "text/plain": [
       "<Figure size 432x288 with 2 Axes>"
      ]
     },
     "metadata": {
      "needs_background": "light"
     },
     "output_type": "display_data"
    }
   ],
   "source": [
    "# Correlations pre-1963 for variables in Dataset:\n",
    "sns.heatmap(train_post_1963.corr(), annot=True)"
   ]
  },
  {
   "cell_type": "markdown",
   "id": "ffeedd97",
   "metadata": {},
   "source": [
    "### Takeaway 1A:\n",
    "- interesting: the correlation between home price and  year built diverges before and after 1963: -0.05 vs. 0.29\n",
    "- let's test statistically for significance"
   ]
  },
  {
   "cell_type": "markdown",
   "id": "6adfaaff",
   "metadata": {},
   "source": [
    "### t-test the pre and post 1963 data for difference in means\n",
    "1. The average construction year for homes is 1963. Is there a significant price difference between homes built before/after 1963?\n",
    "<br>\n",
    "    a. Null: no difference in mean home price for homes built before/after 1963.\n",
    "    <br>\n",
    "    b. Alt: there is a difference in mean home price between pre-1963 homes and post-1963 homes\n",
    "    <br>\n",
    "        i. use independent, two tailed t-test to check pop means for significant price difference\n",
    "        <br>\n",
    "    Note: the assumptions for the two tailed t-test is similar variance, and normal distribution. The sample is large enough that we can tolerate a non-normal distribution, but we need to check for variance."
   ]
  },
  {
   "cell_type": "code",
   "execution_count": 22,
   "id": "9abad4f5",
   "metadata": {},
   "outputs": [
    {
     "data": {
      "text/plain": [
       "(149019827235.68085, 177489303540.05322)"
      ]
     },
     "execution_count": 22,
     "metadata": {},
     "output_type": "execute_result"
    }
   ],
   "source": [
    "# check for variance:\n",
    "train_pre_1963.tax_assessed_price.var(), train_post_1963.tax_assessed_price.var()"
   ]
  },
  {
   "cell_type": "code",
   "execution_count": 23,
   "id": "3f31dd43",
   "metadata": {},
   "outputs": [
    {
     "data": {
      "text/plain": [
       "0.8395989181514378"
      ]
     },
     "execution_count": 23,
     "metadata": {},
     "output_type": "execute_result"
    }
   ],
   "source": [
    "# the ratio of variance:\n",
    "train_pre_1963.tax_assessed_price.var()/train_post_1963.tax_assessed_price.var()"
   ]
  },
  {
   "cell_type": "code",
   "execution_count": 24,
   "id": "0e4d9e83",
   "metadata": {},
   "outputs": [],
   "source": [
    "# The variance is close enough to proceed with the t-test"
   ]
  },
  {
   "cell_type": "code",
   "execution_count": 25,
   "id": "2f221539",
   "metadata": {},
   "outputs": [
    {
     "data": {
      "text/plain": [
       "(-32.08953810348872, 5.863572476846355e-222)"
      ]
     },
     "execution_count": 25,
     "metadata": {},
     "output_type": "execute_result"
    }
   ],
   "source": [
    "# Set the t- and p-values\n",
    "t, p = stats.ttest_ind(train_pre_1963.tax_assessed_price, train_post_1963.tax_assessed_price) #array v scalar\n",
    "t, p"
   ]
  },
  {
   "cell_type": "code",
   "execution_count": 26,
   "id": "8d9b29ed",
   "metadata": {},
   "outputs": [],
   "source": [
    "a = 0.05"
   ]
  },
  {
   "cell_type": "code",
   "execution_count": 27,
   "id": "cc894e9a",
   "metadata": {},
   "outputs": [
    {
     "name": "stdout",
     "output_type": "stream",
     "text": [
      "We have sufficient evidence to REJECT the null hypothesis that there is no difference in mean home price for homes built before/after 1963\n"
     ]
    }
   ],
   "source": [
    "if p < a:\n",
    "    print(\"We have sufficient evidence to REJECT the null hypothesis that there is no difference in mean home price for homes built before/after 1963\")\n",
    "else:\n",
    "    print(\"We have sufficient evidence to ACCEPT the null hypothesis that there no difference in mean home price for homes built before/after 1963\")"
   ]
  },
  {
   "cell_type": "markdown",
   "id": "b1a29349",
   "metadata": {},
   "source": [
    "### Takeaway 1B:\n",
    "- there is a significant difference in mean home price before and after 1963 (mean build year)\n",
    "- additionally, there is a difference in the predictive power of 'yearbuilt' pre- and post-1963. This is a much more effective predictor post-1963 (see graph below: -0.05 correl pre-1963, 0.29 post-1963)\n",
    "- given more time, I would use pre/post 1963 as a parameter for a split dataset with the predictor removed for pre-1963."
   ]
  },
  {
   "cell_type": "markdown",
   "id": "e98f3779",
   "metadata": {},
   "source": [
    "## Question 2. Does the county where a home is located have a significant impact on price? \n",
    "<br>\n",
    "    a. Null: no difference in mean home price between counties.\n",
    "    <br>\n",
    "    b. Alt: there is a difference in mean home price between between counties.\n",
    "    <br>\n",
    "        i. use two sample, independent t-test to check county means for significant price difference\n",
    "        <br>"
   ]
  },
  {
   "cell_type": "code",
   "execution_count": 28,
   "id": "734f3e85",
   "metadata": {},
   "outputs": [
    {
     "data": {
      "text/html": [
       "<div><div id=b1cf3593-d707-40ed-8d4e-5b977a532ce0 style=\"display:none; background-color:#9D6CFF; color:white; width:200px; height:30px; padding-left:5px; border-radius:4px; flex-direction:row; justify-content:space-around; align-items:center;\" onmouseover=\"this.style.backgroundColor='#BA9BF8'\" onmouseout=\"this.style.backgroundColor='#9D6CFF'\" onclick=\"window.commands?.execute('create-mitosheet-from-dataframe-output');\">See Full Dataframe in Mito</div> <script> if (window.commands?.hasCommand('create-mitosheet-from-dataframe-output')) document.getElementById('b1cf3593-d707-40ed-8d4e-5b977a532ce0').style.display = 'flex' </script> <table border=\"1\" class=\"dataframe\">\n",
       "  <thead>\n",
       "    <tr style=\"text-align: right;\">\n",
       "      <th></th>\n",
       "      <th>bedroomcnt</th>\n",
       "      <th>bathroomcnt</th>\n",
       "      <th>sq_ft</th>\n",
       "      <th>lot_size</th>\n",
       "      <th>tax_assessed_price</th>\n",
       "      <th>yearbuilt</th>\n",
       "      <th>county</th>\n",
       "    </tr>\n",
       "  </thead>\n",
       "  <tbody>\n",
       "    <tr>\n",
       "      <th>35203</th>\n",
       "      <td>3.0</td>\n",
       "      <td>2.0</td>\n",
       "      <td>1786.0</td>\n",
       "      <td>3252.0</td>\n",
       "      <td>169940.0</td>\n",
       "      <td>1994.0</td>\n",
       "      <td>los_angeles</td>\n",
       "    </tr>\n",
       "  </tbody>\n",
       "</table></div>"
      ],
      "text/plain": [
       "       bedroomcnt  bathroomcnt   sq_ft  lot_size  tax_assessed_price  \\\n",
       "35203         3.0          2.0  1786.0    3252.0            169940.0   \n",
       "\n",
       "       yearbuilt       county  \n",
       "35203     1994.0  los_angeles  "
      ]
     },
     "execution_count": 28,
     "metadata": {},
     "output_type": "execute_result"
    }
   ],
   "source": [
    "train.head(1)"
   ]
  },
  {
   "cell_type": "code",
   "execution_count": 29,
   "id": "fe1e02a4",
   "metadata": {},
   "outputs": [],
   "source": [
    "train_la=train[train.county == \"los_angeles\"]\n",
    "train_oc=train[train.county == \"orange_county\"]\n",
    "train_ventura=train[train.county == \"ventura\"]"
   ]
  },
  {
   "cell_type": "code",
   "execution_count": 30,
   "id": "2a3f9f86",
   "metadata": {},
   "outputs": [
    {
     "data": {
      "text/plain": [
       "423866.0951829806"
      ]
     },
     "execution_count": 30,
     "metadata": {},
     "output_type": "execute_result"
    }
   ],
   "source": [
    "avg_la_home_price = train_la.tax_assessed_price.mean()\n",
    "avg_oc_home_price = train_oc.tax_assessed_price.mean()\n",
    "avg_ventura_home_price = train_ventura.tax_assessed_price.mean()\n",
    "avg_la_home_price"
   ]
  },
  {
   "cell_type": "code",
   "execution_count": 31,
   "id": "98d7431d",
   "metadata": {},
   "outputs": [
    {
     "name": "stdout",
     "output_type": "stream",
     "text": [
      "The mean LA county home price is  423866.0951829806\n",
      "The mean OC home price is  551684.5948065304\n",
      "The mean Ventura county home price is 489874.1909736732\n"
     ]
    }
   ],
   "source": [
    "print(\"The mean LA county home price is \", avg_la_home_price)\n",
    "print(\"The mean OC home price is \", avg_oc_home_price)\n",
    "print(\"The mean Ventura county home price is\", avg_ventura_home_price)"
   ]
  },
  {
   "cell_type": "code",
   "execution_count": 32,
   "id": "8407c07e",
   "metadata": {
    "scrolled": false
   },
   "outputs": [
    {
     "data": {
      "image/png": "[encoded data removed]",
      "text/plain": [
       "<Figure size 432x288 with 1 Axes>"
      ]
     },
     "metadata": {
      "needs_background": "light"
     },
     "output_type": "display_data"
    }
   ],
   "source": [
    "sns.boxplot(x='county', y='tax_assessed_price', data=train)\n",
    "plt.show()"
   ]
  },
  {
   "cell_type": "code",
   "execution_count": 33,
   "id": "d91971f0",
   "metadata": {},
   "outputs": [
    {
     "data": {
      "image/png": "[encoded data removed]",
      "text/plain": [
       "<Figure size 432x288 with 1 Axes>"
      ]
     },
     "metadata": {
      "needs_background": "light"
     },
     "output_type": "display_data"
    }
   ],
   "source": [
    "sns.violinplot(x='county', y='tax_assessed_price', data=train)\n",
    "plt.show()"
   ]
  },
  {
   "cell_type": "markdown",
   "id": "ed85d193",
   "metadata": {},
   "source": [
    "### Takeaway 2A:\n",
    "- the mean prices across counties are clearly different, let's see if the differences are statistically significant"
   ]
  },
  {
   "cell_type": "code",
   "execution_count": 34,
   "id": "ff4e5886",
   "metadata": {},
   "outputs": [
    {
     "data": {
      "text/plain": [
       "464558.9007275039"
      ]
     },
     "execution_count": 34,
     "metadata": {},
     "output_type": "execute_result"
    }
   ],
   "source": [
    "train.tax_assessed_price.mean()"
   ]
  },
  {
   "cell_type": "markdown",
   "id": "ce670a36",
   "metadata": {},
   "source": [
    "### t-test the data for difference in means\n",
    "1. The average price for homes is . Is there a significant price difference between homes built in Ventura, OC, and LA counties?\n",
    "<br>\n",
    "    a. Null: no difference in mean home price between counties.\n",
    "    <br>\n",
    "    b. Alt: there is a difference in mean home price between between counties.\n",
    "    <br>\n",
    "        i. use one way (one IV), three level ANOVA with replication (seperate groups being measured) to check counties for significant price difference\n",
    "        <br>"
   ]
  },
  {
   "cell_type": "code",
   "execution_count": 35,
   "id": "ab274cf6",
   "metadata": {},
   "outputs": [
    {
     "data": {
      "text/plain": [
       "(167278673112.0948, 177634866183.98315, 97944356775.92471)"
      ]
     },
     "execution_count": 35,
     "metadata": {},
     "output_type": "execute_result"
    }
   ],
   "source": [
    "# check for variance:\n",
    "train_la.tax_assessed_price.var(), train_oc.tax_assessed_price.var(), train_ventura.tax_assessed_price.var()"
   ]
  },
  {
   "cell_type": "code",
   "execution_count": 36,
   "id": "389ce3ad",
   "metadata": {},
   "outputs": [
    {
     "data": {
      "text/plain": [
       "1.8136304329444208"
      ]
     },
     "execution_count": 36,
     "metadata": {},
     "output_type": "execute_result"
    }
   ],
   "source": [
    "# the ratio of variance:\n",
    "train_oc.tax_assessed_price.var()/train_ventura.tax_assessed_price.var()"
   ]
  },
  {
   "cell_type": "code",
   "execution_count": 37,
   "id": "c6833238",
   "metadata": {},
   "outputs": [],
   "source": [
    "# The variance needs to be adjusted in the t-test, equal_var=false"
   ]
  },
  {
   "cell_type": "code",
   "execution_count": 38,
   "id": "984d069e",
   "metadata": {},
   "outputs": [
    {
     "name": "stdout",
     "output_type": "stream",
     "text": [
      "LA vs OC home price means testing: t-stat is -22.57605, p-stat is 0.0\n",
      "______________________________________________________________________________________________\n",
      "LA vs Ventura home price means testing: t-stat is -9.32107, p-stat is 0.0\n",
      "______________________________________________________________________________________________\n",
      "OC vs Ventura home price means testing: t-stat is 7.74054, p-stat is 0.0\n",
      "______________________________________________________________________________________________\n"
     ]
    }
   ],
   "source": [
    "# Set the t- and p-values\n",
    "# test LA vs OC\n",
    "t1, p1 = stats.ttest_ind(train_la.tax_assessed_price, train_oc.tax_assessed_price, equal_var=False)\n",
    "print(f\"LA vs OC home price means testing: t-stat is {t1.round(5)}, p-stat is {p1.round(5)}\")\n",
    "print(\"______________________________________________________________________________________________\")\n",
    "# test LA vs Ventura\n",
    "t2, p2 = stats.ttest_ind(train_la.tax_assessed_price, train_ventura.tax_assessed_price, equal_var=False)\n",
    "print(f\"LA vs Ventura home price means testing: t-stat is {t2.round(5)}, p-stat is {p2.round(5)}\")\n",
    "print(\"______________________________________________________________________________________________\")\n",
    "# test OC vs Ventura\n",
    "t3, p3 = stats.ttest_ind(train_oc.tax_assessed_price, train_ventura.tax_assessed_price, equal_var=False)\n",
    "print(f\"OC vs Ventura home price means testing: t-stat is {t3.round(5)}, p-stat is {p3.round(5)}\")\n",
    "print(\"______________________________________________________________________________________________\")"
   ]
  },
  {
   "cell_type": "code",
   "execution_count": 39,
   "id": "68193f7f",
   "metadata": {},
   "outputs": [],
   "source": [
    "a = 0.05"
   ]
  },
  {
   "cell_type": "code",
   "execution_count": 40,
   "id": "c33f65cd",
   "metadata": {},
   "outputs": [
    {
     "name": "stdout",
     "output_type": "stream",
     "text": [
      "We have sufficient evidence to REJECT the null hypothesis that there is no difference in mean home price between LA and OC counties\n",
      "We have sufficient evidence to REJECT the null hypothesis that there is no difference in mean home price between LA and Ventura counties\n",
      "We have sufficient evidence to REJECT the null hypothesis that there is no difference in mean home price between OC and Ventura counties\n"
     ]
    }
   ],
   "source": [
    "if p1 < a:\n",
    "    print(\"We have sufficient evidence to REJECT the null hypothesis that there is no difference in mean home price between LA and OC counties\")\n",
    "else:\n",
    "    print(\"We have sufficient evidence to ACCEPT the null hypothesis that there no difference in mean home price between LA and OC counties\")\n",
    "\n",
    "if p2 < a:\n",
    "    print(\"We have sufficient evidence to REJECT the null hypothesis that there is no difference in mean home price between LA and Ventura counties\")\n",
    "else:\n",
    "    print(\"We have sufficient evidence to ACCEPT the null hypothesis that there no difference in mean home price between LA and Ventura counties\")\n",
    "\n",
    "if p3 < a:\n",
    "    print(\"We have sufficient evidence to REJECT the null hypothesis that there is no difference in mean home price between OC and Ventura counties\")\n",
    "else:\n",
    "    print(\"We have sufficient evidence to ACCEPT the null hypothesis that there no difference in mean home price between OC and Ventura counties\")"
   ]
  },
  {
   "cell_type": "markdown",
   "id": "447f4f62",
   "metadata": {},
   "source": [
    "### Takeaway 2B:\n",
    "- there is a significant difference in mean home price between counties."
   ]
  },
  {
   "cell_type": "markdown",
   "id": "89df655b",
   "metadata": {},
   "source": [
    "## Question 3. Does the county where a home is located have a significant impact on total sqft? \n",
    "<br>\n",
    "    a. Null: no difference in mean home sq_ft between counties.\n",
    "    <br>\n",
    "    b. Alt: there is a difference in mean home sq_ft between between counties.\n",
    "    <br>\n",
    "        i. use two sample, independent t-test to check county means for significant price difference\n",
    "        <br>"
   ]
  },
  {
   "cell_type": "code",
   "execution_count": 41,
   "id": "09c20450",
   "metadata": {},
   "outputs": [
    {
     "data": {
      "text/html": [
       "<div><div id=f5bdb6ec-4a49-4552-b36d-0d735175b91c style=\"display:none; background-color:#9D6CFF; color:white; width:200px; height:30px; padding-left:5px; border-radius:4px; flex-direction:row; justify-content:space-around; align-items:center;\" onmouseover=\"this.style.backgroundColor='#BA9BF8'\" onmouseout=\"this.style.backgroundColor='#9D6CFF'\" onclick=\"window.commands?.execute('create-mitosheet-from-dataframe-output');\">See Full Dataframe in Mito</div> <script> if (window.commands?.hasCommand('create-mitosheet-from-dataframe-output')) document.getElementById('f5bdb6ec-4a49-4552-b36d-0d735175b91c').style.display = 'flex' </script> <table border=\"1\" class=\"dataframe\">\n",
       "  <thead>\n",
       "    <tr style=\"text-align: right;\">\n",
       "      <th></th>\n",
       "      <th>bedroomcnt</th>\n",
       "      <th>bathroomcnt</th>\n",
       "      <th>sq_ft</th>\n",
       "      <th>lot_size</th>\n",
       "      <th>tax_assessed_price</th>\n",
       "      <th>yearbuilt</th>\n",
       "      <th>county</th>\n",
       "    </tr>\n",
       "  </thead>\n",
       "  <tbody>\n",
       "    <tr>\n",
       "      <th>35203</th>\n",
       "      <td>3.0</td>\n",
       "      <td>2.0</td>\n",
       "      <td>1786.0</td>\n",
       "      <td>3252.0</td>\n",
       "      <td>169940.0</td>\n",
       "      <td>1994.0</td>\n",
       "      <td>los_angeles</td>\n",
       "    </tr>\n",
       "  </tbody>\n",
       "</table></div>"
      ],
      "text/plain": [
       "       bedroomcnt  bathroomcnt   sq_ft  lot_size  tax_assessed_price  \\\n",
       "35203         3.0          2.0  1786.0    3252.0            169940.0   \n",
       "\n",
       "       yearbuilt       county  \n",
       "35203     1994.0  los_angeles  "
      ]
     },
     "execution_count": 41,
     "metadata": {},
     "output_type": "execute_result"
    }
   ],
   "source": [
    "train.head(1)"
   ]
  },
  {
   "cell_type": "code",
   "execution_count": 42,
   "id": "572ed325",
   "metadata": {},
   "outputs": [],
   "source": [
    "train_la=train[train.county == \"los_angeles\"]\n",
    "train_oc=train[train.county == \"orange_county\"]\n",
    "train_ventura=train[train.county == \"ventura\"]"
   ]
  },
  {
   "cell_type": "code",
   "execution_count": 43,
   "id": "8c3bb6bf",
   "metadata": {},
   "outputs": [
    {
     "data": {
      "text/plain": [
       "1723.1405974426807"
      ]
     },
     "execution_count": 43,
     "metadata": {},
     "output_type": "execute_result"
    }
   ],
   "source": [
    "avg_la_sq_ft = train_la.sq_ft.mean()\n",
    "avg_oc_sq_ft = train_oc.sq_ft.mean()\n",
    "avg_ventura_sq_ft = train_ventura.sq_ft.mean()\n",
    "avg_la_sq_ft"
   ]
  },
  {
   "cell_type": "code",
   "execution_count": 44,
   "id": "9c101000",
   "metadata": {},
   "outputs": [
    {
     "name": "stdout",
     "output_type": "stream",
     "text": [
      "The mean LA county home sq_ft is  1723.1405974426807\n",
      "The mean OC home sq_ft is  2058.9569353387324\n",
      "The mean Ventura county sq_ft price is 2058.111993313832\n"
     ]
    }
   ],
   "source": [
    "print(\"The mean LA county home sq_ft is \", avg_la_sq_ft)\n",
    "print(\"The mean OC home sq_ft is \", avg_oc_sq_ft)\n",
    "print(\"The mean Ventura county sq_ft price is\", avg_ventura_sq_ft)"
   ]
  },
  {
   "cell_type": "code",
   "execution_count": 45,
   "id": "eaaf4fbf",
   "metadata": {
    "scrolled": false
   },
   "outputs": [
    {
     "data": {
      "image/png": "[encoded data removed]",
      "text/plain": [
       "<Figure size 432x288 with 1 Axes>"
      ]
     },
     "metadata": {
      "needs_background": "light"
     },
     "output_type": "display_data"
    }
   ],
   "source": [
    "sns.boxplot(x='county', y='sq_ft', data=train)\n",
    "plt.show()"
   ]
  },
  {
   "cell_type": "code",
   "execution_count": 46,
   "id": "cb8d69a9",
   "metadata": {},
   "outputs": [
    {
     "data": {
      "image/png": "[encoded data removed]",
      "text/plain": [
       "<Figure size 432x288 with 1 Axes>"
      ]
     },
     "metadata": {
      "needs_background": "light"
     },
     "output_type": "display_data"
    }
   ],
   "source": [
    "sns.violinplot(x='county', y='sq_ft', data=train)\n",
    "plt.show()"
   ]
  },
  {
   "cell_type": "markdown",
   "id": "04b066da",
   "metadata": {},
   "source": [
    "### Takeaway 3A:\n",
    "- the mean sq_ft across counties are different for LA: OC and LA: Ventura, let's see if the differences are statistically significant"
   ]
  },
  {
   "cell_type": "code",
   "execution_count": 47,
   "id": "b3d68ceb",
   "metadata": {},
   "outputs": [
    {
     "data": {
      "text/plain": [
       "1843.705007769459"
      ]
     },
     "execution_count": 47,
     "metadata": {},
     "output_type": "execute_result"
    }
   ],
   "source": [
    "train.sq_ft.mean()"
   ]
  },
  {
   "cell_type": "markdown",
   "id": "2f128699",
   "metadata": {},
   "source": [
    "### t-test the data for difference in means\n",
    "1. The average price for homes is . Is there a significant price difference between homes built in Ventura, OC, and LA counties?\n",
    "<br>\n",
    "    a. Null: no difference in mean home price between counties.\n",
    "    <br>\n",
    "    b. Alt: there is a difference in mean home price between between counties.\n",
    "    <br>\n",
    "        i. use one way (one IV), three level ANOVA with replication (seperate groups being measured) to check counties for significant price difference\n",
    "        <br>"
   ]
  },
  {
   "cell_type": "code",
   "execution_count": 48,
   "id": "1f2e40e8",
   "metadata": {},
   "outputs": [
    {
     "data": {
      "text/plain": [
       "(567750.9792391526, 708941.3870626542, 697085.2466495776)"
      ]
     },
     "execution_count": 48,
     "metadata": {},
     "output_type": "execute_result"
    }
   ],
   "source": [
    "# check for variance:\n",
    "train_la.sq_ft.var(), train_oc.sq_ft.var(), train_ventura.sq_ft.var()"
   ]
  },
  {
   "cell_type": "code",
   "execution_count": 49,
   "id": "fbf041b0",
   "metadata": {},
   "outputs": [
    {
     "data": {
      "text/plain": [
       "1.0170081643099766"
      ]
     },
     "execution_count": 49,
     "metadata": {},
     "output_type": "execute_result"
    }
   ],
   "source": [
    "# the ratio of variance:\n",
    "train_oc.sq_ft.var()/train_ventura.sq_ft.var()"
   ]
  },
  {
   "cell_type": "code",
   "execution_count": 50,
   "id": "2ff316a2",
   "metadata": {},
   "outputs": [],
   "source": [
    "# The variance does not need to be adjusted in the t-test, equal_var=True"
   ]
  },
  {
   "cell_type": "code",
   "execution_count": 51,
   "id": "28e4aa4b",
   "metadata": {},
   "outputs": [
    {
     "name": "stdout",
     "output_type": "stream",
     "text": [
      "LA vs OC home sq_ft means testing: t-stat is -31.72349, p-stat is 0.0\n",
      "______________________________________________________________________________________________\n",
      "LA vs Ventura home sq_ft means testing: t-stat is -20.17489, p-stat is 0.0\n",
      "______________________________________________________________________________________________\n",
      "OC vs Ventura home sq_ft means testing: t-stat is 0.04301, p-stat is 0.96569\n",
      "______________________________________________________________________________________________\n"
     ]
    }
   ],
   "source": [
    "# Set the t- and p-values\n",
    "# test LA vs OC\n",
    "t1, p1 = stats.ttest_ind(train_la.sq_ft, train_oc.sq_ft)\n",
    "print(f\"LA vs OC home sq_ft means testing: t-stat is {t1.round(5)}, p-stat is {p1.round(5)}\")\n",
    "print(\"______________________________________________________________________________________________\")\n",
    "# test LA vs Ventura\n",
    "t2, p2 = stats.ttest_ind(train_la.sq_ft, train_ventura.sq_ft)\n",
    "print(f\"LA vs Ventura home sq_ft means testing: t-stat is {t2.round(5)}, p-stat is {p2.round(5)}\")\n",
    "print(\"______________________________________________________________________________________________\")\n",
    "# test OC vs Ventura\n",
    "t3, p3 = stats.ttest_ind(train_oc.sq_ft, train_ventura.sq_ft)\n",
    "print(f\"OC vs Ventura home sq_ft means testing: t-stat is {t3.round(5)}, p-stat is {p3.round(5)}\")\n",
    "print(\"______________________________________________________________________________________________\")"
   ]
  },
  {
   "cell_type": "code",
   "execution_count": 52,
   "id": "3b78c51a",
   "metadata": {},
   "outputs": [],
   "source": [
    "a = 0.05"
   ]
  },
  {
   "cell_type": "code",
   "execution_count": 53,
   "id": "53ced51b",
   "metadata": {},
   "outputs": [
    {
     "name": "stdout",
     "output_type": "stream",
     "text": [
      "We have sufficient evidence to REJECT the null hypothesis that there is no difference in mean home sq_ft between LA and OC counties\n",
      "We have sufficient evidence to REJECT the null hypothesis that there is no difference in mean home sq_ft between LA and Ventura counties\n",
      "We have sufficient evidence to ACCEPT the null hypothesis that there no difference in mean home sq_ft between OC and Ventura counties\n"
     ]
    }
   ],
   "source": [
    "if p1 < a:\n",
    "    print(\"We have sufficient evidence to REJECT the null hypothesis that there is no difference in mean home sq_ft between LA and OC counties\")\n",
    "else:\n",
    "    print(\"We have sufficient evidence to ACCEPT the null hypothesis that there no difference in mean home sq_ft between LA and OC counties\")\n",
    "\n",
    "if p2 < a:\n",
    "    print(\"We have sufficient evidence to REJECT the null hypothesis that there is no difference in mean home sq_ft between LA and Ventura counties\")\n",
    "else:\n",
    "    print(\"We have sufficient evidence to ACCEPT the null hypothesis that there no difference in mean home sq_ft between LA and Ventura counties\")\n",
    "\n",
    "if p3 < a:\n",
    "    print(\"We have sufficient evidence to REJECT the null hypothesis that there is no difference in mean home sq_ft between OC and Ventura counties\")\n",
    "else:\n",
    "    print(\"We have sufficient evidence to ACCEPT the null hypothesis that there no difference in mean home sq_ft between OC and Ventura counties\")"
   ]
  },
  {
   "cell_type": "markdown",
   "id": "ee2582ea",
   "metadata": {},
   "source": [
    "### Takeaway 3B:\n",
    "- there is a significant difference in mean home sq_ft between counties, in the case of LA and OC, LA and Ventura, but not between Ventura and OC."
   ]
  },
  {
   "cell_type": "markdown",
   "id": "6918340e",
   "metadata": {},
   "source": [
    "## Question 4. Is the average house newer in some counties than others?\n",
    "<br>\n",
    "    a. Null: no difference in mean home year built between counties.\n",
    "    <br>\n",
    "    b. Alt: there is a difference in mean home year built between counties.\n",
    "    <br>\n",
    "        i. use independent, two tailed t-test to check pop means for significant price difference\n",
    "        <br>"
   ]
  },
  {
   "cell_type": "code",
   "execution_count": 54,
   "id": "aaf56681",
   "metadata": {},
   "outputs": [
    {
     "data": {
      "text/html": [
       "<div><div id=3680ec31-3581-42f8-8d74-bd1fff03a99a style=\"display:none; background-color:#9D6CFF; color:white; width:200px; height:30px; padding-left:5px; border-radius:4px; flex-direction:row; justify-content:space-around; align-items:center;\" onmouseover=\"this.style.backgroundColor='#BA9BF8'\" onmouseout=\"this.style.backgroundColor='#9D6CFF'\" onclick=\"window.commands?.execute('create-mitosheet-from-dataframe-output');\">See Full Dataframe in Mito</div> <script> if (window.commands?.hasCommand('create-mitosheet-from-dataframe-output')) document.getElementById('3680ec31-3581-42f8-8d74-bd1fff03a99a').style.display = 'flex' </script> <table border=\"1\" class=\"dataframe\">\n",
       "  <thead>\n",
       "    <tr style=\"text-align: right;\">\n",
       "      <th></th>\n",
       "      <th>bedroomcnt</th>\n",
       "      <th>bathroomcnt</th>\n",
       "      <th>sq_ft</th>\n",
       "      <th>lot_size</th>\n",
       "      <th>tax_assessed_price</th>\n",
       "      <th>yearbuilt</th>\n",
       "      <th>county</th>\n",
       "    </tr>\n",
       "  </thead>\n",
       "  <tbody>\n",
       "    <tr>\n",
       "      <th>35203</th>\n",
       "      <td>3.0</td>\n",
       "      <td>2.0</td>\n",
       "      <td>1786.0</td>\n",
       "      <td>3252.0</td>\n",
       "      <td>169940.0</td>\n",
       "      <td>1994.0</td>\n",
       "      <td>los_angeles</td>\n",
       "    </tr>\n",
       "  </tbody>\n",
       "</table></div>"
      ],
      "text/plain": [
       "       bedroomcnt  bathroomcnt   sq_ft  lot_size  tax_assessed_price  \\\n",
       "35203         3.0          2.0  1786.0    3252.0            169940.0   \n",
       "\n",
       "       yearbuilt       county  \n",
       "35203     1994.0  los_angeles  "
      ]
     },
     "execution_count": 54,
     "metadata": {},
     "output_type": "execute_result"
    }
   ],
   "source": [
    "train.head(1)"
   ]
  },
  {
   "cell_type": "code",
   "execution_count": 55,
   "id": "e1c02474",
   "metadata": {},
   "outputs": [],
   "source": [
    "train_la=train[train.county == \"los_angeles\"]\n",
    "train_oc=train[train.county == \"orange_county\"]\n",
    "train_ventura=train[train.county == \"ventura\"]"
   ]
  },
  {
   "cell_type": "code",
   "execution_count": 56,
   "id": "9de5c952",
   "metadata": {},
   "outputs": [
    {
     "data": {
      "text/plain": [
       "1963.0658285068512"
      ]
     },
     "execution_count": 56,
     "metadata": {},
     "output_type": "execute_result"
    }
   ],
   "source": [
    "avg_la_yearbuilt = train_la.yearbuilt.mean()\n",
    "avg_oc_yearbuilt = train_oc.yearbuilt.mean()\n",
    "avg_ventura_yearbuilt = train_ventura.yearbuilt.mean()\n",
    "train.yearbuilt.mean()"
   ]
  },
  {
   "cell_type": "code",
   "execution_count": 57,
   "id": "e8469616",
   "metadata": {},
   "outputs": [
    {
     "name": "stdout",
     "output_type": "stream",
     "text": [
      "The mean LA county home yearbuilt is  1956.5890652557318\n",
      "The mean OC home yearbuilt is  1974.0852294639415\n",
      "The mean Ventura county yearbuilt is 1976.3522774759715\n"
     ]
    }
   ],
   "source": [
    "print(\"The mean LA county home yearbuilt is \", avg_la_yearbuilt)\n",
    "print(\"The mean OC home yearbuilt is \", avg_oc_yearbuilt)\n",
    "print(\"The mean Ventura county yearbuilt is\", avg_ventura_yearbuilt)"
   ]
  },
  {
   "cell_type": "code",
   "execution_count": 58,
   "id": "8192b629",
   "metadata": {
    "scrolled": false
   },
   "outputs": [
    {
     "data": {
      "image/png": "[encoded data removed]",
      "text/plain": [
       "<Figure size 432x288 with 1 Axes>"
      ]
     },
     "metadata": {
      "needs_background": "light"
     },
     "output_type": "display_data"
    }
   ],
   "source": [
    "sns.boxplot(x='county', y='yearbuilt', data=train)\n",
    "plt.show()"
   ]
  },
  {
   "cell_type": "code",
   "execution_count": 59,
   "id": "03bc4ca0",
   "metadata": {},
   "outputs": [
    {
     "data": {
      "image/png": "[encoded data removed]",
      "text/plain": [
       "<Figure size 432x288 with 1 Axes>"
      ]
     },
     "metadata": {
      "needs_background": "light"
     },
     "output_type": "display_data"
    }
   ],
   "source": [
    "sns.violinplot(x='county', y='yearbuilt', data=train)\n",
    "plt.show()"
   ]
  },
  {
   "cell_type": "markdown",
   "id": "ac1f32c9",
   "metadata": {},
   "source": [
    "### Takeaway 4A:\n",
    "- the mean yearbuilt across counties are different for LA: OC and LA: Ventura, but Ventura:OC is very similar. Let's see if the differences are statistically significant."
   ]
  },
  {
   "cell_type": "code",
   "execution_count": 60,
   "id": "b60f2744",
   "metadata": {},
   "outputs": [
    {
     "data": {
      "text/plain": [
       "1843.705007769459"
      ]
     },
     "execution_count": 60,
     "metadata": {},
     "output_type": "execute_result"
    }
   ],
   "source": [
    "train.sq_ft.mean()"
   ]
  },
  {
   "cell_type": "markdown",
   "id": "a0f813d5",
   "metadata": {},
   "source": [
    "### t-test the data for difference in means\n",
    "1. Is there a significant yearbuilt difference between homes built in Ventura, OC, and LA counties?\n",
    "<br>\n",
    "    a. Null: no difference in mean yearbuilt between counties.\n",
    "    <br>\n",
    "    b. Alt: there is a difference in mean yearbuilt between between counties.\n",
    "    <br>\n",
    "       i. use independent, two tailed t-test to check pop means for significant yearbuilt difference\n",
    "        <br>"
   ]
  },
  {
   "cell_type": "code",
   "execution_count": 61,
   "id": "f88a8273",
   "metadata": {},
   "outputs": [
    {
     "data": {
      "text/plain": [
       "(503.27862374176044, 336.2178571439186, 327.39800588953)"
      ]
     },
     "execution_count": 61,
     "metadata": {},
     "output_type": "execute_result"
    }
   ],
   "source": [
    "# check for variance:\n",
    "train_la.yearbuilt.var(), train_oc.yearbuilt.var(), train_ventura.yearbuilt.var()"
   ]
  },
  {
   "cell_type": "code",
   "execution_count": 62,
   "id": "6d4020d8",
   "metadata": {},
   "outputs": [
    {
     "data": {
      "text/plain": [
       "1.4968824916587675"
      ]
     },
     "execution_count": 62,
     "metadata": {},
     "output_type": "execute_result"
    }
   ],
   "source": [
    "# the ratio of variance:\n",
    "train_la.yearbuilt.var()/train_oc.yearbuilt.var()"
   ]
  },
  {
   "cell_type": "code",
   "execution_count": 63,
   "id": "e33dae20",
   "metadata": {},
   "outputs": [],
   "source": [
    "# The variance does not need to be adjusted in the t-test, equal_var=True"
   ]
  },
  {
   "cell_type": "code",
   "execution_count": 64,
   "id": "974aa9b9",
   "metadata": {},
   "outputs": [
    {
     "name": "stdout",
     "output_type": "stream",
     "text": [
      "LA vs OC home yearbuilt means testing: t-stat is -60.6468, p-stat is 0.0\n",
      "______________________________________________________________________________________________\n",
      "LA vs Ventura home yearbuilt means testing: t-stat is -41.35682, p-stat is 0.0\n",
      "______________________________________________________________________________________________\n",
      "OC vs Ventura home yearbuilt means testing: t-stat is -5.30548, p-stat is 0.0\n",
      "______________________________________________________________________________________________\n"
     ]
    }
   ],
   "source": [
    "# Set the t- and p-values\n",
    "# test LA vs OC\n",
    "t1, p1 = stats.ttest_ind(train_la.yearbuilt, train_oc.yearbuilt)\n",
    "print(f\"LA vs OC home yearbuilt means testing: t-stat is {t1.round(5)}, p-stat is {p1.round(5)}\")\n",
    "print(\"______________________________________________________________________________________________\")\n",
    "# test LA vs Ventura\n",
    "t2, p2 = stats.ttest_ind(train_la.yearbuilt, train_ventura.yearbuilt)\n",
    "print(f\"LA vs Ventura home yearbuilt means testing: t-stat is {t2.round(5)}, p-stat is {p2.round(5)}\")\n",
    "print(\"______________________________________________________________________________________________\")\n",
    "# test OC vs Ventura\n",
    "t3, p3 = stats.ttest_ind(train_oc.yearbuilt, train_ventura.yearbuilt)\n",
    "print(f\"OC vs Ventura home yearbuilt means testing: t-stat is {t3.round(5)}, p-stat is {p3.round(5)}\")\n",
    "print(\"______________________________________________________________________________________________\")"
   ]
  },
  {
   "cell_type": "code",
   "execution_count": 65,
   "id": "d702238e",
   "metadata": {},
   "outputs": [],
   "source": [
    "a = 0.05"
   ]
  },
  {
   "cell_type": "code",
   "execution_count": 66,
   "id": "9b6946f8",
   "metadata": {},
   "outputs": [
    {
     "name": "stdout",
     "output_type": "stream",
     "text": [
      "We have sufficient evidence to REJECT the null hypothesis that there is no difference in mean home yearbuilt between LA and OC counties\n",
      "We have sufficient evidence to REJECT the null hypothesis that there is no difference in mean home yearbuilt between LA and Ventura counties\n",
      "We have sufficient evidence to REJECT the null hypothesis that there is no difference in mean home yearbuilt between OC and Ventura counties\n"
     ]
    }
   ],
   "source": [
    "if p1 < a:\n",
    "    print(\"We have sufficient evidence to REJECT the null hypothesis that there is no difference in mean home yearbuilt between LA and OC counties\")\n",
    "else:\n",
    "    print(\"We have sufficient evidence to ACCEPT the null hypothesis that there no difference in mean home yearbuilt between LA and OC counties\")\n",
    "\n",
    "if p2 < a:\n",
    "    print(\"We have sufficient evidence to REJECT the null hypothesis that there is no difference in mean home yearbuilt between LA and Ventura counties\")\n",
    "else:\n",
    "    print(\"We have sufficient evidence to ACCEPT the null hypothesis that there no difference in mean home yearbuilt between LA and Ventura counties\")\n",
    "\n",
    "if p3 < a:\n",
    "    print(\"We have sufficient evidence to REJECT the null hypothesis that there is no difference in mean home yearbuilt between OC and Ventura counties\")\n",
    "else:\n",
    "    print(\"We have sufficient evidence to ACCEPT the null hypothesis that there no difference in mean home yearbuilt between OC and Ventura counties\")"
   ]
  },
  {
   "cell_type": "markdown",
   "id": "2b00ec26",
   "metadata": {},
   "source": [
    "### Takeaway 4B:\n",
    "- there is a significant difference in mean home yearbuilt between all counties"
   ]
  },
  {
   "cell_type": "markdown",
   "id": "4103bf6c",
   "metadata": {},
   "source": [
    "<h2> Exploration Takeaways:</h2>\n",
    "<br>\n",
    "<h3> Takeaway 1B:</h3>\n",
    "- there is a significant difference in mean home price before and after 1963 (mean build year)\n",
    "- additionally, there is a difference in the predictive power of 'yearbuilt' pre- and post-1963. This is a much more effective predictor post-1963 (see graph below: -0.05 correl pre-1963, 0.29 post-1963)\n",
    "- given more time, I would use pre/post 1963 as a parameter for a split dataset with the predictor removed for pre-1963.\n",
    "<br>\n",
    "<h3>Takeaway 2B:</h3>\n",
    "- there is a significant difference in mean home price between counties.\n",
    "<br>\n",
    "<h3>Takeaway 3B:</h3>\n",
    "- there is a significant difference in mean home sq_ft between counties, in the case of LA and OC, LA and Ventura, but not between Ventura and OC.\n",
    "<br>\n",
    "<h3>Takeaway 4B:</h3>\n",
    "- there is a significant difference in mean home yearbuilt between all counties\n",
    "<br>"
   ]
  },
  {
   "cell_type": "markdown",
   "id": "30f3f4e1",
   "metadata": {},
   "source": [
    "<h2> 4. Modeling </h2>"
   ]
  },
  {
   "cell_type": "code",
   "execution_count": 67,
   "id": "52e496bb",
   "metadata": {},
   "outputs": [],
   "source": [
    "import pandas as pd\n",
    "import numpy as np\n",
    "import wrangle\n",
    "import matplotlib.pyplot as plt\n",
    "import sklearn.preprocessing\n",
    "\n",
    "# modeling methods\n",
    "from sklearn.metrics import mean_squared_error\n",
    "from sklearn.linear_model import LinearRegression, LassoLars, TweedieRegressor\n",
    "from sklearn.preprocessing import PolynomialFeatures\n",
    "\n",
    "import warnings\n",
    "warnings.filterwarnings(\"ignore\")"
   ]
  },
  {
   "cell_type": "code",
   "execution_count": 68,
   "id": "0ffafd30",
   "metadata": {},
   "outputs": [
    {
     "data": {
      "text/html": [
       "<div><div id=b2ecd023-5b01-4221-9979-4ffa99e6c982 style=\"display:none; background-color:#9D6CFF; color:white; width:200px; height:30px; padding-left:5px; border-radius:4px; flex-direction:row; justify-content:space-around; align-items:center;\" onmouseover=\"this.style.backgroundColor='#BA9BF8'\" onmouseout=\"this.style.backgroundColor='#9D6CFF'\" onclick=\"window.commands?.execute('create-mitosheet-from-dataframe-output');\">See Full Dataframe in Mito</div> <script> if (window.commands?.hasCommand('create-mitosheet-from-dataframe-output')) document.getElementById('b2ecd023-5b01-4221-9979-4ffa99e6c982').style.display = 'flex' </script> <table border=\"1\" class=\"dataframe\">\n",
       "  <thead>\n",
       "    <tr style=\"text-align: right;\">\n",
       "      <th></th>\n",
       "      <th>bedroomcnt</th>\n",
       "      <th>bathroomcnt</th>\n",
       "      <th>sq_ft</th>\n",
       "      <th>lot_size</th>\n",
       "      <th>tax_assessed_price</th>\n",
       "      <th>yearbuilt</th>\n",
       "      <th>county</th>\n",
       "    </tr>\n",
       "  </thead>\n",
       "  <tbody>\n",
       "    <tr>\n",
       "      <th>35203</th>\n",
       "      <td>3.0</td>\n",
       "      <td>2.0</td>\n",
       "      <td>1786.0</td>\n",
       "      <td>3252.0</td>\n",
       "      <td>169940.0</td>\n",
       "      <td>1994.0</td>\n",
       "      <td>los_angeles</td>\n",
       "    </tr>\n",
       "  </tbody>\n",
       "</table></div>"
      ],
      "text/plain": [
       "       bedroomcnt  bathroomcnt   sq_ft  lot_size  tax_assessed_price  \\\n",
       "35203         3.0          2.0  1786.0    3252.0            169940.0   \n",
       "\n",
       "       yearbuilt       county  \n",
       "35203     1994.0  los_angeles  "
      ]
     },
     "execution_count": 68,
     "metadata": {},
     "output_type": "execute_result"
    }
   ],
   "source": [
    "train.head(1)"
   ]
  },
  {
   "cell_type": "markdown",
   "id": "6e72477e",
   "metadata": {},
   "source": [
    "<h3> Scale </h3>"
   ]
  },
  {
   "cell_type": "code",
   "execution_count": 69,
   "id": "b4878fbd",
   "metadata": {},
   "outputs": [],
   "source": [
    "# Use MinMaxScaler\n",
    "scaler = sklearn.preprocessing.MinMaxScaler()"
   ]
  },
  {
   "cell_type": "code",
   "execution_count": 70,
   "id": "6a8c17d2",
   "metadata": {},
   "outputs": [
    {
     "name": "stdout",
     "output_type": "stream",
     "text": [
      "<class 'pandas.core.frame.DataFrame'>\n",
      "Int64Index: 28316 entries, 35203 to 22251\n",
      "Data columns (total 7 columns):\n",
      " #   Column              Non-Null Count  Dtype  \n",
      "---  ------              --------------  -----  \n",
      " 0   bedroomcnt          28316 non-null  float64\n",
      " 1   bathroomcnt         28316 non-null  float64\n",
      " 2   sq_ft               28316 non-null  float64\n",
      " 3   lot_size            28316 non-null  float64\n",
      " 4   tax_assessed_price  28316 non-null  float64\n",
      " 5   yearbuilt           28316 non-null  float64\n",
      " 6   county              28316 non-null  object \n",
      "dtypes: float64(6), object(1)\n",
      "memory usage: 2.7+ MB\n"
     ]
    }
   ],
   "source": [
    "# split into X and y train, validate, test\n",
    "# drop 'parcelid'\n",
    "# encode 'county'\n",
    "train.info()"
   ]
  },
  {
   "cell_type": "code",
   "execution_count": 71,
   "id": "f98cdd72",
   "metadata": {},
   "outputs": [
    {
     "data": {
      "text/html": [
       "<div><div id=0696c45a-947e-43c6-aa8f-90ce860e753d style=\"display:none; background-color:#9D6CFF; color:white; width:200px; height:30px; padding-left:5px; border-radius:4px; flex-direction:row; justify-content:space-around; align-items:center;\" onmouseover=\"this.style.backgroundColor='#BA9BF8'\" onmouseout=\"this.style.backgroundColor='#9D6CFF'\" onclick=\"window.commands?.execute('create-mitosheet-from-dataframe-output');\">See Full Dataframe in Mito</div> <script> if (window.commands?.hasCommand('create-mitosheet-from-dataframe-output')) document.getElementById('0696c45a-947e-43c6-aa8f-90ce860e753d').style.display = 'flex' </script> <table border=\"1\" class=\"dataframe\">\n",
       "  <thead>\n",
       "    <tr style=\"text-align: right;\">\n",
       "      <th></th>\n",
       "      <th>bedroomcnt</th>\n",
       "      <th>bathroomcnt</th>\n",
       "      <th>sq_ft</th>\n",
       "      <th>lot_size</th>\n",
       "      <th>tax_assessed_price</th>\n",
       "      <th>yearbuilt</th>\n",
       "      <th>county</th>\n",
       "    </tr>\n",
       "  </thead>\n",
       "  <tbody>\n",
       "    <tr>\n",
       "      <th>35203</th>\n",
       "      <td>3.0</td>\n",
       "      <td>2.0</td>\n",
       "      <td>1786.0</td>\n",
       "      <td>3252.0</td>\n",
       "      <td>169940.0</td>\n",
       "      <td>1994.0</td>\n",
       "      <td>los_angeles</td>\n",
       "    </tr>\n",
       "  </tbody>\n",
       "</table></div>"
      ],
      "text/plain": [
       "       bedroomcnt  bathroomcnt   sq_ft  lot_size  tax_assessed_price  \\\n",
       "35203         3.0          2.0  1786.0    3252.0            169940.0   \n",
       "\n",
       "       yearbuilt       county  \n",
       "35203     1994.0  los_angeles  "
      ]
     },
     "execution_count": 71,
     "metadata": {},
     "output_type": "execute_result"
    }
   ],
   "source": [
    "train.head(1)"
   ]
  },
  {
   "cell_type": "code",
   "execution_count": 72,
   "id": "ca71606c",
   "metadata": {},
   "outputs": [],
   "source": [
    "encoded_train = wrangle.encode_zillow(train)\n",
    "encoded_validate = wrangle.encode_zillow(validate)\n",
    "encoded_test = wrangle.encode_zillow(test)"
   ]
  },
  {
   "cell_type": "code",
   "execution_count": 73,
   "id": "810963af",
   "metadata": {},
   "outputs": [
    {
     "data": {
      "text/html": [
       "<div><div id=5fa04ed9-214d-4e53-8ff9-eb17b74a1259 style=\"display:none; background-color:#9D6CFF; color:white; width:200px; height:30px; padding-left:5px; border-radius:4px; flex-direction:row; justify-content:space-around; align-items:center;\" onmouseover=\"this.style.backgroundColor='#BA9BF8'\" onmouseout=\"this.style.backgroundColor='#9D6CFF'\" onclick=\"window.commands?.execute('create-mitosheet-from-dataframe-output');\">See Full Dataframe in Mito</div> <script> if (window.commands?.hasCommand('create-mitosheet-from-dataframe-output')) document.getElementById('5fa04ed9-214d-4e53-8ff9-eb17b74a1259').style.display = 'flex' </script> <table border=\"1\" class=\"dataframe\">\n",
       "  <thead>\n",
       "    <tr style=\"text-align: right;\">\n",
       "      <th></th>\n",
       "      <th>bedroomcnt</th>\n",
       "      <th>bathroomcnt</th>\n",
       "      <th>sq_ft</th>\n",
       "      <th>lot_size</th>\n",
       "      <th>tax_assessed_price</th>\n",
       "      <th>yearbuilt</th>\n",
       "      <th>county_orange_county</th>\n",
       "      <th>county_ventura</th>\n",
       "    </tr>\n",
       "  </thead>\n",
       "  <tbody>\n",
       "    <tr>\n",
       "      <th>35203</th>\n",
       "      <td>3.0</td>\n",
       "      <td>2.0</td>\n",
       "      <td>1786.0</td>\n",
       "      <td>3252.0</td>\n",
       "      <td>169940.0</td>\n",
       "      <td>1994.0</td>\n",
       "      <td>0</td>\n",
       "      <td>0</td>\n",
       "    </tr>\n",
       "    <tr>\n",
       "      <th>7809</th>\n",
       "      <td>3.0</td>\n",
       "      <td>2.5</td>\n",
       "      <td>1668.0</td>\n",
       "      <td>6630.0</td>\n",
       "      <td>323045.0</td>\n",
       "      <td>1987.0</td>\n",
       "      <td>1</td>\n",
       "      <td>0</td>\n",
       "    </tr>\n",
       "    <tr>\n",
       "      <th>28730</th>\n",
       "      <td>3.0</td>\n",
       "      <td>2.0</td>\n",
       "      <td>1784.0</td>\n",
       "      <td>7107.0</td>\n",
       "      <td>156342.0</td>\n",
       "      <td>1955.0</td>\n",
       "      <td>0</td>\n",
       "      <td>0</td>\n",
       "    </tr>\n",
       "    <tr>\n",
       "      <th>18822</th>\n",
       "      <td>4.0</td>\n",
       "      <td>2.0</td>\n",
       "      <td>1836.0</td>\n",
       "      <td>4666.0</td>\n",
       "      <td>297413.0</td>\n",
       "      <td>1967.0</td>\n",
       "      <td>0</td>\n",
       "      <td>0</td>\n",
       "    </tr>\n",
       "    <tr>\n",
       "      <th>8823</th>\n",
       "      <td>2.0</td>\n",
       "      <td>2.0</td>\n",
       "      <td>1650.0</td>\n",
       "      <td>7547.0</td>\n",
       "      <td>147620.0</td>\n",
       "      <td>1940.0</td>\n",
       "      <td>0</td>\n",
       "      <td>0</td>\n",
       "    </tr>\n",
       "  </tbody>\n",
       "</table></div>"
      ],
      "text/plain": [
       "       bedroomcnt  bathroomcnt   sq_ft  lot_size  tax_assessed_price  \\\n",
       "35203         3.0          2.0  1786.0    3252.0            169940.0   \n",
       "7809          3.0          2.5  1668.0    6630.0            323045.0   \n",
       "28730         3.0          2.0  1784.0    7107.0            156342.0   \n",
       "18822         4.0          2.0  1836.0    4666.0            297413.0   \n",
       "8823          2.0          2.0  1650.0    7547.0            147620.0   \n",
       "\n",
       "       yearbuilt  county_orange_county  county_ventura  \n",
       "35203     1994.0                     0               0  \n",
       "7809      1987.0                     1               0  \n",
       "28730     1955.0                     0               0  \n",
       "18822     1967.0                     0               0  \n",
       "8823      1940.0                     0               0  "
      ]
     },
     "execution_count": 73,
     "metadata": {},
     "output_type": "execute_result"
    }
   ],
   "source": [
    "encoded_train.head()"
   ]
  },
  {
   "cell_type": "code",
   "execution_count": 74,
   "id": "1958f2ad",
   "metadata": {},
   "outputs": [],
   "source": [
    "#Split into X and y sets"
   ]
  },
  {
   "cell_type": "code",
   "execution_count": 75,
   "id": "8952b259",
   "metadata": {},
   "outputs": [],
   "source": [
    "X_train = encoded_train.drop(columns='tax_assessed_price')\n",
    "y_train = encoded_train.drop(columns=X_train)\n",
    "\n",
    "X_validate = encoded_validate.drop(columns='tax_assessed_price')\n",
    "y_validate = encoded_validate.drop(columns=X_validate)\n",
    "\n",
    "X_test = encoded_test.drop(columns='tax_assessed_price')\n",
    "y_test = encoded_test.drop(columns=X_test)"
   ]
  },
  {
   "cell_type": "code",
   "execution_count": 76,
   "id": "c65fe96d",
   "metadata": {},
   "outputs": [
    {
     "data": {
      "text/html": [
       "<div><div id=cf9532de-46e9-42b5-93f5-e6a86daf3158 style=\"display:none; background-color:#9D6CFF; color:white; width:200px; height:30px; padding-left:5px; border-radius:4px; flex-direction:row; justify-content:space-around; align-items:center;\" onmouseover=\"this.style.backgroundColor='#BA9BF8'\" onmouseout=\"this.style.backgroundColor='#9D6CFF'\" onclick=\"window.commands?.execute('create-mitosheet-from-dataframe-output');\">See Full Dataframe in Mito</div> <script> if (window.commands?.hasCommand('create-mitosheet-from-dataframe-output')) document.getElementById('cf9532de-46e9-42b5-93f5-e6a86daf3158').style.display = 'flex' </script> <table border=\"1\" class=\"dataframe\">\n",
       "  <thead>\n",
       "    <tr style=\"text-align: right;\">\n",
       "      <th></th>\n",
       "      <th>bedroomcnt</th>\n",
       "      <th>bathroomcnt</th>\n",
       "      <th>sq_ft</th>\n",
       "      <th>lot_size</th>\n",
       "      <th>yearbuilt</th>\n",
       "      <th>county_orange_county</th>\n",
       "      <th>county_ventura</th>\n",
       "    </tr>\n",
       "  </thead>\n",
       "  <tbody>\n",
       "    <tr>\n",
       "      <th>35203</th>\n",
       "      <td>3.0</td>\n",
       "      <td>2.0</td>\n",
       "      <td>1786.0</td>\n",
       "      <td>3252.0</td>\n",
       "      <td>1994.0</td>\n",
       "      <td>0</td>\n",
       "      <td>0</td>\n",
       "    </tr>\n",
       "  </tbody>\n",
       "</table></div>"
      ],
      "text/plain": [
       "       bedroomcnt  bathroomcnt   sq_ft  lot_size  yearbuilt  \\\n",
       "35203         3.0          2.0  1786.0    3252.0     1994.0   \n",
       "\n",
       "       county_orange_county  county_ventura  \n",
       "35203                     0               0  "
      ]
     },
     "execution_count": 76,
     "metadata": {},
     "output_type": "execute_result"
    }
   ],
   "source": [
    "X_train.head(1)"
   ]
  },
  {
   "cell_type": "code",
   "execution_count": 77,
   "id": "9d485ce3",
   "metadata": {},
   "outputs": [],
   "source": [
    "#scale the x sets"
   ]
  },
  {
   "cell_type": "code",
   "execution_count": 78,
   "id": "c6d8be4d",
   "metadata": {},
   "outputs": [
    {
     "data": {
      "text/html": [
       "<div><div id=260e0ada-f419-4c54-bafb-f09c9fc346ac style=\"display:none; background-color:#9D6CFF; color:white; width:200px; height:30px; padding-left:5px; border-radius:4px; flex-direction:row; justify-content:space-around; align-items:center;\" onmouseover=\"this.style.backgroundColor='#BA9BF8'\" onmouseout=\"this.style.backgroundColor='#9D6CFF'\" onclick=\"window.commands?.execute('create-mitosheet-from-dataframe-output');\">See Full Dataframe in Mito</div> <script> if (window.commands?.hasCommand('create-mitosheet-from-dataframe-output')) document.getElementById('260e0ada-f419-4c54-bafb-f09c9fc346ac').style.display = 'flex' </script> <table border=\"1\" class=\"dataframe\">\n",
       "  <thead>\n",
       "    <tr style=\"text-align: right;\">\n",
       "      <th></th>\n",
       "      <th>bedroomcnt</th>\n",
       "      <th>bathroomcnt</th>\n",
       "      <th>sq_ft</th>\n",
       "      <th>lot_size</th>\n",
       "      <th>yearbuilt</th>\n",
       "    </tr>\n",
       "  </thead>\n",
       "  <tbody>\n",
       "    <tr>\n",
       "      <th>0</th>\n",
       "      <td>0.4</td>\n",
       "      <td>0.222222</td>\n",
       "      <td>0.283161</td>\n",
       "      <td>0.008827</td>\n",
       "      <td>0.832061</td>\n",
       "    </tr>\n",
       "  </tbody>\n",
       "</table></div>"
      ],
      "text/plain": [
       "   bedroomcnt  bathroomcnt     sq_ft  lot_size  yearbuilt\n",
       "0         0.4     0.222222  0.283161  0.008827   0.832061"
      ]
     },
     "execution_count": 78,
     "metadata": {},
     "output_type": "execute_result"
    }
   ],
   "source": [
    "X_scaled_train, X_scaled_validate, X_scaled_test = wrangle.fit_and_scale(scaler, X_train, X_validate, X_test)\n",
    "X_scaled_train.head(1)\n"
   ]
  },
  {
   "cell_type": "markdown",
   "id": "48136778",
   "metadata": {},
   "source": [
    "<h3> Calculate Baseline Error </h3>"
   ]
  },
  {
   "cell_type": "code",
   "execution_count": 79,
   "id": "4d6860bf",
   "metadata": {},
   "outputs": [],
   "source": [
    "# the baseline prediction is equal to the mean home price for all homes"
   ]
  },
  {
   "cell_type": "code",
   "execution_count": 80,
   "id": "dc6219cb",
   "metadata": {},
   "outputs": [
    {
     "data": {
      "text/html": [
       "<div><div id=381c4825-9673-476f-87a1-4829d13817d2 style=\"display:none; background-color:#9D6CFF; color:white; width:200px; height:30px; padding-left:5px; border-radius:4px; flex-direction:row; justify-content:space-around; align-items:center;\" onmouseover=\"this.style.backgroundColor='#BA9BF8'\" onmouseout=\"this.style.backgroundColor='#9D6CFF'\" onclick=\"window.commands?.execute('create-mitosheet-from-dataframe-output');\">See Full Dataframe in Mito</div> <script> if (window.commands?.hasCommand('create-mitosheet-from-dataframe-output')) document.getElementById('381c4825-9673-476f-87a1-4829d13817d2').style.display = 'flex' </script> <table border=\"1\" class=\"dataframe\">\n",
       "  <thead>\n",
       "    <tr style=\"text-align: right;\">\n",
       "      <th></th>\n",
       "      <th>tax_assessed_price</th>\n",
       "      <th>baseline_pred_price</th>\n",
       "      <th>baseline_train_RMSE</th>\n",
       "    </tr>\n",
       "  </thead>\n",
       "  <tbody>\n",
       "    <tr>\n",
       "      <th>35203</th>\n",
       "      <td>169940.0</td>\n",
       "      <td>464558.900728</td>\n",
       "      <td>409205.57757</td>\n",
       "    </tr>\n",
       "    <tr>\n",
       "      <th>7809</th>\n",
       "      <td>323045.0</td>\n",
       "      <td>464558.900728</td>\n",
       "      <td>409205.57757</td>\n",
       "    </tr>\n",
       "    <tr>\n",
       "      <th>28730</th>\n",
       "      <td>156342.0</td>\n",
       "      <td>464558.900728</td>\n",
       "      <td>409205.57757</td>\n",
       "    </tr>\n",
       "    <tr>\n",
       "      <th>18822</th>\n",
       "      <td>297413.0</td>\n",
       "      <td>464558.900728</td>\n",
       "      <td>409205.57757</td>\n",
       "    </tr>\n",
       "    <tr>\n",
       "      <th>8823</th>\n",
       "      <td>147620.0</td>\n",
       "      <td>464558.900728</td>\n",
       "      <td>409205.57757</td>\n",
       "    </tr>\n",
       "  </tbody>\n",
       "</table></div>"
      ],
      "text/plain": [
       "       tax_assessed_price  baseline_pred_price  baseline_train_RMSE\n",
       "35203            169940.0        464558.900728         409205.57757\n",
       "7809             323045.0        464558.900728         409205.57757\n",
       "28730            156342.0        464558.900728         409205.57757\n",
       "18822            297413.0        464558.900728         409205.57757\n",
       "8823             147620.0        464558.900728         409205.57757"
      ]
     },
     "execution_count": 80,
     "metadata": {},
     "output_type": "execute_result"
    }
   ],
   "source": [
    "# add baseline for y_train\n",
    "y_train['baseline_pred_price'] = y_train.tax_assessed_price.mean()\n",
    "#compute RMSE for the baseline price prediction:\n",
    "y_train['baseline_train_RMSE'] = mean_squared_error(y_train.tax_assessed_price, y_train.baseline_pred_price)**(1/2)\n",
    "y_train.head(5)"
   ]
  },
  {
   "cell_type": "code",
   "execution_count": 81,
   "id": "7f271089",
   "metadata": {},
   "outputs": [
    {
     "data": {
      "text/html": [
       "<div><div id=8a33551f-744d-43a3-bfba-a55190bf09a3 style=\"display:none; background-color:#9D6CFF; color:white; width:200px; height:30px; padding-left:5px; border-radius:4px; flex-direction:row; justify-content:space-around; align-items:center;\" onmouseover=\"this.style.backgroundColor='#BA9BF8'\" onmouseout=\"this.style.backgroundColor='#9D6CFF'\" onclick=\"window.commands?.execute('create-mitosheet-from-dataframe-output');\">See Full Dataframe in Mito</div> <script> if (window.commands?.hasCommand('create-mitosheet-from-dataframe-output')) document.getElementById('8a33551f-744d-43a3-bfba-a55190bf09a3').style.display = 'flex' </script> <table border=\"1\" class=\"dataframe\">\n",
       "  <thead>\n",
       "    <tr style=\"text-align: right;\">\n",
       "      <th></th>\n",
       "      <th>tax_assessed_price</th>\n",
       "      <th>baseline_pred_price</th>\n",
       "      <th>baseline_validate_RMSE</th>\n",
       "    </tr>\n",
       "  </thead>\n",
       "  <tbody>\n",
       "    <tr>\n",
       "      <th>48153</th>\n",
       "      <td>436158.0</td>\n",
       "      <td>461073.755026</td>\n",
       "      <td>402382.309199</td>\n",
       "    </tr>\n",
       "    <tr>\n",
       "      <th>50633</th>\n",
       "      <td>66723.0</td>\n",
       "      <td>461073.755026</td>\n",
       "      <td>402382.309199</td>\n",
       "    </tr>\n",
       "    <tr>\n",
       "      <th>49851</th>\n",
       "      <td>74131.0</td>\n",
       "      <td>461073.755026</td>\n",
       "      <td>402382.309199</td>\n",
       "    </tr>\n",
       "    <tr>\n",
       "      <th>11654</th>\n",
       "      <td>370325.0</td>\n",
       "      <td>461073.755026</td>\n",
       "      <td>402382.309199</td>\n",
       "    </tr>\n",
       "    <tr>\n",
       "      <th>15717</th>\n",
       "      <td>431504.0</td>\n",
       "      <td>461073.755026</td>\n",
       "      <td>402382.309199</td>\n",
       "    </tr>\n",
       "  </tbody>\n",
       "</table></div>"
      ],
      "text/plain": [
       "       tax_assessed_price  baseline_pred_price  baseline_validate_RMSE\n",
       "48153            436158.0        461073.755026           402382.309199\n",
       "50633             66723.0        461073.755026           402382.309199\n",
       "49851             74131.0        461073.755026           402382.309199\n",
       "11654            370325.0        461073.755026           402382.309199\n",
       "15717            431504.0        461073.755026           402382.309199"
      ]
     },
     "execution_count": 81,
     "metadata": {},
     "output_type": "execute_result"
    }
   ],
   "source": [
    "# add baseline for y_train\n",
    "y_validate['baseline_pred_price'] = y_validate.tax_assessed_price.mean()\n",
    "#compute RMSE for the baseline price prediction:\n",
    "y_validate['baseline_validate_RMSE'] = mean_squared_error(y_validate.tax_assessed_price, y_validate.baseline_pred_price)**(1/2)\n",
    "y_validate.head(5)"
   ]
  },
  {
   "cell_type": "markdown",
   "id": "f2c06512",
   "metadata": {},
   "source": [
    "## Model 1: Linear Regression (OLS)"
   ]
  },
  {
   "cell_type": "code",
   "execution_count": 89,
   "id": "a12f1f73",
   "metadata": {},
   "outputs": [
    {
     "ename": "KeyError",
     "evalue": "0",
     "output_type": "error",
     "traceback": [
      "\u001b[0;31m---------------------------------------------------------------------------\u001b[0m",
      "\u001b[0;31mKeyError\u001b[0m                                  Traceback (most recent call last)",
      "\u001b[0;32m/opt/homebrew/anaconda3/lib/python3.9/site-packages/pandas/core/indexes/base.py\u001b[0m in \u001b[0;36mget_loc\u001b[0;34m(self, key, method, tolerance)\u001b[0m\n\u001b[1;32m   3360\u001b[0m             \u001b[0;32mtry\u001b[0m\u001b[0;34m:\u001b[0m\u001b[0;34m\u001b[0m\u001b[0;34m\u001b[0m\u001b[0m\n\u001b[0;32m-> 3361\u001b[0;31m                 \u001b[0;32mreturn\u001b[0m \u001b[0mself\u001b[0m\u001b[0;34m.\u001b[0m\u001b[0m_engine\u001b[0m\u001b[0;34m.\u001b[0m\u001b[0mget_loc\u001b[0m\u001b[0;34m(\u001b[0m\u001b[0mcasted_key\u001b[0m\u001b[0;34m)\u001b[0m\u001b[0;34m\u001b[0m\u001b[0;34m\u001b[0m\u001b[0m\n\u001b[0m\u001b[1;32m   3362\u001b[0m             \u001b[0;32mexcept\u001b[0m \u001b[0mKeyError\u001b[0m \u001b[0;32mas\u001b[0m \u001b[0merr\u001b[0m\u001b[0;34m:\u001b[0m\u001b[0;34m\u001b[0m\u001b[0;34m\u001b[0m\u001b[0m\n",
      "\u001b[0;32m/opt/homebrew/anaconda3/lib/python3.9/site-packages/pandas/_libs/index.pyx\u001b[0m in \u001b[0;36mpandas._libs.index.IndexEngine.get_loc\u001b[0;34m()\u001b[0m\n",
      "\u001b[0;32m/opt/homebrew/anaconda3/lib/python3.9/site-packages/pandas/_libs/index.pyx\u001b[0m in \u001b[0;36mpandas._libs.index.IndexEngine.get_loc\u001b[0;34m()\u001b[0m\n",
      "\u001b[0;32mpandas/_libs/hashtable_class_helper.pxi\u001b[0m in \u001b[0;36mpandas._libs.hashtable.Int64HashTable.get_item\u001b[0;34m()\u001b[0m\n",
      "\u001b[0;32mpandas/_libs/hashtable_class_helper.pxi\u001b[0m in \u001b[0;36mpandas._libs.hashtable.Int64HashTable.get_item\u001b[0;34m()\u001b[0m\n",
      "\u001b[0;31mKeyError\u001b[0m: 0",
      "\nThe above exception was the direct cause of the following exception:\n",
      "\u001b[0;31mKeyError\u001b[0m                                  Traceback (most recent call last)",
      "\u001b[0;32m/var/folders/3n/86q7c8d16r51w8vg4g5kwq280000gn/T/ipykernel_15163/2127237322.py\u001b[0m in \u001b[0;36m<module>\u001b[0;34m\u001b[0m\n\u001b[1;32m     19\u001b[0m \u001b[0my_validate\u001b[0m\u001b[0;34m[\u001b[0m\u001b[0;34m'ols_rmse_validate'\u001b[0m\u001b[0;34m]\u001b[0m \u001b[0;34m=\u001b[0m \u001b[0mmean_squared_error\u001b[0m\u001b[0;34m(\u001b[0m\u001b[0my_validate\u001b[0m\u001b[0;34m.\u001b[0m\u001b[0mtax_assessed_price\u001b[0m\u001b[0;34m,\u001b[0m \u001b[0my_validate\u001b[0m\u001b[0;34m.\u001b[0m\u001b[0mprice_pred_lm_validate\u001b[0m\u001b[0;34m)\u001b[0m\u001b[0;34m**\u001b[0m\u001b[0;34m(\u001b[0m\u001b[0;36m1\u001b[0m\u001b[0;34m/\u001b[0m\u001b[0;36m2\u001b[0m\u001b[0;34m)\u001b[0m\u001b[0;34m\u001b[0m\u001b[0;34m\u001b[0m\u001b[0m\n\u001b[1;32m     20\u001b[0m \u001b[0;34m\u001b[0m\u001b[0m\n\u001b[0;32m---> 21\u001b[0;31m print(\"RMSE for OLS using LinearRegression\\nTraining/In-Sample: \", y_train.ols_rmse_train[0], \n\u001b[0m\u001b[1;32m     22\u001b[0m       \"\\nValidation/Out-of-Sample: \", y_validate.ols_rmse_validate[0])\n",
      "\u001b[0;32m/opt/homebrew/anaconda3/lib/python3.9/site-packages/pandas/core/series.py\u001b[0m in \u001b[0;36m__getitem__\u001b[0;34m(self, key)\u001b[0m\n\u001b[1;32m    940\u001b[0m \u001b[0;34m\u001b[0m\u001b[0m\n\u001b[1;32m    941\u001b[0m         \u001b[0;32melif\u001b[0m \u001b[0mkey_is_scalar\u001b[0m\u001b[0;34m:\u001b[0m\u001b[0;34m\u001b[0m\u001b[0;34m\u001b[0m\u001b[0m\n\u001b[0;32m--> 942\u001b[0;31m             \u001b[0;32mreturn\u001b[0m \u001b[0mself\u001b[0m\u001b[0;34m.\u001b[0m\u001b[0m_get_value\u001b[0m\u001b[0;34m(\u001b[0m\u001b[0mkey\u001b[0m\u001b[0;34m)\u001b[0m\u001b[0;34m\u001b[0m\u001b[0;34m\u001b[0m\u001b[0m\n\u001b[0m\u001b[1;32m    943\u001b[0m \u001b[0;34m\u001b[0m\u001b[0m\n\u001b[1;32m    944\u001b[0m         \u001b[0;32mif\u001b[0m \u001b[0mis_hashable\u001b[0m\u001b[0;34m(\u001b[0m\u001b[0mkey\u001b[0m\u001b[0;34m)\u001b[0m\u001b[0;34m:\u001b[0m\u001b[0;34m\u001b[0m\u001b[0;34m\u001b[0m\u001b[0m\n",
      "\u001b[0;32m/opt/homebrew/anaconda3/lib/python3.9/site-packages/pandas/core/series.py\u001b[0m in \u001b[0;36m_get_value\u001b[0;34m(self, label, takeable)\u001b[0m\n\u001b[1;32m   1049\u001b[0m \u001b[0;34m\u001b[0m\u001b[0m\n\u001b[1;32m   1050\u001b[0m         \u001b[0;31m# Similar to Index.get_value, but we do not fall back to positional\u001b[0m\u001b[0;34m\u001b[0m\u001b[0;34m\u001b[0m\u001b[0m\n\u001b[0;32m-> 1051\u001b[0;31m         \u001b[0mloc\u001b[0m \u001b[0;34m=\u001b[0m \u001b[0mself\u001b[0m\u001b[0;34m.\u001b[0m\u001b[0mindex\u001b[0m\u001b[0;34m.\u001b[0m\u001b[0mget_loc\u001b[0m\u001b[0;34m(\u001b[0m\u001b[0mlabel\u001b[0m\u001b[0;34m)\u001b[0m\u001b[0;34m\u001b[0m\u001b[0;34m\u001b[0m\u001b[0m\n\u001b[0m\u001b[1;32m   1052\u001b[0m         \u001b[0;32mreturn\u001b[0m \u001b[0mself\u001b[0m\u001b[0;34m.\u001b[0m\u001b[0mindex\u001b[0m\u001b[0;34m.\u001b[0m\u001b[0m_get_values_for_loc\u001b[0m\u001b[0;34m(\u001b[0m\u001b[0mself\u001b[0m\u001b[0;34m,\u001b[0m \u001b[0mloc\u001b[0m\u001b[0;34m,\u001b[0m \u001b[0mlabel\u001b[0m\u001b[0;34m)\u001b[0m\u001b[0;34m\u001b[0m\u001b[0;34m\u001b[0m\u001b[0m\n\u001b[1;32m   1053\u001b[0m \u001b[0;34m\u001b[0m\u001b[0m\n",
      "\u001b[0;32m/opt/homebrew/anaconda3/lib/python3.9/site-packages/pandas/core/indexes/base.py\u001b[0m in \u001b[0;36mget_loc\u001b[0;34m(self, key, method, tolerance)\u001b[0m\n\u001b[1;32m   3361\u001b[0m                 \u001b[0;32mreturn\u001b[0m \u001b[0mself\u001b[0m\u001b[0;34m.\u001b[0m\u001b[0m_engine\u001b[0m\u001b[0;34m.\u001b[0m\u001b[0mget_loc\u001b[0m\u001b[0;34m(\u001b[0m\u001b[0mcasted_key\u001b[0m\u001b[0;34m)\u001b[0m\u001b[0;34m\u001b[0m\u001b[0;34m\u001b[0m\u001b[0m\n\u001b[1;32m   3362\u001b[0m             \u001b[0;32mexcept\u001b[0m \u001b[0mKeyError\u001b[0m \u001b[0;32mas\u001b[0m \u001b[0merr\u001b[0m\u001b[0;34m:\u001b[0m\u001b[0;34m\u001b[0m\u001b[0;34m\u001b[0m\u001b[0m\n\u001b[0;32m-> 3363\u001b[0;31m                 \u001b[0;32mraise\u001b[0m \u001b[0mKeyError\u001b[0m\u001b[0;34m(\u001b[0m\u001b[0mkey\u001b[0m\u001b[0;34m)\u001b[0m \u001b[0;32mfrom\u001b[0m \u001b[0merr\u001b[0m\u001b[0;34m\u001b[0m\u001b[0;34m\u001b[0m\u001b[0m\n\u001b[0m\u001b[1;32m   3364\u001b[0m \u001b[0;34m\u001b[0m\u001b[0m\n\u001b[1;32m   3365\u001b[0m         \u001b[0;32mif\u001b[0m \u001b[0mis_scalar\u001b[0m\u001b[0;34m(\u001b[0m\u001b[0mkey\u001b[0m\u001b[0;34m)\u001b[0m \u001b[0;32mand\u001b[0m \u001b[0misna\u001b[0m\u001b[0;34m(\u001b[0m\u001b[0mkey\u001b[0m\u001b[0;34m)\u001b[0m \u001b[0;32mand\u001b[0m \u001b[0;32mnot\u001b[0m \u001b[0mself\u001b[0m\u001b[0;34m.\u001b[0m\u001b[0mhasnans\u001b[0m\u001b[0;34m:\u001b[0m\u001b[0;34m\u001b[0m\u001b[0;34m\u001b[0m\u001b[0m\n",
      "\u001b[0;31mKeyError\u001b[0m: 0"
     ]
    }
   ],
   "source": [
    "# Linear Regression (OLS)\n",
    "# create the model object\n",
    "lm = LinearRegression(normalize=True)\n",
    "\n",
    "# fit the model to our training data. We must specify the column in y_train, \n",
    "# since we have converted it to a dataframe from a series! \n",
    "lm.fit(X_scaled_train, y_train.tax_assessed_price)\n",
    "\n",
    "# predict train\n",
    "y_train['price_pred_lm_train'] = lm.predict(X_scaled_train)\n",
    "\n",
    "# evaluate: rmse\n",
    "y_train['ols_rmse_train'] = mean_squared_error(y_train.tax_assessed_price, y_train.price_pred_lm_train)**(1/2)\n",
    "\n",
    "# predict validate\n",
    "y_validate['price_pred_lm_validate'] = lm.predict(X_scaled_validate)\n",
    "\n",
    "# evaluate: rmse\n",
    "y_validate['ols_rmse_validate'] = mean_squared_error(y_validate.tax_assessed_price, y_validate.price_pred_lm_validate)**(1/2)\n",
    "\n",
    "print(\"RMSE for OLS using LinearRegression\\nTraining/In-Sample: \", y_train.ols_rmse_train[0], \n",
    "      \"\\nValidation/Out-of-Sample: \", y_validate.ols_rmse_validate[0])\n"
   ]
  },
  {
   "cell_type": "code",
   "execution_count": null,
   "id": "e6c8791a",
   "metadata": {},
   "outputs": [],
   "source": [
    "y_train.head(1)"
   ]
  },
  {
   "cell_type": "code",
   "execution_count": null,
   "id": "0e19fb97",
   "metadata": {},
   "outputs": [],
   "source": [
    "y_validate.head(1)"
   ]
  },
  {
   "cell_type": "markdown",
   "id": "4199a813",
   "metadata": {},
   "source": [
    "## Model 2: LassoLars"
   ]
  },
  {
   "cell_type": "code",
   "execution_count": null,
   "id": "1552afab",
   "metadata": {},
   "outputs": [],
   "source": [
    "# create the model object\n",
    "lars = LassoLars(alpha=1.0)\n",
    "\n",
    "# fit the model to our training data. We must specify the column in y_train, \n",
    "# since we have converted it to a dataframe from a series! \n",
    "lars.fit(X_scaled_train, y_train.tax_assessed_price)\n",
    "\n",
    "# predict train\n",
    "y_train['price_pred_lars_train'] = lars.predict(X_scaled_train)\n",
    "\n",
    "# evaluate: rmse\n",
    "y_train['lars_rmse_train'] = mean_squared_error(y_train.tax_assessed_price, y_train.price_pred_lars_train)**(1/2)\n",
    "\n",
    "# predict validate\n",
    "y_validate['price_pred_lars_validate'] = lars.predict(X_scaled_validate)\n",
    "\n",
    "# evaluate: rmse\n",
    "y_validate['lars_rmse_validate'] = mean_squared_error(y_validate.tax_assessed_price, y_validate.price_pred_lars_validate)**(1/2)\n",
    "\n",
    "print(\"RMSE for Lasso + Lars\\nTraining/In-Sample: \", rmse_train, \n",
    "      \"\\nValidation/Out-of-Sample: \", rmse_validate)\n"
   ]
  },
  {
   "cell_type": "code",
   "execution_count": null,
   "id": "381cc7e3",
   "metadata": {},
   "outputs": [],
   "source": [
    "y_train.head(1)"
   ]
  },
  {
   "cell_type": "code",
   "execution_count": null,
   "id": "5615a75c",
   "metadata": {},
   "outputs": [],
   "source": [
    "y_validate.head(1)"
   ]
  },
  {
   "cell_type": "code",
   "execution_count": null,
   "id": "71c9de89",
   "metadata": {},
   "outputs": [],
   "source": []
  },
  {
   "cell_type": "code",
   "execution_count": null,
   "id": "27b6e76b",
   "metadata": {},
   "outputs": [],
   "source": []
  },
  {
   "cell_type": "code",
   "execution_count": null,
   "id": "3275ee72",
   "metadata": {},
   "outputs": [],
   "source": []
  },
  {
   "cell_type": "code",
   "execution_count": null,
   "id": "06a630b9",
   "metadata": {},
   "outputs": [],
   "source": []
  },
  {
   "cell_type": "code",
   "execution_count": null,
   "id": "04226e97",
   "metadata": {},
   "outputs": [],
   "source": []
  },
  {
   "cell_type": "code",
   "execution_count": null,
   "id": "18ca184b",
   "metadata": {},
   "outputs": [],
   "source": []
  },
  {
   "cell_type": "markdown",
   "id": "bfc44f1c",
   "metadata": {},
   "source": [
    "## Follow-up to Q1:\n",
    "- how does predictive power of 'yearbuilt' vary by county?"
   ]
  },
  {
   "cell_type": "code",
   "execution_count": null,
   "id": "a28670b1",
   "metadata": {
    "scrolled": true
   },
   "outputs": [],
   "source": [
    "#plot1: All year vs price data (cont:cont)\n",
    "sns.lmplot(x='yearbuilt', y='tax_assessed_price', data=train,\n",
    "          line_kws = {'color': 'red'}, col=\"county\")\n",
    "plt.show()"
   ]
  },
  {
   "cell_type": "code",
   "execution_count": null,
   "id": "8616f362",
   "metadata": {
    "scrolled": true
   },
   "outputs": [],
   "source": [
    "#plot1: POST-1963 year vs price (cont:cont)\n",
    "sns.lmplot(x='yearbuilt', y='tax_assessed_price', data=train_post_1963,\n",
    "          line_kws = {'color': 'red'}, col=\"county\")\n",
    "plt.show()\n",
    "# interesting: the price relationship with year built is different \n",
    "# by county, with the least impact from age being LA"
   ]
  },
  {
   "cell_type": "code",
   "execution_count": null,
   "id": "ef33b759",
   "metadata": {},
   "outputs": [],
   "source": [
    "#plot1: PRE-1963 year vs price (cont:cont)\n",
    "sns.lmplot(x='yearbuilt', y='tax_assessed_price', data=train_pre_1963,\n",
    "          line_kws = {'color': 'red'}, col=\"county\")\n",
    "plt.show()\n",
    "# interesting: the price relationship with year built is different \n",
    "# by county, with the least impact from age being LA"
   ]
  },
  {
   "cell_type": "code",
   "execution_count": null,
   "id": "22df5c77",
   "metadata": {},
   "outputs": [],
   "source": [
    "#plot1: POST-1963 year vs price (cont:cont)\n",
    "sns.lmplot(x='yearbuilt', y='tax_assessed_price', data=train_post_1997,\n",
    "          line_kws = {'color': 'red'}, col=\"county\")\n",
    "plt.show()\n",
    "# interesting: the price relationship with year built is different \n",
    "# by county, with the least impact from age being LA"
   ]
  },
  {
   "cell_type": "code",
   "execution_count": null,
   "id": "3dd1199e",
   "metadata": {},
   "outputs": [],
   "source": [
    "# I want to produce a time series of the correlation between \n",
    "# year built and price: what years and what counties is it an\n",
    "# impactful predictor, ie does year built only affect average home value\n",
    "# if the build date is in the last 20 years?\n",
    "# non-MVP product"
   ]
  },
  {
   "cell_type": "code",
   "execution_count": null,
   "id": "f8785f02",
   "metadata": {},
   "outputs": [],
   "source": [
    "#Let's run a heatmap to track the variable correlation, LA County:\n",
    "sns.heatmap(train[(train.county == 'los_angeles')].corr(), annot=True)"
   ]
  },
  {
   "cell_type": "code",
   "execution_count": null,
   "id": "ea45604c",
   "metadata": {},
   "outputs": [],
   "source": [
    "#Let's run a heatmap to track the variable correlation, Ventura County:\n",
    "sns.heatmap(train[(train.county == 'ventura')].corr(), annot=True)"
   ]
  },
  {
   "cell_type": "code",
   "execution_count": null,
   "id": "0a23859f",
   "metadata": {},
   "outputs": [],
   "source": [
    "#Let's run a heatmap to track the variable correlation, by OC:\n",
    "sns.heatmap(train[(train.county == 'orange_county')].corr(), annot=True)"
   ]
  },
  {
   "cell_type": "code",
   "execution_count": null,
   "id": "e9b11e93",
   "metadata": {},
   "outputs": [],
   "source": [
    "#Let's run a heatmap to track the variable correlation, Overall:\n",
    "sns.heatmap(train.corr(), annot=True)\n",
    "sns.set(font_scale=0.8)"
   ]
  },
  {
   "cell_type": "markdown",
   "id": "a8ebbb61",
   "metadata": {},
   "source": [
    "## Takeaway: :\n",
    "- Given more time I would delve into this relationship.\n",
    "- the correlation is strengthened in OC and Ventura when looking at the effects of year built on home price."
   ]
  },
  {
   "cell_type": "code",
   "execution_count": null,
   "id": "db189a01",
   "metadata": {},
   "outputs": [],
   "source": []
  }
 ],
 "metadata": {
  "kernelspec": {
   "display_name": "Python 3 (ipykernel)",
   "language": "python",
   "name": "python3"
  },
  "language_info": {
   "codemirror_mode": {
    "name": "ipython",
    "version": 3
   },
   "file_extension": ".py",
   "mimetype": "text/x-python",
   "name": "python",
   "nbconvert_exporter": "python",
   "pygments_lexer": "ipython3",
   "version": "3.9.7"
  }
 },
 "nbformat": 4,
 "nbformat_minor": 5
}
