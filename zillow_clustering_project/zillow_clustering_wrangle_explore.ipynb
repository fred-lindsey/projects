{
 "cells": [
  {
   "cell_type": "markdown",
   "id": "129869ef",
   "metadata": {},
   "source": [
    "## Zillow Data"
   ]
  },
  {
   "cell_type": "markdown",
   "id": "c37eccc3",
   "metadata": {},
   "source": [
    "## Project Outline:\n",
    "- Deliver presenatation: Monday morning, 20 June\n",
    "- Day 0: Today: Tuesday, 14 June\n",
    "    - project outline and outlier handling\n",
    "    - incorporate the last project's findings/recommendations as an intro/recap\n",
    "- Day 1: Wednesday: Full Wrangle and Explore\n",
    "    - define high logerror, visually plot variables with a high propensity to produce distinct logerror clusters >> end the day with clusters\n",
    "- Day 2: Thurday: Full Explore\n",
    "    - fully explore clusters/subsets and \n",
    "- Day 3: Friday: Model and produce fianl notebook, README, and \n",
    "    - model the logerror by cluster with an appropriate linear regression predictor (predicts continuous values)"
   ]
  },
  {
   "cell_type": "code",
   "execution_count": null,
   "id": "121daaad",
   "metadata": {},
   "outputs": [],
   "source": []
  },
  {
   "cell_type": "markdown",
   "id": "96c9f5ae",
   "metadata": {},
   "source": [
    "## 1. Wrangle"
   ]
  },
  {
   "cell_type": "code",
   "execution_count": 2,
   "id": "09bb6cd0",
   "metadata": {},
   "outputs": [],
   "source": [
    "import warnings\n",
    "warnings.filterwarnings(\"ignore\")\n",
    "\n",
    "import pandas as pd\n",
    "import matplotlib.pyplot as plt\n",
    "import seaborn as sns\n",
    "import numpy as np\n",
    "from scipy import stats\n",
    "import env\n",
    "import os\n",
    "import sklearn.preprocessing\n",
    "from sklearn.model_selection import train_test_split\n",
    "import wrangle\n",
    "# reloads import files each time a cell is ran\n",
    "%load_ext autoreload\n",
    "%autoreload 2"
   ]
  },
  {
   "cell_type": "code",
   "execution_count": 3,
   "id": "e3d42af2",
   "metadata": {
    "scrolled": true
   },
   "outputs": [
    {
     "name": "stdout",
     "output_type": "stream",
     "text": [
      "<class 'pandas.core.frame.DataFrame'>\n",
      "RangeIndex: 52442 entries, 0 to 52441\n",
      "Data columns (total 69 columns):\n",
      " #   Column                        Non-Null Count  Dtype  \n",
      "---  ------                        --------------  -----  \n",
      " 0   typeconstructiontypeid        76 non-null     float64\n",
      " 1   buildingclasstypeid           0 non-null      float64\n",
      " 2   heatingorsystemtypeid         33936 non-null  float64\n",
      " 3   architecturalstyletypeid      70 non-null     float64\n",
      " 4   airconditioningtypeid         13638 non-null  float64\n",
      " 5   storytypeid                   47 non-null     float64\n",
      " 6   propertylandusetypeid         52442 non-null  float64\n",
      " 7   parcelid                      52442 non-null  int64  \n",
      " 8   id                            52442 non-null  int64  \n",
      " 9   logerror                      52442 non-null  float64\n",
      " 10  transactiondate               52442 non-null  object \n",
      " 11  id.1                          52442 non-null  int64  \n",
      " 12  basementsqft                  47 non-null     float64\n",
      " 13  bathroomcnt                   52442 non-null  float64\n",
      " 14  bedroomcnt                    52442 non-null  float64\n",
      " 15  buildingqualitytypeid         33741 non-null  float64\n",
      " 16  calculatedbathnbr             52305 non-null  float64\n",
      " 17  decktypeid                    389 non-null    float64\n",
      " 18  finishedfloor1squarefeet      4381 non-null   float64\n",
      " 19  calculatedfinishedsquarefeet  52360 non-null  float64\n",
      " 20  finishedsquarefeet12          52195 non-null  float64\n",
      " 21  finishedsquarefeet13          0 non-null      float64\n",
      " 22  finishedsquarefeet15          0 non-null      float64\n",
      " 23  finishedsquarefeet50          4381 non-null   float64\n",
      " 24  finishedsquarefeet6           165 non-null    float64\n",
      " 25  fips                          52442 non-null  float64\n",
      " 26  fireplacecnt                  7243 non-null   float64\n",
      " 27  fullbathcnt                   52305 non-null  float64\n",
      " 28  garagecarcnt                  18015 non-null  float64\n",
      " 29  garagetotalsqft               18015 non-null  float64\n",
      " 30  hashottuborspa                1515 non-null   float64\n",
      " 31  latitude                      52442 non-null  float64\n",
      " 32  longitude                     52442 non-null  float64\n",
      " 33  lotsizesquarefeet             52073 non-null  float64\n",
      " 34  poolcnt                       11096 non-null  float64\n",
      " 35  poolsizesum                   867 non-null    float64\n",
      " 36  pooltypeid10                  444 non-null    float64\n",
      " 37  pooltypeid2                   1071 non-null   float64\n",
      " 38  pooltypeid7                   10009 non-null  float64\n",
      " 39  propertycountylandusecode     52442 non-null  object \n",
      " 40  propertyzoningdesc            33849 non-null  object \n",
      " 41  rawcensustractandblock        52442 non-null  float64\n",
      " 42  regionidcity                  51405 non-null  float64\n",
      " 43  regionidcounty                52442 non-null  float64\n",
      " 44  regionidneighborhood          19033 non-null  float64\n",
      " 45  regionidzip                   52416 non-null  float64\n",
      " 46  roomcnt                       52442 non-null  float64\n",
      " 47  threequarterbathnbr           6724 non-null   float64\n",
      " 48  unitcnt                       33848 non-null  float64\n",
      " 49  yardbuildingsqft17            1937 non-null   float64\n",
      " 50  yardbuildingsqft26            63 non-null     float64\n",
      " 51  yearbuilt                     52326 non-null  float64\n",
      " 52  numberofstories               14561 non-null  float64\n",
      " 53  fireplaceflag                 81 non-null     float64\n",
      " 54  structuretaxvaluedollarcnt    52358 non-null  float64\n",
      " 55  taxvaluedollarcnt             52441 non-null  float64\n",
      " 56  assessmentyear                52442 non-null  float64\n",
      " 57  landtaxvaluedollarcnt         52441 non-null  float64\n",
      " 58  taxamount                     52438 non-null  float64\n",
      " 59  taxdelinquencyflag            2079 non-null   object \n",
      " 60  taxdelinquencyyear            2079 non-null   float64\n",
      " 61  censustractandblock           52319 non-null  float64\n",
      " 62  propertylandusedesc           52442 non-null  object \n",
      " 63  storydesc                     47 non-null     object \n",
      " 64  airconditioningdesc           13638 non-null  object \n",
      " 65  architecturalstyledesc        70 non-null     object \n",
      " 66  heatingorsystemdesc           33936 non-null  object \n",
      " 67  buildingclassdesc             0 non-null      float64\n",
      " 68  typeconstructiondesc          76 non-null     object \n",
      "dtypes: float64(56), int64(3), object(10)\n",
      "memory usage: 27.6+ MB\n"
     ]
    }
   ],
   "source": [
    "#acquire the zillow data\n",
    "df = wrangle.get_zillow_data()\n",
    "df.info()"
   ]
  },
  {
   "cell_type": "code",
   "execution_count": 4,
   "id": "c1efa5d9",
   "metadata": {},
   "outputs": [
    {
     "data": {
      "text/plain": [
       "(52442, 69)"
      ]
     },
     "execution_count": 4,
     "metadata": {},
     "output_type": "execute_result"
    }
   ],
   "source": [
    "# check the size of the data\n",
    "df.shape"
   ]
  },
  {
   "cell_type": "code",
   "execution_count": 5,
   "id": "c466467b",
   "metadata": {},
   "outputs": [
    {
     "data": {
      "text/html": [
       "<div><div id=181d3c07-2ffe-4398-8316-1eb88176f471 style=\"display:none; background-color:#9D6CFF; color:white; width:200px; height:30px; padding-left:5px; border-radius:4px; flex-direction:row; justify-content:space-around; align-items:center;\" onmouseover=\"this.style.backgroundColor='#BA9BF8'\" onmouseout=\"this.style.backgroundColor='#9D6CFF'\" onclick=\"window.commands?.execute('create-mitosheet-from-dataframe-output');\">See Full Dataframe in Mito</div> <script> if (window.commands?.hasCommand('create-mitosheet-from-dataframe-output')) document.getElementById('181d3c07-2ffe-4398-8316-1eb88176f471').style.display = 'flex' </script> <table border=\"1\" class=\"dataframe\">\n",
       "  <thead>\n",
       "    <tr style=\"text-align: right;\">\n",
       "      <th></th>\n",
       "      <th>heatingorsystemtypeid</th>\n",
       "      <th>propertylandusetypeid</th>\n",
       "      <th>parcelid</th>\n",
       "      <th>id</th>\n",
       "      <th>logerror</th>\n",
       "      <th>transactiondate</th>\n",
       "      <th>id.1</th>\n",
       "      <th>bathroomcnt</th>\n",
       "      <th>bedroomcnt</th>\n",
       "      <th>buildingqualitytypeid</th>\n",
       "      <th>...</th>\n",
       "      <th>unitcnt</th>\n",
       "      <th>yearbuilt</th>\n",
       "      <th>structuretaxvaluedollarcnt</th>\n",
       "      <th>taxvaluedollarcnt</th>\n",
       "      <th>assessmentyear</th>\n",
       "      <th>landtaxvaluedollarcnt</th>\n",
       "      <th>taxamount</th>\n",
       "      <th>censustractandblock</th>\n",
       "      <th>propertylandusedesc</th>\n",
       "      <th>heatingorsystemdesc</th>\n",
       "    </tr>\n",
       "  </thead>\n",
       "  <tbody>\n",
       "    <tr>\n",
       "      <th>0</th>\n",
       "      <td>NaN</td>\n",
       "      <td>261.0</td>\n",
       "      <td>14297519</td>\n",
       "      <td>0</td>\n",
       "      <td>0.025595</td>\n",
       "      <td>2017-01-01</td>\n",
       "      <td>1727539</td>\n",
       "      <td>3.5</td>\n",
       "      <td>4.0</td>\n",
       "      <td>NaN</td>\n",
       "      <td>...</td>\n",
       "      <td>NaN</td>\n",
       "      <td>1998.0</td>\n",
       "      <td>485713.0</td>\n",
       "      <td>1023282.0</td>\n",
       "      <td>2016.0</td>\n",
       "      <td>537569.0</td>\n",
       "      <td>11013.72</td>\n",
       "      <td>6.059063e+13</td>\n",
       "      <td>Single Family Residential</td>\n",
       "      <td>NaN</td>\n",
       "    </tr>\n",
       "    <tr>\n",
       "      <th>1</th>\n",
       "      <td>NaN</td>\n",
       "      <td>261.0</td>\n",
       "      <td>17052889</td>\n",
       "      <td>1</td>\n",
       "      <td>0.055619</td>\n",
       "      <td>2017-01-01</td>\n",
       "      <td>1387261</td>\n",
       "      <td>1.0</td>\n",
       "      <td>2.0</td>\n",
       "      <td>NaN</td>\n",
       "      <td>...</td>\n",
       "      <td>NaN</td>\n",
       "      <td>1967.0</td>\n",
       "      <td>88000.0</td>\n",
       "      <td>464000.0</td>\n",
       "      <td>2016.0</td>\n",
       "      <td>376000.0</td>\n",
       "      <td>5672.48</td>\n",
       "      <td>6.111001e+13</td>\n",
       "      <td>Single Family Residential</td>\n",
       "      <td>NaN</td>\n",
       "    </tr>\n",
       "    <tr>\n",
       "      <th>2</th>\n",
       "      <td>NaN</td>\n",
       "      <td>261.0</td>\n",
       "      <td>14186244</td>\n",
       "      <td>2</td>\n",
       "      <td>0.005383</td>\n",
       "      <td>2017-01-01</td>\n",
       "      <td>11677</td>\n",
       "      <td>2.0</td>\n",
       "      <td>3.0</td>\n",
       "      <td>NaN</td>\n",
       "      <td>...</td>\n",
       "      <td>NaN</td>\n",
       "      <td>1962.0</td>\n",
       "      <td>85289.0</td>\n",
       "      <td>564778.0</td>\n",
       "      <td>2016.0</td>\n",
       "      <td>479489.0</td>\n",
       "      <td>6488.30</td>\n",
       "      <td>6.059022e+13</td>\n",
       "      <td>Single Family Residential</td>\n",
       "      <td>NaN</td>\n",
       "    </tr>\n",
       "    <tr>\n",
       "      <th>3</th>\n",
       "      <td>2.0</td>\n",
       "      <td>261.0</td>\n",
       "      <td>12177905</td>\n",
       "      <td>3</td>\n",
       "      <td>-0.103410</td>\n",
       "      <td>2017-01-01</td>\n",
       "      <td>2288172</td>\n",
       "      <td>3.0</td>\n",
       "      <td>4.0</td>\n",
       "      <td>8.0</td>\n",
       "      <td>...</td>\n",
       "      <td>1.0</td>\n",
       "      <td>1970.0</td>\n",
       "      <td>108918.0</td>\n",
       "      <td>145143.0</td>\n",
       "      <td>2016.0</td>\n",
       "      <td>36225.0</td>\n",
       "      <td>1777.51</td>\n",
       "      <td>6.037300e+13</td>\n",
       "      <td>Single Family Residential</td>\n",
       "      <td>Central</td>\n",
       "    </tr>\n",
       "    <tr>\n",
       "      <th>4</th>\n",
       "      <td>2.0</td>\n",
       "      <td>261.0</td>\n",
       "      <td>12095076</td>\n",
       "      <td>6</td>\n",
       "      <td>-0.001011</td>\n",
       "      <td>2017-01-01</td>\n",
       "      <td>781532</td>\n",
       "      <td>3.0</td>\n",
       "      <td>4.0</td>\n",
       "      <td>9.0</td>\n",
       "      <td>...</td>\n",
       "      <td>1.0</td>\n",
       "      <td>1950.0</td>\n",
       "      <td>276684.0</td>\n",
       "      <td>773303.0</td>\n",
       "      <td>2016.0</td>\n",
       "      <td>496619.0</td>\n",
       "      <td>9516.26</td>\n",
       "      <td>6.037461e+13</td>\n",
       "      <td>Single Family Residential</td>\n",
       "      <td>Central</td>\n",
       "    </tr>\n",
       "  </tbody>\n",
       "</table></div>"
      ],
      "text/plain": [
       "   heatingorsystemtypeid  propertylandusetypeid  parcelid  id  logerror  \\\n",
       "0                    NaN                  261.0  14297519   0  0.025595   \n",
       "1                    NaN                  261.0  17052889   1  0.055619   \n",
       "2                    NaN                  261.0  14186244   2  0.005383   \n",
       "3                    2.0                  261.0  12177905   3 -0.103410   \n",
       "4                    2.0                  261.0  12095076   6 -0.001011   \n",
       "\n",
       "  transactiondate     id.1  bathroomcnt  bedroomcnt  buildingqualitytypeid  \\\n",
       "0      2017-01-01  1727539          3.5         4.0                    NaN   \n",
       "1      2017-01-01  1387261          1.0         2.0                    NaN   \n",
       "2      2017-01-01    11677          2.0         3.0                    NaN   \n",
       "3      2017-01-01  2288172          3.0         4.0                    8.0   \n",
       "4      2017-01-01   781532          3.0         4.0                    9.0   \n",
       "\n",
       "   ...  unitcnt  yearbuilt  structuretaxvaluedollarcnt  taxvaluedollarcnt  \\\n",
       "0  ...      NaN     1998.0                    485713.0          1023282.0   \n",
       "1  ...      NaN     1967.0                     88000.0           464000.0   \n",
       "2  ...      NaN     1962.0                     85289.0           564778.0   \n",
       "3  ...      1.0     1970.0                    108918.0           145143.0   \n",
       "4  ...      1.0     1950.0                    276684.0           773303.0   \n",
       "\n",
       "   assessmentyear  landtaxvaluedollarcnt  taxamount  censustractandblock  \\\n",
       "0          2016.0               537569.0   11013.72         6.059063e+13   \n",
       "1          2016.0               376000.0    5672.48         6.111001e+13   \n",
       "2          2016.0               479489.0    6488.30         6.059022e+13   \n",
       "3          2016.0                36225.0    1777.51         6.037300e+13   \n",
       "4          2016.0               496619.0    9516.26         6.037461e+13   \n",
       "\n",
       "         propertylandusedesc heatingorsystemdesc  \n",
       "0  Single Family Residential                 NaN  \n",
       "1  Single Family Residential                 NaN  \n",
       "2  Single Family Residential                 NaN  \n",
       "3  Single Family Residential             Central  \n",
       "4  Single Family Residential             Central  \n",
       "\n",
       "[5 rows x 35 columns]"
      ]
     },
     "execution_count": 5,
     "metadata": {},
     "output_type": "execute_result"
    }
   ],
   "source": [
    "# run the data through our function to handle missing values\n",
    "df = wrangle.handle_missing_values(df)\n",
    "df.head()"
   ]
  },
  {
   "cell_type": "code",
   "execution_count": 5,
   "id": "989b4794",
   "metadata": {},
   "outputs": [
    {
     "data": {
      "text/plain": [
       "heatingorsystemtypeid           0.352082\n",
       "propertylandusetypeid           0.000000\n",
       "parcelid                        0.000000\n",
       "id                              0.000000\n",
       "logerror                        0.000000\n",
       "transactiondate                 0.000000\n",
       "id.1                            0.000000\n",
       "bathroomcnt                     0.000000\n",
       "bedroomcnt                      0.000000\n",
       "buildingqualitytypeid           0.355805\n",
       "calculatedbathnbr               0.001375\n",
       "calculatedfinishedsquarefeet    0.000325\n",
       "finishedsquarefeet12            0.003475\n",
       "fips                            0.000000\n",
       "fullbathcnt                     0.001375\n",
       "latitude                        0.000000\n",
       "longitude                       0.000000\n",
       "lotsizesquarefeet               0.006873\n",
       "propertycountylandusecode       0.000000\n",
       "propertyzoningdesc              0.353953\n",
       "rawcensustractandblock          0.000000\n",
       "regionidcity                    0.019684\n",
       "regionidcounty                  0.000000\n",
       "regionidzip                     0.000439\n",
       "roomcnt                         0.000000\n",
       "unitcnt                         0.353762\n",
       "yearbuilt                       0.000974\n",
       "structuretaxvaluedollarcnt      0.001451\n",
       "taxvaluedollarcnt               0.000019\n",
       "assessmentyear                  0.000000\n",
       "landtaxvaluedollarcnt           0.000019\n",
       "taxamount                       0.000076\n",
       "censustractandblock             0.002177\n",
       "propertylandusedesc             0.000000\n",
       "heatingorsystemdesc             0.352082\n",
       "dtype: float64"
      ]
     },
     "execution_count": 5,
     "metadata": {},
     "output_type": "execute_result"
    }
   ],
   "source": [
    "df.isna().mean()"
   ]
  },
  {
   "cell_type": "code",
   "execution_count": 6,
   "id": "7f89c6dd",
   "metadata": {},
   "outputs": [
    {
     "name": "stdout",
     "output_type": "stream",
     "text": [
      "<class 'pandas.core.frame.DataFrame'>\n",
      "Int64Index: 52377 entries, 0 to 52441\n",
      "Data columns (total 35 columns):\n",
      " #   Column                        Non-Null Count  Dtype  \n",
      "---  ------                        --------------  -----  \n",
      " 0   heatingorsystemtypeid         33936 non-null  float64\n",
      " 1   propertylandusetypeid         52377 non-null  float64\n",
      " 2   parcelid                      52377 non-null  int64  \n",
      " 3   id                            52377 non-null  int64  \n",
      " 4   logerror                      52377 non-null  float64\n",
      " 5   transactiondate               52377 non-null  object \n",
      " 6   id.1                          52377 non-null  int64  \n",
      " 7   bathroomcnt                   52377 non-null  float64\n",
      " 8   bedroomcnt                    52377 non-null  float64\n",
      " 9   buildingqualitytypeid         33741 non-null  float64\n",
      " 10  calculatedbathnbr             52305 non-null  float64\n",
      " 11  calculatedfinishedsquarefeet  52360 non-null  float64\n",
      " 12  finishedsquarefeet12          52195 non-null  float64\n",
      " 13  fips                          52377 non-null  float64\n",
      " 14  fullbathcnt                   52305 non-null  float64\n",
      " 15  latitude                      52377 non-null  float64\n",
      " 16  longitude                     52377 non-null  float64\n",
      " 17  lotsizesquarefeet             52017 non-null  float64\n",
      " 18  propertycountylandusecode     52377 non-null  object \n",
      " 19  propertyzoningdesc            33838 non-null  object \n",
      " 20  rawcensustractandblock        52377 non-null  float64\n",
      " 21  regionidcity                  51346 non-null  float64\n",
      " 22  regionidcounty                52377 non-null  float64\n",
      " 23  regionidzip                   52354 non-null  float64\n",
      " 24  roomcnt                       52377 non-null  float64\n",
      " 25  unitcnt                       33848 non-null  float64\n",
      " 26  yearbuilt                     52326 non-null  float64\n",
      " 27  structuretaxvaluedollarcnt    52301 non-null  float64\n",
      " 28  taxvaluedollarcnt             52376 non-null  float64\n",
      " 29  assessmentyear                52377 non-null  float64\n",
      " 30  landtaxvaluedollarcnt         52376 non-null  float64\n",
      " 31  taxamount                     52373 non-null  float64\n",
      " 32  censustractandblock           52263 non-null  float64\n",
      " 33  propertylandusedesc           52377 non-null  object \n",
      " 34  heatingorsystemdesc           33936 non-null  object \n",
      "dtypes: float64(27), int64(3), object(5)\n",
      "memory usage: 14.4+ MB\n"
     ]
    }
   ],
   "source": [
    "df.info()"
   ]
  },
  {
   "cell_type": "code",
   "execution_count": 7,
   "id": "696f2ae5",
   "metadata": {},
   "outputs": [],
   "source": [
    "# we can see that we ended up with 52,377 rows after cleaning the data.\n",
    "# we started with 52,442 from the initial SQL query"
   ]
  },
  {
   "cell_type": "code",
   "execution_count": 8,
   "id": "f34c807f",
   "metadata": {},
   "outputs": [
    {
     "name": "stdout",
     "output_type": "stream",
     "text": [
      "<class 'pandas.core.frame.DataFrame'>\n",
      "Int64Index: 52377 entries, 0 to 52441\n",
      "Data columns (total 35 columns):\n",
      " #   Column                        Non-Null Count  Dtype  \n",
      "---  ------                        --------------  -----  \n",
      " 0   heatingorsystemtypeid         33936 non-null  float64\n",
      " 1   propertylandusetypeid         52377 non-null  float64\n",
      " 2   parcelid                      52377 non-null  int64  \n",
      " 3   id                            52377 non-null  int64  \n",
      " 4   logerror                      52377 non-null  float64\n",
      " 5   transactiondate               52377 non-null  object \n",
      " 6   id.1                          52377 non-null  int64  \n",
      " 7   bathroomcnt                   52377 non-null  float64\n",
      " 8   bedroomcnt                    52377 non-null  float64\n",
      " 9   buildingqualitytypeid         33741 non-null  float64\n",
      " 10  calculatedbathnbr             52305 non-null  float64\n",
      " 11  calculatedfinishedsquarefeet  52360 non-null  float64\n",
      " 12  finishedsquarefeet12          52195 non-null  float64\n",
      " 13  fips                          52377 non-null  float64\n",
      " 14  fullbathcnt                   52305 non-null  float64\n",
      " 15  latitude                      52377 non-null  float64\n",
      " 16  longitude                     52377 non-null  float64\n",
      " 17  lotsizesquarefeet             52017 non-null  float64\n",
      " 18  propertycountylandusecode     52377 non-null  object \n",
      " 19  propertyzoningdesc            33838 non-null  object \n",
      " 20  rawcensustractandblock        52377 non-null  float64\n",
      " 21  regionidcity                  51346 non-null  float64\n",
      " 22  regionidcounty                52377 non-null  float64\n",
      " 23  regionidzip                   52354 non-null  float64\n",
      " 24  roomcnt                       52377 non-null  float64\n",
      " 25  unitcnt                       33848 non-null  float64\n",
      " 26  yearbuilt                     52326 non-null  float64\n",
      " 27  structuretaxvaluedollarcnt    52301 non-null  float64\n",
      " 28  taxvaluedollarcnt             52376 non-null  float64\n",
      " 29  assessmentyear                52377 non-null  float64\n",
      " 30  landtaxvaluedollarcnt         52376 non-null  float64\n",
      " 31  taxamount                     52373 non-null  float64\n",
      " 32  censustractandblock           52263 non-null  float64\n",
      " 33  propertylandusedesc           52377 non-null  object \n",
      " 34  heatingorsystemdesc           33936 non-null  object \n",
      "dtypes: float64(27), int64(3), object(5)\n",
      "memory usage: 14.4+ MB\n"
     ]
    }
   ],
   "source": [
    "df.info()"
   ]
  },
  {
   "cell_type": "code",
   "execution_count": 9,
   "id": "618e417b",
   "metadata": {},
   "outputs": [
    {
     "data": {
      "text/html": [
       "<div><div id=c1a6d276-f0c1-42aa-9fb6-7004142476dc style=\"display:none; background-color:#9D6CFF; color:white; width:200px; height:30px; padding-left:5px; border-radius:4px; flex-direction:row; justify-content:space-around; align-items:center;\" onmouseover=\"this.style.backgroundColor='#BA9BF8'\" onmouseout=\"this.style.backgroundColor='#9D6CFF'\" onclick=\"window.commands?.execute('create-mitosheet-from-dataframe-output');\">See Full Dataframe in Mito</div> <script> if (window.commands?.hasCommand('create-mitosheet-from-dataframe-output')) document.getElementById('c1a6d276-f0c1-42aa-9fb6-7004142476dc').style.display = 'flex' </script> <table border=\"1\" class=\"dataframe\">\n",
       "  <thead>\n",
       "    <tr style=\"text-align: right;\">\n",
       "      <th></th>\n",
       "      <th>parcelid</th>\n",
       "      <th>logerror</th>\n",
       "      <th>transactiondate</th>\n",
       "      <th>bathroomcnt</th>\n",
       "      <th>bedroomcnt</th>\n",
       "      <th>calculatedbathnbr</th>\n",
       "      <th>calculatedfinishedsquarefeet</th>\n",
       "      <th>finishedsquarefeet12</th>\n",
       "      <th>fips</th>\n",
       "      <th>fullbathcnt</th>\n",
       "      <th>...</th>\n",
       "      <th>unitcnt</th>\n",
       "      <th>yearbuilt</th>\n",
       "      <th>structuretaxvaluedollarcnt</th>\n",
       "      <th>taxvaluedollarcnt</th>\n",
       "      <th>assessmentyear</th>\n",
       "      <th>landtaxvaluedollarcnt</th>\n",
       "      <th>taxamount</th>\n",
       "      <th>censustractandblock</th>\n",
       "      <th>propertylandusedesc</th>\n",
       "      <th>heatingorsystemdesc</th>\n",
       "    </tr>\n",
       "  </thead>\n",
       "  <tbody>\n",
       "    <tr>\n",
       "      <th>0</th>\n",
       "      <td>14297519</td>\n",
       "      <td>0.025595</td>\n",
       "      <td>2017-01-01</td>\n",
       "      <td>3.5</td>\n",
       "      <td>4.0</td>\n",
       "      <td>3.5</td>\n",
       "      <td>3100.0</td>\n",
       "      <td>3100.0</td>\n",
       "      <td>orange_county</td>\n",
       "      <td>3.0</td>\n",
       "      <td>...</td>\n",
       "      <td>NaN</td>\n",
       "      <td>1998.0</td>\n",
       "      <td>485713.0</td>\n",
       "      <td>1023282.0</td>\n",
       "      <td>2016.0</td>\n",
       "      <td>537569.0</td>\n",
       "      <td>11013.72</td>\n",
       "      <td>6.059063e+13</td>\n",
       "      <td>Single Family Residential</td>\n",
       "      <td>NaN</td>\n",
       "    </tr>\n",
       "    <tr>\n",
       "      <th>1</th>\n",
       "      <td>17052889</td>\n",
       "      <td>0.055619</td>\n",
       "      <td>2017-01-01</td>\n",
       "      <td>1.0</td>\n",
       "      <td>2.0</td>\n",
       "      <td>1.0</td>\n",
       "      <td>1465.0</td>\n",
       "      <td>1465.0</td>\n",
       "      <td>ventura</td>\n",
       "      <td>1.0</td>\n",
       "      <td>...</td>\n",
       "      <td>NaN</td>\n",
       "      <td>1967.0</td>\n",
       "      <td>88000.0</td>\n",
       "      <td>464000.0</td>\n",
       "      <td>2016.0</td>\n",
       "      <td>376000.0</td>\n",
       "      <td>5672.48</td>\n",
       "      <td>6.111001e+13</td>\n",
       "      <td>Single Family Residential</td>\n",
       "      <td>NaN</td>\n",
       "    </tr>\n",
       "    <tr>\n",
       "      <th>2</th>\n",
       "      <td>14186244</td>\n",
       "      <td>0.005383</td>\n",
       "      <td>2017-01-01</td>\n",
       "      <td>2.0</td>\n",
       "      <td>3.0</td>\n",
       "      <td>2.0</td>\n",
       "      <td>1243.0</td>\n",
       "      <td>1243.0</td>\n",
       "      <td>orange_county</td>\n",
       "      <td>2.0</td>\n",
       "      <td>...</td>\n",
       "      <td>NaN</td>\n",
       "      <td>1962.0</td>\n",
       "      <td>85289.0</td>\n",
       "      <td>564778.0</td>\n",
       "      <td>2016.0</td>\n",
       "      <td>479489.0</td>\n",
       "      <td>6488.30</td>\n",
       "      <td>6.059022e+13</td>\n",
       "      <td>Single Family Residential</td>\n",
       "      <td>NaN</td>\n",
       "    </tr>\n",
       "    <tr>\n",
       "      <th>3</th>\n",
       "      <td>12177905</td>\n",
       "      <td>-0.103410</td>\n",
       "      <td>2017-01-01</td>\n",
       "      <td>3.0</td>\n",
       "      <td>4.0</td>\n",
       "      <td>3.0</td>\n",
       "      <td>2376.0</td>\n",
       "      <td>2376.0</td>\n",
       "      <td>los_angeles</td>\n",
       "      <td>3.0</td>\n",
       "      <td>...</td>\n",
       "      <td>1.0</td>\n",
       "      <td>1970.0</td>\n",
       "      <td>108918.0</td>\n",
       "      <td>145143.0</td>\n",
       "      <td>2016.0</td>\n",
       "      <td>36225.0</td>\n",
       "      <td>1777.51</td>\n",
       "      <td>6.037300e+13</td>\n",
       "      <td>Single Family Residential</td>\n",
       "      <td>Central</td>\n",
       "    </tr>\n",
       "    <tr>\n",
       "      <th>4</th>\n",
       "      <td>12095076</td>\n",
       "      <td>-0.001011</td>\n",
       "      <td>2017-01-01</td>\n",
       "      <td>3.0</td>\n",
       "      <td>4.0</td>\n",
       "      <td>3.0</td>\n",
       "      <td>2962.0</td>\n",
       "      <td>2962.0</td>\n",
       "      <td>los_angeles</td>\n",
       "      <td>3.0</td>\n",
       "      <td>...</td>\n",
       "      <td>1.0</td>\n",
       "      <td>1950.0</td>\n",
       "      <td>276684.0</td>\n",
       "      <td>773303.0</td>\n",
       "      <td>2016.0</td>\n",
       "      <td>496619.0</td>\n",
       "      <td>9516.26</td>\n",
       "      <td>6.037461e+13</td>\n",
       "      <td>Single Family Residential</td>\n",
       "      <td>Central</td>\n",
       "    </tr>\n",
       "  </tbody>\n",
       "</table></div>"
      ],
      "text/plain": [
       "   parcelid  logerror transactiondate  bathroomcnt  bedroomcnt  \\\n",
       "0  14297519  0.025595      2017-01-01          3.5         4.0   \n",
       "1  17052889  0.055619      2017-01-01          1.0         2.0   \n",
       "2  14186244  0.005383      2017-01-01          2.0         3.0   \n",
       "3  12177905 -0.103410      2017-01-01          3.0         4.0   \n",
       "4  12095076 -0.001011      2017-01-01          3.0         4.0   \n",
       "\n",
       "   calculatedbathnbr  calculatedfinishedsquarefeet  finishedsquarefeet12  \\\n",
       "0                3.5                        3100.0                3100.0   \n",
       "1                1.0                        1465.0                1465.0   \n",
       "2                2.0                        1243.0                1243.0   \n",
       "3                3.0                        2376.0                2376.0   \n",
       "4                3.0                        2962.0                2962.0   \n",
       "\n",
       "            fips  fullbathcnt  ...  unitcnt  yearbuilt  \\\n",
       "0  orange_county          3.0  ...      NaN     1998.0   \n",
       "1        ventura          1.0  ...      NaN     1967.0   \n",
       "2  orange_county          2.0  ...      NaN     1962.0   \n",
       "3    los_angeles          3.0  ...      1.0     1970.0   \n",
       "4    los_angeles          3.0  ...      1.0     1950.0   \n",
       "\n",
       "   structuretaxvaluedollarcnt taxvaluedollarcnt assessmentyear  \\\n",
       "0                    485713.0         1023282.0         2016.0   \n",
       "1                     88000.0          464000.0         2016.0   \n",
       "2                     85289.0          564778.0         2016.0   \n",
       "3                    108918.0          145143.0         2016.0   \n",
       "4                    276684.0          773303.0         2016.0   \n",
       "\n",
       "   landtaxvaluedollarcnt  taxamount  censustractandblock  \\\n",
       "0               537569.0   11013.72         6.059063e+13   \n",
       "1               376000.0    5672.48         6.111001e+13   \n",
       "2               479489.0    6488.30         6.059022e+13   \n",
       "3                36225.0    1777.51         6.037300e+13   \n",
       "4               496619.0    9516.26         6.037461e+13   \n",
       "\n",
       "         propertylandusedesc  heatingorsystemdesc  \n",
       "0  Single Family Residential                  NaN  \n",
       "1  Single Family Residential                  NaN  \n",
       "2  Single Family Residential                  NaN  \n",
       "3  Single Family Residential              Central  \n",
       "4  Single Family Residential              Central  \n",
       "\n",
       "[5 rows x 30 columns]"
      ]
     },
     "execution_count": 9,
     "metadata": {},
     "output_type": "execute_result"
    }
   ],
   "source": [
    "df = wrangle.wrangle_zillow()\n",
    "df.head()"
   ]
  },
  {
   "cell_type": "code",
   "execution_count": 10,
   "id": "29cfe03d",
   "metadata": {},
   "outputs": [
    {
     "name": "stdout",
     "output_type": "stream",
     "text": [
      "<class 'pandas.core.frame.DataFrame'>\n",
      "Int64Index: 52377 entries, 0 to 52441\n",
      "Data columns (total 30 columns):\n",
      " #   Column                        Non-Null Count  Dtype  \n",
      "---  ------                        --------------  -----  \n",
      " 0   parcelid                      52377 non-null  int64  \n",
      " 1   logerror                      52377 non-null  float64\n",
      " 2   transactiondate               52377 non-null  object \n",
      " 3   bathroomcnt                   52377 non-null  float64\n",
      " 4   bedroomcnt                    52377 non-null  float64\n",
      " 5   calculatedbathnbr             52305 non-null  float64\n",
      " 6   calculatedfinishedsquarefeet  52360 non-null  float64\n",
      " 7   finishedsquarefeet12          52195 non-null  float64\n",
      " 8   fips                          52377 non-null  object \n",
      " 9   fullbathcnt                   52305 non-null  float64\n",
      " 10  latitude                      52377 non-null  float64\n",
      " 11  longitude                     52377 non-null  float64\n",
      " 12  lotsizesquarefeet             52017 non-null  float64\n",
      " 13  propertycountylandusecode     52377 non-null  object \n",
      " 14  propertyzoningdesc            33838 non-null  object \n",
      " 15  rawcensustractandblock        52377 non-null  float64\n",
      " 16  regionidcity                  51346 non-null  float64\n",
      " 17  regionidcounty                52377 non-null  float64\n",
      " 18  regionidzip                   52354 non-null  float64\n",
      " 19  roomcnt                       52377 non-null  float64\n",
      " 20  unitcnt                       33848 non-null  float64\n",
      " 21  yearbuilt                     52326 non-null  float64\n",
      " 22  structuretaxvaluedollarcnt    52301 non-null  float64\n",
      " 23  taxvaluedollarcnt             52376 non-null  float64\n",
      " 24  assessmentyear                52377 non-null  float64\n",
      " 25  landtaxvaluedollarcnt         52376 non-null  float64\n",
      " 26  taxamount                     52373 non-null  float64\n",
      " 27  censustractandblock           52263 non-null  float64\n",
      " 28  propertylandusedesc           52377 non-null  object \n",
      " 29  heatingorsystemdesc           33936 non-null  object \n",
      "dtypes: float64(23), int64(1), object(6)\n",
      "memory usage: 12.4+ MB\n"
     ]
    }
   ],
   "source": [
    "df.info()"
   ]
  },
  {
   "cell_type": "code",
   "execution_count": 11,
   "id": "82d9740f",
   "metadata": {},
   "outputs": [
    {
     "data": {
      "text/plain": [
       "array([[<AxesSubplot:title={'center':'parcelid'}>,\n",
       "        <AxesSubplot:title={'center':'logerror'}>,\n",
       "        <AxesSubplot:title={'center':'bathroomcnt'}>,\n",
       "        <AxesSubplot:title={'center':'bedroomcnt'}>,\n",
       "        <AxesSubplot:title={'center':'calculatedbathnbr'}>],\n",
       "       [<AxesSubplot:title={'center':'calculatedfinishedsquarefeet'}>,\n",
       "        <AxesSubplot:title={'center':'finishedsquarefeet12'}>,\n",
       "        <AxesSubplot:title={'center':'fullbathcnt'}>,\n",
       "        <AxesSubplot:title={'center':'latitude'}>,\n",
       "        <AxesSubplot:title={'center':'longitude'}>],\n",
       "       [<AxesSubplot:title={'center':'lotsizesquarefeet'}>,\n",
       "        <AxesSubplot:title={'center':'rawcensustractandblock'}>,\n",
       "        <AxesSubplot:title={'center':'regionidcity'}>,\n",
       "        <AxesSubplot:title={'center':'regionidcounty'}>,\n",
       "        <AxesSubplot:title={'center':'regionidzip'}>],\n",
       "       [<AxesSubplot:title={'center':'roomcnt'}>,\n",
       "        <AxesSubplot:title={'center':'unitcnt'}>,\n",
       "        <AxesSubplot:title={'center':'yearbuilt'}>,\n",
       "        <AxesSubplot:title={'center':'structuretaxvaluedollarcnt'}>,\n",
       "        <AxesSubplot:title={'center':'taxvaluedollarcnt'}>],\n",
       "       [<AxesSubplot:title={'center':'assessmentyear'}>,\n",
       "        <AxesSubplot:title={'center':'landtaxvaluedollarcnt'}>,\n",
       "        <AxesSubplot:title={'center':'taxamount'}>,\n",
       "        <AxesSubplot:title={'center':'censustractandblock'}>,\n",
       "        <AxesSubplot:>]], dtype=object)"
      ]
     },
     "execution_count": 11,
     "metadata": {},
     "output_type": "execute_result"
    },
    {
     "data": {
      "image/png": "[encoded data removed]",
      "text/plain": [
       "<Figure size 1728x1080 with 25 Axes>"
      ]
     },
     "metadata": {
      "needs_background": "light"
     },
     "output_type": "display_data"
    }
   ],
   "source": [
    "df.hist(figsize=(24, 15), bins=30)"
   ]
  },
  {
   "cell_type": "code",
   "execution_count": 12,
   "id": "f9a5330c",
   "metadata": {},
   "outputs": [
    {
     "data": {
      "text/plain": [
       "parcelid                        0.000000\n",
       "logerror                        0.000000\n",
       "transactiondate                 0.000000\n",
       "bathroomcnt                     0.000000\n",
       "bedroomcnt                      0.000000\n",
       "calculatedbathnbr               0.001375\n",
       "calculatedfinishedsquarefeet    0.000325\n",
       "finishedsquarefeet12            0.003475\n",
       "fips                            0.000000\n",
       "fullbathcnt                     0.001375\n",
       "latitude                        0.000000\n",
       "longitude                       0.000000\n",
       "lotsizesquarefeet               0.006873\n",
       "propertycountylandusecode       0.000000\n",
       "propertyzoningdesc              0.353953\n",
       "rawcensustractandblock          0.000000\n",
       "regionidcity                    0.019684\n",
       "regionidcounty                  0.000000\n",
       "regionidzip                     0.000439\n",
       "roomcnt                         0.000000\n",
       "unitcnt                         0.353762\n",
       "yearbuilt                       0.000974\n",
       "structuretaxvaluedollarcnt      0.001451\n",
       "taxvaluedollarcnt               0.000019\n",
       "assessmentyear                  0.000000\n",
       "landtaxvaluedollarcnt           0.000019\n",
       "taxamount                       0.000076\n",
       "censustractandblock             0.002177\n",
       "propertylandusedesc             0.000000\n",
       "heatingorsystemdesc             0.352082\n",
       "dtype: float64"
      ]
     },
     "execution_count": 12,
     "metadata": {},
     "output_type": "execute_result"
    }
   ],
   "source": [
    "df.isna().mean()"
   ]
  },
  {
   "cell_type": "code",
   "execution_count": 13,
   "id": "b66038df",
   "metadata": {},
   "outputs": [
    {
     "name": "stdout",
     "output_type": "stream",
     "text": [
      "<class 'pandas.core.frame.DataFrame'>\n",
      "Int64Index: 52377 entries, 0 to 52441\n",
      "Data columns (total 30 columns):\n",
      " #   Column                        Non-Null Count  Dtype  \n",
      "---  ------                        --------------  -----  \n",
      " 0   parcelid                      52377 non-null  int64  \n",
      " 1   logerror                      52377 non-null  float64\n",
      " 2   transactiondate               52377 non-null  object \n",
      " 3   bathroomcnt                   52377 non-null  float64\n",
      " 4   bedroomcnt                    52377 non-null  float64\n",
      " 5   calculatedbathnbr             52305 non-null  float64\n",
      " 6   calculatedfinishedsquarefeet  52360 non-null  float64\n",
      " 7   finishedsquarefeet12          52195 non-null  float64\n",
      " 8   fips                          52377 non-null  object \n",
      " 9   fullbathcnt                   52305 non-null  float64\n",
      " 10  latitude                      52377 non-null  float64\n",
      " 11  longitude                     52377 non-null  float64\n",
      " 12  lotsizesquarefeet             52017 non-null  float64\n",
      " 13  propertycountylandusecode     52377 non-null  object \n",
      " 14  propertyzoningdesc            33838 non-null  object \n",
      " 15  rawcensustractandblock        52377 non-null  float64\n",
      " 16  regionidcity                  51346 non-null  float64\n",
      " 17  regionidcounty                52377 non-null  float64\n",
      " 18  regionidzip                   52354 non-null  float64\n",
      " 19  roomcnt                       52377 non-null  float64\n",
      " 20  unitcnt                       33848 non-null  float64\n",
      " 21  yearbuilt                     52326 non-null  float64\n",
      " 22  structuretaxvaluedollarcnt    52301 non-null  float64\n",
      " 23  taxvaluedollarcnt             52376 non-null  float64\n",
      " 24  assessmentyear                52377 non-null  float64\n",
      " 25  landtaxvaluedollarcnt         52376 non-null  float64\n",
      " 26  taxamount                     52373 non-null  float64\n",
      " 27  censustractandblock           52263 non-null  float64\n",
      " 28  propertylandusedesc           52377 non-null  object \n",
      " 29  heatingorsystemdesc           33936 non-null  object \n",
      "dtypes: float64(23), int64(1), object(6)\n",
      "memory usage: 12.4+ MB\n"
     ]
    }
   ],
   "source": [
    "df.info()"
   ]
  },
  {
   "cell_type": "code",
   "execution_count": 14,
   "id": "8e098681",
   "metadata": {},
   "outputs": [
    {
     "data": {
      "text/html": [
       "<div><div id=ffe61cec-9ba9-4af7-a873-6c0cae47124a style=\"display:none; background-color:#9D6CFF; color:white; width:200px; height:30px; padding-left:5px; border-radius:4px; flex-direction:row; justify-content:space-around; align-items:center;\" onmouseover=\"this.style.backgroundColor='#BA9BF8'\" onmouseout=\"this.style.backgroundColor='#9D6CFF'\" onclick=\"window.commands?.execute('create-mitosheet-from-dataframe-output');\">See Full Dataframe in Mito</div> <script> if (window.commands?.hasCommand('create-mitosheet-from-dataframe-output')) document.getElementById('ffe61cec-9ba9-4af7-a873-6c0cae47124a').style.display = 'flex' </script> <table border=\"1\" class=\"dataframe\">\n",
       "  <thead>\n",
       "    <tr style=\"text-align: right;\">\n",
       "      <th></th>\n",
       "      <th>parcelid</th>\n",
       "      <th>logerror</th>\n",
       "      <th>transactiondate</th>\n",
       "      <th>bathroomcnt</th>\n",
       "      <th>bedroomcnt</th>\n",
       "      <th>calculatedbathnbr</th>\n",
       "      <th>calculatedfinishedsquarefeet</th>\n",
       "      <th>finishedsquarefeet12</th>\n",
       "      <th>fips</th>\n",
       "      <th>fullbathcnt</th>\n",
       "      <th>...</th>\n",
       "      <th>unitcnt</th>\n",
       "      <th>yearbuilt</th>\n",
       "      <th>structuretaxvaluedollarcnt</th>\n",
       "      <th>taxvaluedollarcnt</th>\n",
       "      <th>assessmentyear</th>\n",
       "      <th>landtaxvaluedollarcnt</th>\n",
       "      <th>taxamount</th>\n",
       "      <th>censustractandblock</th>\n",
       "      <th>propertylandusedesc</th>\n",
       "      <th>heatingorsystemdesc</th>\n",
       "    </tr>\n",
       "  </thead>\n",
       "  <tbody>\n",
       "    <tr>\n",
       "      <th>0</th>\n",
       "      <td>14297519</td>\n",
       "      <td>0.025595</td>\n",
       "      <td>2017-01-01</td>\n",
       "      <td>3.5</td>\n",
       "      <td>4.0</td>\n",
       "      <td>3.5</td>\n",
       "      <td>3100.0</td>\n",
       "      <td>3100.0</td>\n",
       "      <td>orange_county</td>\n",
       "      <td>3.0</td>\n",
       "      <td>...</td>\n",
       "      <td>NaN</td>\n",
       "      <td>1998.0</td>\n",
       "      <td>485713.0</td>\n",
       "      <td>1023282.0</td>\n",
       "      <td>2016.0</td>\n",
       "      <td>537569.0</td>\n",
       "      <td>11013.72</td>\n",
       "      <td>6.059063e+13</td>\n",
       "      <td>Single Family Residential</td>\n",
       "      <td>NaN</td>\n",
       "    </tr>\n",
       "    <tr>\n",
       "      <th>1</th>\n",
       "      <td>17052889</td>\n",
       "      <td>0.055619</td>\n",
       "      <td>2017-01-01</td>\n",
       "      <td>1.0</td>\n",
       "      <td>2.0</td>\n",
       "      <td>1.0</td>\n",
       "      <td>1465.0</td>\n",
       "      <td>1465.0</td>\n",
       "      <td>ventura</td>\n",
       "      <td>1.0</td>\n",
       "      <td>...</td>\n",
       "      <td>NaN</td>\n",
       "      <td>1967.0</td>\n",
       "      <td>88000.0</td>\n",
       "      <td>464000.0</td>\n",
       "      <td>2016.0</td>\n",
       "      <td>376000.0</td>\n",
       "      <td>5672.48</td>\n",
       "      <td>6.111001e+13</td>\n",
       "      <td>Single Family Residential</td>\n",
       "      <td>NaN</td>\n",
       "    </tr>\n",
       "    <tr>\n",
       "      <th>2</th>\n",
       "      <td>14186244</td>\n",
       "      <td>0.005383</td>\n",
       "      <td>2017-01-01</td>\n",
       "      <td>2.0</td>\n",
       "      <td>3.0</td>\n",
       "      <td>2.0</td>\n",
       "      <td>1243.0</td>\n",
       "      <td>1243.0</td>\n",
       "      <td>orange_county</td>\n",
       "      <td>2.0</td>\n",
       "      <td>...</td>\n",
       "      <td>NaN</td>\n",
       "      <td>1962.0</td>\n",
       "      <td>85289.0</td>\n",
       "      <td>564778.0</td>\n",
       "      <td>2016.0</td>\n",
       "      <td>479489.0</td>\n",
       "      <td>6488.30</td>\n",
       "      <td>6.059022e+13</td>\n",
       "      <td>Single Family Residential</td>\n",
       "      <td>NaN</td>\n",
       "    </tr>\n",
       "    <tr>\n",
       "      <th>3</th>\n",
       "      <td>12177905</td>\n",
       "      <td>-0.103410</td>\n",
       "      <td>2017-01-01</td>\n",
       "      <td>3.0</td>\n",
       "      <td>4.0</td>\n",
       "      <td>3.0</td>\n",
       "      <td>2376.0</td>\n",
       "      <td>2376.0</td>\n",
       "      <td>los_angeles</td>\n",
       "      <td>3.0</td>\n",
       "      <td>...</td>\n",
       "      <td>1.0</td>\n",
       "      <td>1970.0</td>\n",
       "      <td>108918.0</td>\n",
       "      <td>145143.0</td>\n",
       "      <td>2016.0</td>\n",
       "      <td>36225.0</td>\n",
       "      <td>1777.51</td>\n",
       "      <td>6.037300e+13</td>\n",
       "      <td>Single Family Residential</td>\n",
       "      <td>Central</td>\n",
       "    </tr>\n",
       "    <tr>\n",
       "      <th>4</th>\n",
       "      <td>12095076</td>\n",
       "      <td>-0.001011</td>\n",
       "      <td>2017-01-01</td>\n",
       "      <td>3.0</td>\n",
       "      <td>4.0</td>\n",
       "      <td>3.0</td>\n",
       "      <td>2962.0</td>\n",
       "      <td>2962.0</td>\n",
       "      <td>los_angeles</td>\n",
       "      <td>3.0</td>\n",
       "      <td>...</td>\n",
       "      <td>1.0</td>\n",
       "      <td>1950.0</td>\n",
       "      <td>276684.0</td>\n",
       "      <td>773303.0</td>\n",
       "      <td>2016.0</td>\n",
       "      <td>496619.0</td>\n",
       "      <td>9516.26</td>\n",
       "      <td>6.037461e+13</td>\n",
       "      <td>Single Family Residential</td>\n",
       "      <td>Central</td>\n",
       "    </tr>\n",
       "  </tbody>\n",
       "</table></div>"
      ],
      "text/plain": [
       "   parcelid  logerror transactiondate  bathroomcnt  bedroomcnt  \\\n",
       "0  14297519  0.025595      2017-01-01          3.5         4.0   \n",
       "1  17052889  0.055619      2017-01-01          1.0         2.0   \n",
       "2  14186244  0.005383      2017-01-01          2.0         3.0   \n",
       "3  12177905 -0.103410      2017-01-01          3.0         4.0   \n",
       "4  12095076 -0.001011      2017-01-01          3.0         4.0   \n",
       "\n",
       "   calculatedbathnbr  calculatedfinishedsquarefeet  finishedsquarefeet12  \\\n",
       "0                3.5                        3100.0                3100.0   \n",
       "1                1.0                        1465.0                1465.0   \n",
       "2                2.0                        1243.0                1243.0   \n",
       "3                3.0                        2376.0                2376.0   \n",
       "4                3.0                        2962.0                2962.0   \n",
       "\n",
       "            fips  fullbathcnt  ...  unitcnt  yearbuilt  \\\n",
       "0  orange_county          3.0  ...      NaN     1998.0   \n",
       "1        ventura          1.0  ...      NaN     1967.0   \n",
       "2  orange_county          2.0  ...      NaN     1962.0   \n",
       "3    los_angeles          3.0  ...      1.0     1970.0   \n",
       "4    los_angeles          3.0  ...      1.0     1950.0   \n",
       "\n",
       "   structuretaxvaluedollarcnt taxvaluedollarcnt assessmentyear  \\\n",
       "0                    485713.0         1023282.0         2016.0   \n",
       "1                     88000.0          464000.0         2016.0   \n",
       "2                     85289.0          564778.0         2016.0   \n",
       "3                    108918.0          145143.0         2016.0   \n",
       "4                    276684.0          773303.0         2016.0   \n",
       "\n",
       "   landtaxvaluedollarcnt  taxamount  censustractandblock  \\\n",
       "0               537569.0   11013.72         6.059063e+13   \n",
       "1               376000.0    5672.48         6.111001e+13   \n",
       "2               479489.0    6488.30         6.059022e+13   \n",
       "3                36225.0    1777.51         6.037300e+13   \n",
       "4               496619.0    9516.26         6.037461e+13   \n",
       "\n",
       "         propertylandusedesc  heatingorsystemdesc  \n",
       "0  Single Family Residential                  NaN  \n",
       "1  Single Family Residential                  NaN  \n",
       "2  Single Family Residential                  NaN  \n",
       "3  Single Family Residential              Central  \n",
       "4  Single Family Residential              Central  \n",
       "\n",
       "[5 rows x 30 columns]"
      ]
     },
     "execution_count": 14,
     "metadata": {},
     "output_type": "execute_result"
    }
   ],
   "source": [
    "#check the wrangle zillow function's output against indiv fucntions\n",
    "df = wrangle.wrangle_zillow()\n",
    "df.head()"
   ]
  },
  {
   "cell_type": "code",
   "execution_count": 15,
   "id": "dd03ded6",
   "metadata": {},
   "outputs": [
    {
     "name": "stdout",
     "output_type": "stream",
     "text": [
      "<class 'pandas.core.frame.DataFrame'>\n",
      "Int64Index: 52377 entries, 0 to 52441\n",
      "Data columns (total 30 columns):\n",
      " #   Column                        Non-Null Count  Dtype  \n",
      "---  ------                        --------------  -----  \n",
      " 0   parcelid                      52377 non-null  int64  \n",
      " 1   logerror                      52377 non-null  float64\n",
      " 2   transactiondate               52377 non-null  object \n",
      " 3   bathroomcnt                   52377 non-null  float64\n",
      " 4   bedroomcnt                    52377 non-null  float64\n",
      " 5   calculatedbathnbr             52305 non-null  float64\n",
      " 6   calculatedfinishedsquarefeet  52360 non-null  float64\n",
      " 7   finishedsquarefeet12          52195 non-null  float64\n",
      " 8   fips                          52377 non-null  object \n",
      " 9   fullbathcnt                   52305 non-null  float64\n",
      " 10  latitude                      52377 non-null  float64\n",
      " 11  longitude                     52377 non-null  float64\n",
      " 12  lotsizesquarefeet             52017 non-null  float64\n",
      " 13  propertycountylandusecode     52377 non-null  object \n",
      " 14  propertyzoningdesc            33838 non-null  object \n",
      " 15  rawcensustractandblock        52377 non-null  float64\n",
      " 16  regionidcity                  51346 non-null  float64\n",
      " 17  regionidcounty                52377 non-null  float64\n",
      " 18  regionidzip                   52354 non-null  float64\n",
      " 19  roomcnt                       52377 non-null  float64\n",
      " 20  unitcnt                       33848 non-null  float64\n",
      " 21  yearbuilt                     52326 non-null  float64\n",
      " 22  structuretaxvaluedollarcnt    52301 non-null  float64\n",
      " 23  taxvaluedollarcnt             52376 non-null  float64\n",
      " 24  assessmentyear                52377 non-null  float64\n",
      " 25  landtaxvaluedollarcnt         52376 non-null  float64\n",
      " 26  taxamount                     52373 non-null  float64\n",
      " 27  censustractandblock           52263 non-null  float64\n",
      " 28  propertylandusedesc           52377 non-null  object \n",
      " 29  heatingorsystemdesc           33936 non-null  object \n",
      "dtypes: float64(23), int64(1), object(6)\n",
      "memory usage: 12.4+ MB\n"
     ]
    }
   ],
   "source": [
    "df.info()"
   ]
  },
  {
   "cell_type": "code",
   "execution_count": 16,
   "id": "a92915f0",
   "metadata": {},
   "outputs": [],
   "source": [
    "outlier_cols = [col for col in df.columns if col.endswith('_outliers')]\n",
    "for col in outlier_cols:\n",
    "    print('~~~\\n' + col)\n",
    "    data = df[col][df[col] > 0]\n",
    "    print(data.describe())"
   ]
  },
  {
   "cell_type": "markdown",
   "id": "ff2e3d92",
   "metadata": {},
   "source": [
    "## 2. Explore"
   ]
  },
  {
   "cell_type": "code",
   "execution_count": 17,
   "id": "7ccc497d",
   "metadata": {},
   "outputs": [
    {
     "data": {
      "text/html": [
       "<div><div id=226b5702-fa74-4236-97b7-464c9af73f3f style=\"display:none; background-color:#9D6CFF; color:white; width:200px; height:30px; padding-left:5px; border-radius:4px; flex-direction:row; justify-content:space-around; align-items:center;\" onmouseover=\"this.style.backgroundColor='#BA9BF8'\" onmouseout=\"this.style.backgroundColor='#9D6CFF'\" onclick=\"window.commands?.execute('create-mitosheet-from-dataframe-output');\">See Full Dataframe in Mito</div> <script> if (window.commands?.hasCommand('create-mitosheet-from-dataframe-output')) document.getElementById('226b5702-fa74-4236-97b7-464c9af73f3f').style.display = 'flex' </script> <table border=\"1\" class=\"dataframe\">\n",
       "  <thead>\n",
       "    <tr style=\"text-align: right;\">\n",
       "      <th></th>\n",
       "      <th>count</th>\n",
       "      <th>mean</th>\n",
       "      <th>std</th>\n",
       "      <th>min</th>\n",
       "      <th>25%</th>\n",
       "      <th>50%</th>\n",
       "      <th>75%</th>\n",
       "      <th>max</th>\n",
       "    </tr>\n",
       "  </thead>\n",
       "  <tbody>\n",
       "    <tr>\n",
       "      <th>parcelid</th>\n",
       "      <td>52377.0</td>\n",
       "      <td>1.299146e+07</td>\n",
       "      <td>3.276096e+06</td>\n",
       "      <td>1.071186e+07</td>\n",
       "      <td>1.150904e+07</td>\n",
       "      <td>1.257566e+07</td>\n",
       "      <td>1.412745e+07</td>\n",
       "      <td>1.676392e+08</td>\n",
       "    </tr>\n",
       "    <tr>\n",
       "      <th>logerror</th>\n",
       "      <td>52377.0</td>\n",
       "      <td>1.828594e-02</td>\n",
       "      <td>1.772334e-01</td>\n",
       "      <td>-4.655420e+00</td>\n",
       "      <td>-2.462390e-02</td>\n",
       "      <td>6.999483e-03</td>\n",
       "      <td>4.066519e-02</td>\n",
       "      <td>5.262999e+00</td>\n",
       "    </tr>\n",
       "    <tr>\n",
       "      <th>bathroomcnt</th>\n",
       "      <td>52377.0</td>\n",
       "      <td>2.302222e+00</td>\n",
       "      <td>1.020227e+00</td>\n",
       "      <td>0.000000e+00</td>\n",
       "      <td>2.000000e+00</td>\n",
       "      <td>2.000000e+00</td>\n",
       "      <td>3.000000e+00</td>\n",
       "      <td>1.800000e+01</td>\n",
       "    </tr>\n",
       "    <tr>\n",
       "      <th>bedroomcnt</th>\n",
       "      <td>52377.0</td>\n",
       "      <td>3.304733e+00</td>\n",
       "      <td>9.426137e-01</td>\n",
       "      <td>0.000000e+00</td>\n",
       "      <td>3.000000e+00</td>\n",
       "      <td>3.000000e+00</td>\n",
       "      <td>4.000000e+00</td>\n",
       "      <td>1.400000e+01</td>\n",
       "    </tr>\n",
       "    <tr>\n",
       "      <th>calculatedbathnbr</th>\n",
       "      <td>52305.0</td>\n",
       "      <td>2.304732e+00</td>\n",
       "      <td>1.017958e+00</td>\n",
       "      <td>1.000000e+00</td>\n",
       "      <td>2.000000e+00</td>\n",
       "      <td>2.000000e+00</td>\n",
       "      <td>3.000000e+00</td>\n",
       "      <td>1.800000e+01</td>\n",
       "    </tr>\n",
       "    <tr>\n",
       "      <th>...</th>\n",
       "      <td>...</td>\n",
       "      <td>...</td>\n",
       "      <td>...</td>\n",
       "      <td>...</td>\n",
       "      <td>...</td>\n",
       "      <td>...</td>\n",
       "      <td>...</td>\n",
       "      <td>...</td>\n",
       "    </tr>\n",
       "    <tr>\n",
       "      <th>taxvaluedollarcnt</th>\n",
       "      <td>52376.0</td>\n",
       "      <td>5.282433e+05</td>\n",
       "      <td>7.488718e+05</td>\n",
       "      <td>1.000000e+03</td>\n",
       "      <td>1.936392e+05</td>\n",
       "      <td>3.734305e+05</td>\n",
       "      <td>6.185355e+05</td>\n",
       "      <td>4.906124e+07</td>\n",
       "    </tr>\n",
       "    <tr>\n",
       "      <th>assessmentyear</th>\n",
       "      <td>52377.0</td>\n",
       "      <td>2.016000e+03</td>\n",
       "      <td>0.000000e+00</td>\n",
       "      <td>2.016000e+03</td>\n",
       "      <td>2.016000e+03</td>\n",
       "      <td>2.016000e+03</td>\n",
       "      <td>2.016000e+03</td>\n",
       "      <td>2.016000e+03</td>\n",
       "    </tr>\n",
       "    <tr>\n",
       "      <th>landtaxvaluedollarcnt</th>\n",
       "      <td>52376.0</td>\n",
       "      <td>3.326568e+05</td>\n",
       "      <td>5.689639e+05</td>\n",
       "      <td>1.610000e+02</td>\n",
       "      <td>7.593900e+04</td>\n",
       "      <td>2.178310e+05</td>\n",
       "      <td>4.080000e+05</td>\n",
       "      <td>4.895220e+07</td>\n",
       "    </tr>\n",
       "    <tr>\n",
       "      <th>taxamount</th>\n",
       "      <td>52373.0</td>\n",
       "      <td>6.436171e+03</td>\n",
       "      <td>8.713952e+03</td>\n",
       "      <td>4.918000e+01</td>\n",
       "      <td>2.655440e+03</td>\n",
       "      <td>4.644880e+03</td>\n",
       "      <td>7.370940e+03</td>\n",
       "      <td>5.866393e+05</td>\n",
       "    </tr>\n",
       "    <tr>\n",
       "      <th>censustractandblock</th>\n",
       "      <td>52263.0</td>\n",
       "      <td>6.050223e+13</td>\n",
       "      <td>1.859993e+12</td>\n",
       "      <td>6.037101e+13</td>\n",
       "      <td>6.037401e+13</td>\n",
       "      <td>6.037620e+13</td>\n",
       "      <td>6.059042e+13</td>\n",
       "      <td>4.830301e+14</td>\n",
       "    </tr>\n",
       "  </tbody>\n",
       "</table></div>"
      ],
      "text/plain": [
       "                                count          mean           std  \\\n",
       "parcelid                      52377.0  1.299146e+07  3.276096e+06   \n",
       "logerror                      52377.0  1.828594e-02  1.772334e-01   \n",
       "bathroomcnt                   52377.0  2.302222e+00  1.020227e+00   \n",
       "bedroomcnt                    52377.0  3.304733e+00  9.426137e-01   \n",
       "calculatedbathnbr             52305.0  2.304732e+00  1.017958e+00   \n",
       "calculatedfinishedsquarefeet  52360.0  1.922874e+03  1.004363e+03   \n",
       "finishedsquarefeet12          52195.0  1.925029e+03  1.004273e+03   \n",
       "fullbathcnt                   52305.0  2.239576e+00  9.931980e-01   \n",
       "latitude                      52377.0  3.402276e+07  2.738626e+05   \n",
       "longitude                     52377.0 -1.181943e+08  3.563883e+05   \n",
       "lotsizesquarefeet             52017.0  1.126808e+04  8.661208e+04   \n",
       "rawcensustractandblock        52377.0  6.049424e+07  2.085843e+05   \n",
       "regionidcity                  51346.0  3.350982e+04  4.920227e+04   \n",
       "regionidcounty                52377.0  2.525577e+03  8.036454e+02   \n",
       "regionidzip                   52354.0  9.663557e+04  4.607769e+03   \n",
       "roomcnt                       52377.0  1.895889e+00  3.147655e+00   \n",
       "unitcnt                       33848.0  1.000916e+00  3.121116e-02   \n",
       "yearbuilt                     52326.0  1.963394e+03  2.313335e+01   \n",
       "structuretaxvaluedollarcnt    52301.0  1.958670e+05  2.524470e+05   \n",
       "taxvaluedollarcnt             52376.0  5.282433e+05  7.488718e+05   \n",
       "assessmentyear                52377.0  2.016000e+03  0.000000e+00   \n",
       "landtaxvaluedollarcnt         52376.0  3.326568e+05  5.689639e+05   \n",
       "taxamount                     52373.0  6.436171e+03  8.713952e+03   \n",
       "censustractandblock           52263.0  6.050223e+13  1.859993e+12   \n",
       "\n",
       "                                       min           25%           50%  \\\n",
       "parcelid                      1.071186e+07  1.150904e+07  1.257566e+07   \n",
       "logerror                     -4.655420e+00 -2.462390e-02  6.999483e-03   \n",
       "bathroomcnt                   0.000000e+00  2.000000e+00  2.000000e+00   \n",
       "bedroomcnt                    0.000000e+00  3.000000e+00  3.000000e+00   \n",
       "calculatedbathnbr             1.000000e+00  2.000000e+00  2.000000e+00   \n",
       "calculatedfinishedsquarefeet  1.280000e+02  1.268000e+03  1.659000e+03   \n",
       "finishedsquarefeet12          1.280000e+02  1.270000e+03  1.660000e+03   \n",
       "fullbathcnt                   1.000000e+00  2.000000e+00  2.000000e+00   \n",
       "latitude                      3.334062e+07  3.382713e+07  3.402397e+07   \n",
       "longitude                    -1.194754e+08 -1.184007e+08 -1.181532e+08   \n",
       "lotsizesquarefeet             2.360000e+02  5.581000e+03  6.839000e+03   \n",
       "rawcensustractandblock        6.037101e+07  6.037401e+07  6.037620e+07   \n",
       "regionidcity                  3.491000e+03  1.244700e+04  2.481200e+04   \n",
       "regionidcounty                1.286000e+03  1.286000e+03  3.101000e+03   \n",
       "regionidzip                   9.598200e+04  9.620600e+04  9.641200e+04   \n",
       "roomcnt                       0.000000e+00  0.000000e+00  0.000000e+00   \n",
       "unitcnt                       1.000000e+00  1.000000e+00  1.000000e+00   \n",
       "yearbuilt                     1.878000e+03  1.950000e+03  1.961000e+03   \n",
       "structuretaxvaluedollarcnt    1.290000e+02  7.703100e+04  1.317050e+05   \n",
       "taxvaluedollarcnt             1.000000e+03  1.936392e+05  3.734305e+05   \n",
       "assessmentyear                2.016000e+03  2.016000e+03  2.016000e+03   \n",
       "landtaxvaluedollarcnt         1.610000e+02  7.593900e+04  2.178310e+05   \n",
       "taxamount                     4.918000e+01  2.655440e+03  4.644880e+03   \n",
       "censustractandblock           6.037101e+13  6.037401e+13  6.037620e+13   \n",
       "\n",
       "                                       75%           max  \n",
       "parcelid                      1.412745e+07  1.676392e+08  \n",
       "logerror                      4.066519e-02  5.262999e+00  \n",
       "bathroomcnt                   3.000000e+00  1.800000e+01  \n",
       "bedroomcnt                    4.000000e+00  1.400000e+01  \n",
       "calculatedbathnbr             3.000000e+00  1.800000e+01  \n",
       "calculatedfinishedsquarefeet  2.306000e+03  2.192900e+04  \n",
       "finishedsquarefeet12          2.308000e+03  2.192900e+04  \n",
       "fullbathcnt                   3.000000e+00  1.800000e+01  \n",
       "latitude                      3.418721e+07  3.481877e+07  \n",
       "longitude                    -1.179297e+08 -1.175546e+08  \n",
       "lotsizesquarefeet             8.785000e+03  6.971010e+06  \n",
       "rawcensustractandblock        6.059042e+07  6.111009e+07  \n",
       "regionidcity                  4.022700e+04  3.965560e+05  \n",
       "regionidcounty                3.101000e+03  3.101000e+03  \n",
       "regionidzip                   9.699500e+04  3.996750e+05  \n",
       "roomcnt                       5.000000e+00  1.500000e+01  \n",
       "unitcnt                       1.000000e+00  3.000000e+00  \n",
       "yearbuilt                     1.979000e+03  2.016000e+03  \n",
       "structuretaxvaluedollarcnt    2.260000e+05  9.164901e+06  \n",
       "taxvaluedollarcnt             6.185355e+05  4.906124e+07  \n",
       "assessmentyear                2.016000e+03  2.016000e+03  \n",
       "landtaxvaluedollarcnt         4.080000e+05  4.895220e+07  \n",
       "taxamount                     7.370940e+03  5.866393e+05  \n",
       "censustractandblock           6.059042e+13  4.830301e+14  "
      ]
     },
     "execution_count": 17,
     "metadata": {},
     "output_type": "execute_result"
    }
   ],
   "source": [
    "df.describe().T"
   ]
  },
  {
   "cell_type": "code",
   "execution_count": 7,
   "id": "3f7a44cd",
   "metadata": {},
   "outputs": [],
   "source": [
    "import split"
   ]
  },
  {
   "cell_type": "code",
   "execution_count": 8,
   "id": "5c37dbac",
   "metadata": {},
   "outputs": [
    {
     "data": {
      "text/plain": [
       "((29330, 35), (12571, 35), (10476, 35))"
      ]
     },
     "execution_count": 8,
     "metadata": {},
     "output_type": "execute_result"
    }
   ],
   "source": [
    "train, validate, test = split.train_validate_test_split(df,'taxvaluedollarcnt')\n",
    "train.shape, validate.shape, test.shape"
   ]
  },
  {
   "cell_type": "code",
   "execution_count": 9,
   "id": "b1c9f0ab",
   "metadata": {},
   "outputs": [
    {
     "data": {
      "image/png": "[encoded data removed]",
      "text/plain": [
       "<Figure size 288x144 with 1 Axes>"
      ]
     },
     "metadata": {
      "needs_background": "light"
     },
     "output_type": "display_data"
    },
    {
     "data": {
      "image/png": "[encoded data removed]",
      "text/plain": [
       "<Figure size 288x144 with 1 Axes>"
      ]
     },
     "metadata": {
      "needs_background": "light"
     },
     "output_type": "display_data"
    },
    {
     "data": {
      "image/png": "[encoded data removed]",
      "text/plain": [
       "<Figure size 288x144 with 1 Axes>"
      ]
     },
     "metadata": {
      "needs_background": "light"
     },
     "output_type": "display_data"
    },
    {
     "data": {
      "image/png": "[encoded data removed]",
      "text/plain": [
       "<Figure size 288x144 with 1 Axes>"
      ]
     },
     "metadata": {
      "needs_background": "light"
     },
     "output_type": "display_data"
    },
    {
     "data": {
      "image/png": "[encoded data removed]",
      "text/plain": [
       "<Figure size 288x144 with 1 Axes>"
      ]
     },
     "metadata": {
      "needs_background": "light"
     },
     "output_type": "display_data"
    },
    {
     "data": {
      "image/png": "[encoded data removed]",
      "text/plain": [
       "<Figure size 288x144 with 1 Axes>"
      ]
     },
     "metadata": {
      "needs_background": "light"
     },
     "output_type": "display_data"
    },
    {
     "data": {
      "image/png": "[encoded data removed]",
      "text/plain": [
       "<Figure size 288x144 with 1 Axes>"
      ]
     },
     "metadata": {
      "needs_background": "light"
     },
     "output_type": "display_data"
    },
    {
     "data": {
      "image/png": "[encoded data removed]",
      "text/plain": [
       "<Figure size 288x144 with 1 Axes>"
      ]
     },
     "metadata": {
      "needs_background": "light"
     },
     "output_type": "display_data"
    },
    {
     "data": {
      "image/png": "[encoded data removed]",
      "text/plain": [
       "<Figure size 288x144 with 1 Axes>"
      ]
     },
     "metadata": {
      "needs_background": "light"
     },
     "output_type": "display_data"
    },
    {
     "data": {
      "image/png": "[encoded data removed]",
      "text/plain": [
       "<Figure size 288x144 with 1 Axes>"
      ]
     },
     "metadata": {
      "needs_background": "light"
     },
     "output_type": "display_data"
    },
    {
     "data": {
      "image/png": "[encoded data removed]",
      "text/plain": [
       "<Figure size 288x144 with 1 Axes>"
      ]
     },
     "metadata": {
      "needs_background": "light"
     },
     "output_type": "display_data"
    },
    {
     "data": {
      "image/png": "[encoded data removed]",
      "text/plain": [
       "<Figure size 288x144 with 1 Axes>"
      ]
     },
     "metadata": {
      "needs_background": "light"
     },
     "output_type": "display_data"
    },
    {
     "data": {
      "image/png": "[encoded data removed]",
      "text/plain": [
       "<Figure size 288x144 with 1 Axes>"
      ]
     },
     "metadata": {
      "needs_background": "light"
     },
     "output_type": "display_data"
    },
    {
     "data": {
      "image/png": "[encoded data removed]",
      "text/plain": [
       "<Figure size 288x144 with 1 Axes>"
      ]
     },
     "metadata": {
      "needs_background": "light"
     },
     "output_type": "display_data"
    },
    {
     "data": {
      "image/png": "[encoded data removed]",
      "text/plain": [
       "<Figure size 288x144 with 1 Axes>"
      ]
     },
     "metadata": {
      "needs_background": "light"
     },
     "output_type": "display_data"
    },
    {
     "data": {
      "image/png": "[encoded data removed]",
      "text/plain": [
       "<Figure size 288x144 with 1 Axes>"
      ]
     },
     "metadata": {
      "needs_background": "light"
     },
     "output_type": "display_data"
    },
    {
     "data": {
      "image/png": "[encoded data removed]",
      "text/plain": [
       "<Figure size 288x144 with 1 Axes>"
      ]
     },
     "metadata": {
      "needs_background": "light"
     },
     "output_type": "display_data"
    },
    {
     "data": {
      "image/png": "[encoded data removed]",
      "text/plain": [
       "<Figure size 288x144 with 1 Axes>"
      ]
     },
     "metadata": {
      "needs_background": "light"
     },
     "output_type": "display_data"
    },
    {
     "data": {
      "image/png": "[encoded data removed]",
      "text/plain": [
       "<Figure size 288x144 with 1 Axes>"
      ]
     },
     "metadata": {
      "needs_background": "light"
     },
     "output_type": "display_data"
    },
    {
     "data": {
      "image/png": "[encoded data removed]",
      "text/plain": [
       "<Figure size 288x144 with 1 Axes>"
      ]
     },
     "metadata": {
      "needs_background": "light"
     },
     "output_type": "display_data"
    },
    {
     "data": {
      "image/png": "[encoded data removed]",
      "text/plain": [
       "<Figure size 288x144 with 1 Axes>"
      ]
     },
     "metadata": {
      "needs_background": "light"
     },
     "output_type": "display_data"
    },
    {
     "data": {
      "image/png": "[encoded data removed]",
      "text/plain": [
       "<Figure size 288x144 with 1 Axes>"
      ]
     },
     "metadata": {
      "needs_background": "light"
     },
     "output_type": "display_data"
    },
    {
     "data": {
      "image/png": "[encoded data removed]",
      "text/plain": [
       "<Figure size 288x144 with 1 Axes>"
      ]
     },
     "metadata": {
      "needs_background": "light"
     },
     "output_type": "display_data"
    },
    {
     "data": {
      "image/png": "[encoded data removed]",
      "text/plain": [
       "<Figure size 288x144 with 1 Axes>"
      ]
     },
     "metadata": {
      "needs_background": "light"
     },
     "output_type": "display_data"
    },
    {
     "data": {
      "image/png": "[encoded data removed]",
      "text/plain": [
       "<Figure size 288x144 with 1 Axes>"
      ]
     },
     "metadata": {
      "needs_background": "light"
     },
     "output_type": "display_data"
    },
    {
     "data": {
      "image/png": "[encoded data removed]",
      "text/plain": [
       "<Figure size 288x144 with 1 Axes>"
      ]
     },
     "metadata": {
      "needs_background": "light"
     },
     "output_type": "display_data"
    },
    {
     "data": {
      "image/png": "[encoded data removed]",
      "text/plain": [
       "<Figure size 288x144 with 1 Axes>"
      ]
     },
     "metadata": {
      "needs_background": "light"
     },
     "output_type": "display_data"
    }
   ],
   "source": [
    "numeric_cols = df.select_dtypes('float64').columns\n",
    "for col in numeric_cols:\n",
    "    plt.figure(figsize=(4,2))\n",
    "    plt.hist(train[col])\n",
    "    plt.title(col)\n",
    "    plt.show()"
   ]
  },
  {
   "cell_type": "markdown",
   "id": "97f339ba",
   "metadata": {},
   "source": [
    "### Takeaways from single variable distributions:\n",
    "- logerror is normal, centered on 0\n",
    "- baths is right skewed, centered on 2\n",
    "- beds is right skewed, centered on 4\n",
    "- calcbathnbr is right skewed, centered on 2\n",
    "- finishedsqft is right skewed, centered 2500\n",
    "- fips is divided unequally among 3 counties, with LA highest\n",
    "- roomcnt has a normal dist around 6.5, where not null or 0 (lots of zeroes)\n",
    "- year built is is right skewed, centered on 1950-60\n",
    "- get rid of columns with mainly one value:\n",
    "    - assessemnt year\n",
    "    - unitcnt\n",
    "    - finishedsquareft12 is same as calculatedfinishedsqft\n",
    "- make zips/ids into objects:\n",
    "    - regionidzip\n",
    "    - regionidcounty\n",
    "    - regionidcity"
   ]
  },
  {
   "cell_type": "code",
   "execution_count": 25,
   "id": "d66bde77",
   "metadata": {},
   "outputs": [
    {
     "data": {
      "image/png": "[encoded data removed]",
      "text/plain": [
       "<Figure size 432x288 with 1 Axes>"
      ]
     },
     "metadata": {
      "needs_background": "light"
     },
     "output_type": "display_data"
    }
   ],
   "source": [
    "sns.boxplot(data=train, y=train.logerror)\n",
    "plt.ylim(-0.5,0.5)\n",
    "plt.show()"
   ]
  },
  {
   "cell_type": "markdown",
   "id": "829e360a",
   "metadata": {},
   "source": [
    "### Questions:\n",
    "1. is there a relationship between logerror and fips?\n",
    "2. is there a relationship between logerror and yearbuilt?\n",
    "3. is there a relationship between logerror and taxvaluedollarcnt?\n",
    "4. controlling for fips, is there a relationship between logerror and calculatedfinishedsqft?"
   ]
  },
  {
   "cell_type": "markdown",
   "id": "b41833be",
   "metadata": {},
   "source": [
    "### 1. is there a relationship between logerror and fips?"
   ]
  },
  {
   "cell_type": "code",
   "execution_count": 6,
   "id": "66ce67fe",
   "metadata": {},
   "outputs": [
    {
     "ename": "NameError",
     "evalue": "name 'train' is not defined",
     "output_type": "error",
     "traceback": [
      "\u001b[0;31m---------------------------------------------------------------------------\u001b[0m",
      "\u001b[0;31mNameError\u001b[0m                                 Traceback (most recent call last)",
      "\u001b[0;32m/var/folders/3n/86q7c8d16r51w8vg4g5kwq280000gn/T/ipykernel_10206/989212921.py\u001b[0m in \u001b[0;36m<module>\u001b[0;34m\u001b[0m\n\u001b[0;32m----> 1\u001b[0;31m \u001b[0msns\u001b[0m\u001b[0;34m.\u001b[0m\u001b[0mboxplot\u001b[0m\u001b[0;34m(\u001b[0m\u001b[0mtrain\u001b[0m\u001b[0;34m.\u001b[0m\u001b[0mfips\u001b[0m\u001b[0;34m,\u001b[0m \u001b[0mtrain\u001b[0m\u001b[0;34m.\u001b[0m\u001b[0mlogerror\u001b[0m\u001b[0;34m)\u001b[0m\u001b[0;34m\u001b[0m\u001b[0;34m\u001b[0m\u001b[0m\n\u001b[0m\u001b[1;32m      2\u001b[0m \u001b[0mplt\u001b[0m\u001b[0;34m.\u001b[0m\u001b[0mtitle\u001b[0m\u001b[0;34m(\u001b[0m\u001b[0;34m\"is there a relationship between logerror and fips?\"\u001b[0m\u001b[0;34m)\u001b[0m\u001b[0;34m\u001b[0m\u001b[0;34m\u001b[0m\u001b[0m\n\u001b[1;32m      3\u001b[0m \u001b[0mplt\u001b[0m\u001b[0;34m.\u001b[0m\u001b[0mylim\u001b[0m\u001b[0;34m(\u001b[0m\u001b[0;34m-\u001b[0m\u001b[0;36m1\u001b[0m\u001b[0;34m,\u001b[0m \u001b[0;36m1\u001b[0m\u001b[0;34m)\u001b[0m\u001b[0;34m\u001b[0m\u001b[0;34m\u001b[0m\u001b[0m\n\u001b[1;32m      4\u001b[0m \u001b[0mplt\u001b[0m\u001b[0;34m.\u001b[0m\u001b[0mshow\u001b[0m\u001b[0;34m(\u001b[0m\u001b[0;34m)\u001b[0m\u001b[0;34m\u001b[0m\u001b[0;34m\u001b[0m\u001b[0m\n",
      "\u001b[0;31mNameError\u001b[0m: name 'train' is not defined"
     ]
    }
   ],
   "source": [
    "sns.boxplot(train.fips, train.logerror)\n",
    "plt.title(\"is there a relationship between logerror and fips?\")\n",
    "plt.ylim(-1, 1)\n",
    "plt.show()"
   ]
  },
  {
   "cell_type": "code",
   "execution_count": null,
   "id": "fc0b17a6",
   "metadata": {},
   "outputs": [],
   "source": [
    "sns.scatterplot(train.fips, train.logerror, hue=train.taxvaluedollarcnt)\n",
    "plt.title(\"is there a relationship between logerror and fips?\")\n",
    "plt.show()"
   ]
  },
  {
   "cell_type": "code",
   "execution_count": null,
   "id": "3a3dd16a",
   "metadata": {},
   "outputs": [],
   "source": [
    "sns.scatterplot(y=train.taxvaluedollarcnt, x=train.logerror)\n",
    "plt.title(\"is there a relationship between logerror and fips?\")\n",
    "plt.show()"
   ]
  },
  {
   "cell_type": "code",
   "execution_count": null,
   "id": "e65208a3",
   "metadata": {},
   "outputs": [],
   "source": [
    "-cluster centers as points on a polynomial linear function\n"
   ]
  }
 ],
 "metadata": {
  "kernelspec": {
   "display_name": "Python 3.9.7 ('base')",
   "language": "python",
   "name": "python3"
  },
  "language_info": {
   "codemirror_mode": {
    "name": "ipython",
    "version": 3
   },
   "file_extension": ".py",
   "mimetype": "text/x-python",
   "name": "python",
   "nbconvert_exporter": "python",
   "pygments_lexer": "ipython3",
   "version": "3.9.7"
  },
  "vscode": {
   "interpreter": {
    "hash": "38cca0c38332a56087b24af0bc80247f4fced29cb4f7f437d91dc159adec9c4e"
   }
  }
 },
 "nbformat": 4,
 "nbformat_minor": 5
}
