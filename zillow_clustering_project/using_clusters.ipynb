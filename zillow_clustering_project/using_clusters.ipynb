{
 "cells": [
  {
   "cell_type": "markdown",
   "id": "fe23f889",
   "metadata": {},
   "source": [
    "- make your clusters\n",
    "- interpret these clusters:\n",
    "    - manually name these clusters\n",
    "    - important in customer segmentation, threat detection\n",
    "- option 2:\n",
    "    - dimensionality reduction: turn clusters into features(l*w)\n",
    "- option 3:\n",
    "    - turn clusters as labels:\n",
    "        - use cluster names as a target variable\n",
    "- option 4:\n",
    "        - model clusters individually\n",
    "            - different relationships can exist internally, and be different for different clusters\n",
    "            - curvilinear v. linear\n",
    "- option 5: maybe the clusters are not helpful. Try other features!"
   ]
  },
  {
   "cell_type": "markdown",
   "id": "9a326541",
   "metadata": {},
   "source": [
    "### Idea: use distance from centroid meaningfully"
   ]
  },
  {
   "cell_type": "markdown",
   "id": "a1c7ea1b",
   "metadata": {},
   "source": [
    "- Note: df.groupby().agg([]) is a great descriptive stats tool"
   ]
  },
  {
   "cell_type": "markdown",
   "id": "bc0554b0",
   "metadata": {},
   "source": [
    "- find the clusters with a scatter plot (sns.pairplot, then select best)\n",
    "- then use a secondary visual (boxplot, scatterplot, any breakout)\n",
    "- then a stats test"
   ]
  },
  {
   "cell_type": "markdown",
   "id": "3c67b15e",
   "metadata": {},
   "source": [
    "- handle outliers intelligently\n",
    "- cluster by: yearbuilt (pre/post 1963), county\n",
    "- my model should cluster, then use regression to predict logerror"
   ]
  },
  {
   "cell_type": "markdown",
   "id": "a1b3285e",
   "metadata": {},
   "source": [
    "## project timeline:\n",
    "- project due date: FRI/MON\n",
    "- what are the drivers of error in the zestimate?\n",
    "    - where is the high logerror?\n",
    "    - "
   ]
  }
 ],
 "metadata": {
  "kernelspec": {
   "display_name": "Python 3 (ipykernel)",
   "language": "python",
   "name": "python3"
  },
  "language_info": {
   "codemirror_mode": {
    "name": "ipython",
    "version": 3
   },
   "file_extension": ".py",
   "mimetype": "text/x-python",
   "name": "python",
   "nbconvert_exporter": "python",
   "pygments_lexer": "ipython3",
   "version": "3.9.7"
  }
 },
 "nbformat": 4,
 "nbformat_minor": 5
}
